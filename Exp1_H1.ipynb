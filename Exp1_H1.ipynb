{
 "cells": [
  {
   "cell_type": "markdown",
   "metadata": {},
   "source": [
    "# Experimento 1 - H1"
   ]
  },
  {
   "cell_type": "markdown",
   "metadata": {},
   "source": [
    "Experimento 1 - H1. Todas las comunidades, todos los niveles de intensificación."
   ]
  },
  {
   "cell_type": "code",
   "execution_count": 1,
   "metadata": {
    "collapsed": false
   },
   "outputs": [],
   "source": [
    "import numpy as np\n",
    "import math, os, random\n",
    "from scipy.integrate import odeint\n",
    "from copy import deepcopy"
   ]
  },
  {
   "cell_type": "code",
   "execution_count": 2,
   "metadata": {
    "collapsed": true
   },
   "outputs": [],
   "source": [
    "%run modelo.py"
   ]
  },
  {
   "cell_type": "markdown",
   "metadata": {},
   "source": [
    "## Comunidades"
   ]
  },
  {
   "cell_type": "code",
   "execution_count": 3,
   "metadata": {
    "collapsed": true
   },
   "outputs": [],
   "source": [
    "files = []\n",
    "with open('iteraciones.txt', 'r') as file:\n",
    "    rows = file.readlines()\n",
    "    for row in rows:\n",
    "        files.append([row[:20], int(row[-2])])"
   ]
  },
  {
   "cell_type": "code",
   "execution_count": 4,
   "metadata": {
    "collapsed": true
   },
   "outputs": [],
   "source": [
    "all_condiciones_iniciales = [np.loadtxt(\"./comunidades/\" + file[0][:20] + \"-c.txt\") for file in files]\n",
    "all_tasas_reproduccion = [np.loadtxt(\"./comunidades/\" + file[0][:20] + \"-v.txt\") for file in files]\n",
    "all_matriz_interacciones = [np.loadtxt(\"./comunidades/\" + file[0][:20] + '-m.txt') for file in files]"
   ]
  },
  {
   "cell_type": "code",
   "execution_count": 5,
   "metadata": {
    "collapsed": true
   },
   "outputs": [],
   "source": [
    "def modificar_matriz(m):\n",
    "    for i in range(10):\n",
    "        m[i][i] *= 25\n",
    "    return m\n",
    "\n",
    "def modificar_tasas(tasa):\n",
    "    tasa[tasa > 0] = tasa[tasa > 0] * 20\n",
    "    return tasa\n",
    "\n",
    "def modificar_condiciones0(c0):\n",
    "    c0 = c0 * 10\n",
    "    return c0"
   ]
  },
  {
   "cell_type": "code",
   "execution_count": 6,
   "metadata": {
    "collapsed": true
   },
   "outputs": [],
   "source": [
    "matriz_interacciones = deepcopy(all_matriz_interacciones)\n",
    "matriz_interacciones = [modificar_matriz(m) for m in matriz_interacciones]\n",
    "\n",
    "tasas_reproduccion = deepcopy(all_tasas_reproduccion)\n",
    "tasas_reproduccion = [modificar_tasas(tasa) for tasa in tasas_reproduccion]\n",
    "\n",
    "condiciones_iniciales = deepcopy(all_condiciones_iniciales)\n",
    "condiciones_iniciales = [modificar_condiciones0(c) for c in condiciones_iniciales]"
   ]
  },
  {
   "cell_type": "code",
   "execution_count": 7,
   "metadata": {
    "collapsed": false,
    "scrolled": true
   },
   "outputs": [],
   "source": [
    "random.seed(17)\n",
    "comunidades = random.sample(range(201), 100)"
   ]
  },
  {
   "cell_type": "markdown",
   "metadata": {},
   "source": [
    "## Parámetros iniciales"
   ]
  },
  {
   "cell_type": "code",
   "execution_count": 8,
   "metadata": {
    "collapsed": true
   },
   "outputs": [],
   "source": [
    "het = 1\n",
    "paisajes = np.load(\"paisajes_h{}.npy\".format(het))"
   ]
  },
  {
   "cell_type": "code",
   "execution_count": 9,
   "metadata": {
    "collapsed": false
   },
   "outputs": [],
   "source": [
    "Dispersion = {\"b\": 0.3,\n",
    "              \"m\": 1,\n",
    "              \"i\": 1}\n",
    "\n",
    "Mortalidad = {\"b\": 0,\n",
    "              \"m\": 0.2,\n",
    "              \"i\": 0.8}\n",
    "t_total = 100"
   ]
  },
  {
   "cell_type": "markdown",
   "metadata": {},
   "source": [
    "## Experimento"
   ]
  },
  {
   "cell_type": "code",
   "execution_count": 10,
   "metadata": {
    "collapsed": false
   },
   "outputs": [],
   "source": [
    "for c in comunidades:\n",
    "    res = [None] * len(paisajes)\n",
    "    for p in range(len(paisajes)):\n",
    "        res[p] = matriz_agroecologica(paisajes[p].tolist(),\n",
    "                                      matriz_interacciones[c], \n",
    "                                      tasas_reproduccion[c], \n",
    "                                      condiciones_iniciales[c],\n",
    "                                      t_total, \n",
    "                                      Dispersion,\n",
    "                                      Mortalidad, 4)\n",
    "        res[p] = res[p][-5:]\n",
    "        \n",
    "    res = np.array(res)\n",
    "    np.save(\"./datos/exp1c/exp1c_h{}_c{:03d}\".format(het, c), res)"
   ]
  },
  {
   "cell_type": "code",
   "execution_count": null,
   "metadata": {
    "collapsed": true
   },
   "outputs": [],
   "source": []
  }
 ],
 "metadata": {
  "kernelspec": {
   "display_name": "Python 3",
   "language": "python",
   "name": "python3"
  },
  "language_info": {
   "codemirror_mode": {
    "name": "ipython",
    "version": 3
   },
   "file_extension": ".py",
   "mimetype": "text/x-python",
   "name": "python",
   "nbconvert_exporter": "python",
   "pygments_lexer": "ipython3",
   "version": "3.5.2"
  }
 },
 "nbformat": 4,
 "nbformat_minor": 0
}
