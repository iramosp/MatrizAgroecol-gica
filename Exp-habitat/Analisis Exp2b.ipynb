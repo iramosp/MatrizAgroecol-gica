{
 "cells": [
  {
   "cell_type": "markdown",
   "metadata": {
    "deletable": true,
    "editable": true
   },
   "source": [
    "## Preliminares y funciones"
   ]
  },
  {
   "cell_type": "code",
   "execution_count": 1,
   "metadata": {
    "collapsed": true,
    "deletable": true,
    "editable": true
   },
   "outputs": [],
   "source": [
    "import numpy as np\n",
    "import seaborn, os\n",
    "from matplotlib import pyplot as plt\n",
    "import matplotlib.gridspec as gridspec\n",
    "import scipy.stats as stats"
   ]
  },
  {
   "cell_type": "code",
   "execution_count": 2,
   "metadata": {
    "collapsed": true,
    "deletable": true,
    "editable": true
   },
   "outputs": [],
   "source": [
    "%run ../medidas_biodiversidad.py"
   ]
  },
  {
   "cell_type": "code",
   "execution_count": 3,
   "metadata": {
    "collapsed": true,
    "deletable": true,
    "editable": true
   },
   "outputs": [],
   "source": [
    "np.set_printoptions(precision=4, suppress=True)"
   ]
  },
  {
   "cell_type": "code",
   "execution_count": 4,
   "metadata": {
    "collapsed": true,
    "deletable": true,
    "editable": true
   },
   "outputs": [],
   "source": [
    "%matplotlib inline\n",
    "plt.style.use('seaborn-whitegrid')\n",
    "seaborn.set_palette(\"deep\", color_codes=True)\n",
    "plt.rcParams['axes.labelsize'] = 15\n",
    "plt.rcParams['axes.titlesize'] = 15\n",
    "plt.rcParams['figure.figsize'] = (7.5, 6)\n",
    "plt.rcParams['font.family'] = ['serif']\n",
    "plt.rcParams['font.size'] = 14\n",
    "plt.rcParams['legend.fontsize'] = 13\n",
    "plt.rcParams['xtick.labelsize'] = 13\n",
    "plt.rcParams['ytick.labelsize'] = 13"
   ]
  },
  {
   "cell_type": "code",
   "execution_count": 5,
   "metadata": {
    "collapsed": true,
    "deletable": true,
    "editable": true
   },
   "outputs": [],
   "source": [
    "def leer_datos(het):\n",
    "    files = os.listdir(\"../datos/exp2b\")\n",
    "    files.sort()\n",
    "    files = list(filter(lambda x: x[7] == het, files))\n",
    "    \n",
    "    datos = [np.load(\"../datos/exp2b/\" + file) for file in files]\n",
    "    comunidad = [file[10:13] for file in files]\n",
    "    \n",
    "    return datos, comunidad"
   ]
  },
  {
   "cell_type": "code",
   "execution_count": 6,
   "metadata": {
    "collapsed": true,
    "deletable": true,
    "editable": true
   },
   "outputs": [],
   "source": [
    "def calcular_promedio(riquezas):\n",
    "    \"\"\"Recibe datos de riqueza.\n",
    "    \"\"\"\n",
    "    promedios = np.zeros(10)\n",
    "    std = np.zeros(10)\n",
    "    median = np.zeros(10)\n",
    "    for i in range(10):\n",
    "        promedios[i] = np.mean(riquezas[:, i])\n",
    "        std[i] = np.std(riquezas[:, i])\n",
    "        median[i] = np.median(riquezas[:, i])\n",
    "    return promedios, std, median"
   ]
  },
  {
   "cell_type": "markdown",
   "metadata": {
    "deletable": true,
    "editable": true
   },
   "source": [
    "## Leer datos, calcular riqueza"
   ]
  },
  {
   "cell_type": "code",
   "execution_count": 7,
   "metadata": {
    "collapsed": false,
    "deletable": true,
    "editable": true
   },
   "outputs": [],
   "source": [
    "datos = np.zeros((5, 100, 10, 6, 10, 10, 10)) # het, comunidad, intensificación, tiempo, x, y, especies\n",
    "for het in range(5):\n",
    "    datos[het] = leer_datos(str(het))[0]"
   ]
  },
  {
   "cell_type": "code",
   "execution_count": 8,
   "metadata": {
    "collapsed": true,
    "deletable": true,
    "editable": true
   },
   "outputs": [],
   "source": [
    "riqueza_total = np.zeros((5, 100, 10)) # het, comunidad, intensificación\n",
    "\n",
    "for het in range(5):\n",
    "    for comunidad in range(len(datos[het])):\n",
    "        for intensificacion in range(len(datos[het, comunidad])):\n",
    "            riqueza_total[het, comunidad, intensificacion] = riqueza_paisaje(\n",
    "                                                    datos[het, comunidad, intensificacion, ...],\n",
    "                                                    t=-1, biomasa_min = 80)[1]"
   ]
  },
  {
   "cell_type": "code",
   "execution_count": 9,
   "metadata": {
    "collapsed": false,
    "deletable": true,
    "editable": true
   },
   "outputs": [
    {
     "data": {
      "text/plain": [
       "32"
      ]
     },
     "execution_count": 9,
     "metadata": {},
     "output_type": "execute_result"
    }
   ],
   "source": [
    "# contar cuántas comunidades no tuvieron cambios en niveles de intensificación\n",
    "count = 0\n",
    "con_cambios = []\n",
    "for het in [2]:\n",
    "    for c in range(100):\n",
    "        if riqueza_total[het][c, 0] != riqueza_total[het][c, 9]:\n",
    "            count += 1\n",
    "            con_cambios.append(c)\n",
    "100-count"
   ]
  },
  {
   "cell_type": "code",
   "execution_count": 10,
   "metadata": {
    "collapsed": true,
    "deletable": true,
    "editable": true
   },
   "outputs": [],
   "source": [
    "#np.save('./con_cambios', con_cambios)\n",
    "con_cambios = np.load('con_cambios.npy')"
   ]
  },
  {
   "cell_type": "code",
   "execution_count": 11,
   "metadata": {
    "collapsed": true,
    "deletable": true,
    "editable": true
   },
   "outputs": [],
   "source": [
    "riqueza_total_mean = np.zeros((5, 10)) # het, intensificación\n",
    "riqueza_total_sd = np.zeros((5, 10))\n",
    "riqueza_total_median = np.zeros((5, 10))\n",
    "\n",
    "\n",
    "for het in range(5):\n",
    "    riqueza_total_mean[het], riqueza_total_sd[het], riqueza_total_median[het] = calcular_promedio(riqueza_total[het, con_cambios, :])"
   ]
  },
  {
   "cell_type": "markdown",
   "metadata": {
    "deletable": true,
    "editable": true,
    "heading_collapsed": true
   },
   "source": [
    "## Graficar\n"
   ]
  },
  {
   "cell_type": "code",
   "execution_count": 16,
   "metadata": {
    "collapsed": true,
    "deletable": true,
    "editable": true,
    "hidden": true
   },
   "outputs": [],
   "source": [
    "def graficar(medida, promedios, sd):\n",
    "    \"\"\"Graficar promedios de una medida de biodiversidad con curva ajustada ponderada.\n",
    "    \"\"\"\n",
    "    y = [None] * 5\n",
    "    res = [None] * 5\n",
    "    p = [None] * 5\n",
    "    r2 = [None] * 5\n",
    "\n",
    "    x = np.linspace(0, 9, 100)\n",
    "    xdata = np.array(range(10))\n",
    "    xlabels = np.array(range(10)) * 10 \n",
    "\n",
    "    puntos = [\"o\", \"p\", \"d\", \"v\", \"s\"]\n",
    "    colors = ['#E6852B', '#23B823', '#9BA7F5','#697CF5','#2F3E9D']\n",
    "\n",
    "    for het in range(4, -1, -1):\n",
    "        res[het] = np.polyfit(xdata, promedios[het], 2)\n",
    "        p[het] = np.poly1d(res[het])\n",
    "        r2[het] = 1 - ((np.sum((p[het](range(10)) - promedios[het])**2)) / (np.sum((promedios[het] - np.mean(promedios[het]))**2)))\n",
    "        \n",
    "    fig = plt.figure()\n",
    "\n",
    "    for het in range(4, -1, -1):\n",
    "        y[het] = p[het](x)\n",
    "        label = '{} \\n $y = {:+.3f} x^2 {:+.3f} x {:+.3f}$ \\n $R^2={:.4f}$ '.format(\n",
    "                 het, float(p[het][2]), float(p[het][1]), float(p[het][0]), float(r2[het]))\n",
    "        \n",
    "        plt.plot(x, y[het], lw = 4, color= colors[het], label='{}'.format(label)) #fit\n",
    "        plt.plot(xdata, promedios[het], 'o', color= colors[het]) #data points\n",
    "\n",
    "    plt.ylim(-0.05)\n",
    "    plt.xlim(-0.1, 9.1)\n",
    "    plt.xticks(xdata, xlabels)\n",
    "    plt.xlabel(\"% low quality patches\")\n",
    "    plt.ylabel('Mean richness')\n",
    "    plt.title(\"Species richness decline in 30%-habitat landscapes\")\n",
    "    plt.legend(loc='center left', title=\"heterogeneity\", bbox_to_anchor=(1, 0.5))\n",
    "    plt.tight_layout()"
   ]
  },
  {
   "cell_type": "code",
   "execution_count": 18,
   "metadata": {
    "collapsed": true,
    "deletable": true,
    "editable": true,
    "hidden": true
   },
   "outputs": [],
   "source": [
    "def graficar_histogramas(medida, ylim):\n",
    "    '''Graficar histogramas en heterogeneidad 4, 1, 0; intensificación 0, 3, 6, 9.\n",
    "    '''\n",
    "    bins = 11\n",
    "    hrange=(0, 11)\n",
    "    fig = plt.figure(figsize=(11, 8))\n",
    "    palette = ['Blues_r', 'Greens_r', 'Oranges_r']\n",
    "    gs = gridspec.GridSpec(3, 4)\n",
    "    gs.update(wspace=0.04)\n",
    "    for i, het in enumerate([4, 1, 0]):\n",
    "        colors = seaborn.color_palette(palette[i], 5)\n",
    "        for j, intensification in enumerate([0, 3, 6, 9]):\n",
    "            ax = plt.subplot(gs[i, j])\n",
    "            plt.hist(np.array(medida)[het, :, intensification], bins, range=hrange, color=colors[j], \n",
    "                         label='{}, {}'.format(het, intensification), width=1, align='left');\n",
    "            plt.ylim(0, ylim);\n",
    "            plt.xlim(-0.5, 10.5)\n",
    "            plt.setp(ax.get_xticklabels(), size=9)\n",
    "            plt.setp(ax.get_yticklabels(), visible=(intensification==0), size=11)\n",
    "            plt.setp(ax.get_xgridlines(), visible=False)\n",
    "            plt.box()\n",
    "    plt.savefig('figS3.png', dpi=300, bbox_inches='tight')"
   ]
  },
  {
   "cell_type": "code",
   "execution_count": 14,
   "metadata": {
    "collapsed": false,
    "deletable": true,
    "editable": true,
    "hidden": true
   },
   "outputs": [
    {
     "data": {
      "text/plain": [
       "(5, 100, 10)"
      ]
     },
     "execution_count": 14,
     "metadata": {},
     "output_type": "execute_result"
    }
   ],
   "source": [
    "np.shape(riqueza_total)"
   ]
  },
  {
   "cell_type": "markdown",
   "metadata": {
    "deletable": true,
    "editable": true,
    "heading_collapsed": true
   },
   "source": [
    "## Resultados"
   ]
  },
  {
   "cell_type": "code",
   "execution_count": 19,
   "metadata": {
    "collapsed": false,
    "deletable": true,
    "editable": true,
    "hidden": true
   },
   "outputs": [
    {
     "data": {
      "image/png": "[encoded data removed]",
      "text/plain": [
       "<matplotlib.figure.Figure at 0x2a2d3cdc978>"
      ]
     },
     "metadata": {},
     "output_type": "display_data"
    }
   ],
   "source": [
    "graficar_histogramas(riqueza_total[:, con_cambios, :], ylim=28)"
   ]
  },
  {
   "cell_type": "code",
   "execution_count": 17,
   "metadata": {
    "collapsed": false,
    "deletable": true,
    "editable": true,
    "hidden": true
   },
   "outputs": [
    {
     "data": {
      "image/png": "[encoded data removed]",
      "text/plain": [
       "<matplotlib.figure.Figure at 0x2a2d2fa6240>"
      ]
     },
     "metadata": {},
     "output_type": "display_data"
    }
   ],
   "source": [
    "graficar('Species richness', riqueza_total_mean, riqueza_total_sd)"
   ]
  },
  {
   "cell_type": "markdown",
   "metadata": {
    "deletable": true,
    "editable": true
   },
   "source": [
    "## Identifying significant differences in richness\n",
    "\n",
    "Note: shape of `biodiversity_measure` is `[heterogeneity, communities, intensification]`."
   ]
  },
  {
   "cell_type": "markdown",
   "metadata": {
    "deletable": true,
    "editable": true
   },
   "source": [
    "### Do data distribute normally?\n",
    "\n",
    "We use Shapiro-Wilk test. Null hypothesis is that data subsets came from a normally distributed population.\n",
    "\n",
    "**Result:** Data subsets don't follow a normal distribution. "
   ]
  },
  {
   "cell_type": "code",
   "execution_count": 51,
   "metadata": {
    "collapsed": false,
    "deletable": true,
    "editable": true
   },
   "outputs": [
    {
     "name": "stdout",
     "output_type": "stream",
     "text": [
      "H0, i0, p= 0.0095, ---NOT NORMAL---\n",
      "H0, i1, p= 0.0095, ---NOT NORMAL---\n",
      "H0, i2, p= 0.0095, ---NOT NORMAL---\n",
      "H0, i3, p= 0.0101, ---NOT NORMAL---\n",
      "H0, i4, p= 0.0111, ---NOT NORMAL---\n",
      "H0, i5, p= 0.0065, ---NOT NORMAL---\n",
      "H0, i6, p= 0.0072, ---NOT NORMAL---\n",
      "H0, i7, p= 0.0055, ---NOT NORMAL---\n",
      "H0, i8, p= 0.0055, ---NOT NORMAL---\n",
      "H0, i9, p= 0.0031, ---NOT NORMAL---\n",
      "H1, i0, p= 0.0090, ---NOT NORMAL---\n",
      "H1, i1, p= 0.0060, ---NOT NORMAL---\n",
      "H1, i2, p= 0.0020, ---NOT NORMAL---\n",
      "H1, i3, p= 0.0025, ---NOT NORMAL---\n",
      "H1, i4, p= 0.0056, ---NOT NORMAL---\n",
      "H1, i5, p= 0.0044, ---NOT NORMAL---\n",
      "H1, i6, p= 0.0034, ---NOT NORMAL---\n",
      "H1, i7, p= 0.0019, ---NOT NORMAL---\n",
      "H1, i8, p= 0.0015, ---NOT NORMAL---\n",
      "H1, i9, p= 0.0011, ---NOT NORMAL---\n",
      "H2, i0, p= 0.0021, ---NOT NORMAL---\n",
      "H2, i1, p= 0.0045, ---NOT NORMAL---\n",
      "H2, i2, p= 0.0040, ---NOT NORMAL---\n",
      "H2, i3, p= 0.0015, ---NOT NORMAL---\n",
      "H2, i4, p= 0.0017, ---NOT NORMAL---\n",
      "H2, i5, p= 0.0031, ---NOT NORMAL---\n",
      "H2, i6, p= 0.0041, ---NOT NORMAL---\n",
      "H2, i7, p= 0.0036, ---NOT NORMAL---\n",
      "H2, i8, p= 0.0047, ---NOT NORMAL---\n",
      "H2, i9, p= 0.0029, ---NOT NORMAL---\n",
      "H3, i0, p= 0.0030, ---NOT NORMAL---\n",
      "H3, i1, p= 0.0040, ---NOT NORMAL---\n",
      "H3, i2, p= 0.0043, ---NOT NORMAL---\n",
      "H3, i3, p= 0.0017, ---NOT NORMAL---\n",
      "H3, i4, p= 0.0031, ---NOT NORMAL---\n",
      "H3, i5, p= 0.0027, ---NOT NORMAL---\n",
      "H3, i6, p= 0.0050, ---NOT NORMAL---\n",
      "H3, i7, p= 0.0030, ---NOT NORMAL---\n",
      "H3, i8, p= 0.0033, ---NOT NORMAL---\n",
      "H3, i9, p= 0.0021, ---NOT NORMAL---\n",
      "H4, i0, p= 0.0030, ---NOT NORMAL---\n",
      "H4, i1, p= 0.0040, ---NOT NORMAL---\n",
      "H4, i2, p= 0.0053, ---NOT NORMAL---\n",
      "H4, i3, p= 0.0017, ---NOT NORMAL---\n",
      "H4, i4, p= 0.0031, ---NOT NORMAL---\n",
      "H4, i5, p= 0.0027, ---NOT NORMAL---\n",
      "H4, i6, p= 0.0045, ---NOT NORMAL---\n",
      "H4, i7, p= 0.0039, ---NOT NORMAL---\n",
      "H4, i8, p= 0.0032, ---NOT NORMAL---\n",
      "H4, i9, p= 0.0022, ---NOT NORMAL---\n"
     ]
    }
   ],
   "source": [
    "for het in range(5):\n",
    "    for i in range(10):\n",
    "        res = 'normal'\n",
    "        \n",
    "        data = riqueza_total[het, con_cambios, i]\n",
    "        \n",
    "        pvalue = stats.shapiro(data)[1]\n",
    "        if pvalue <= 0.05:\n",
    "            res = '---NOT NORMAL---'\n",
    "        print('H{}, i{}, p= {:.4f}, {}'.format(het, i, pvalue, res))"
   ]
  },
  {
   "cell_type": "markdown",
   "metadata": {
    "deletable": true,
    "editable": true
   },
   "source": [
    "However, using D'Agostino and Pearson's omnibus test, data subsets are normal. Again, null hypothesis is that data subsets came from a normally distributed population."
   ]
  },
  {
   "cell_type": "code",
   "execution_count": 52,
   "metadata": {
    "collapsed": false,
    "deletable": true,
    "editable": true
   },
   "outputs": [
    {
     "name": "stdout",
     "output_type": "stream",
     "text": [
      "H0, i0, p= 0.4933, normal\n",
      "H0, i1, p= 0.4933, normal\n",
      "H0, i2, p= 0.4933, normal\n",
      "H0, i3, p= 0.5425, normal\n",
      "H0, i4, p= 0.4867, normal\n",
      "H0, i5, p= 0.4367, normal\n",
      "H0, i6, p= 0.3731, normal\n",
      "H0, i7, p= 0.3233, normal\n",
      "H0, i8, p= 0.3233, normal\n",
      "H0, i9, p= 0.1766, normal\n",
      "H1, i0, p= 0.6088, normal\n",
      "H1, i1, p= 0.3162, normal\n",
      "H1, i2, p= 0.0750, normal\n",
      "H1, i3, p= 0.1136, normal\n",
      "H1, i4, p= 0.2353, normal\n",
      "H1, i5, p= 0.1872, normal\n",
      "H1, i6, p= 0.1610, normal\n",
      "H1, i7, p= 0.2406, normal\n",
      "H1, i8, p= 0.2202, normal\n",
      "H1, i9, p= 0.1850, normal\n",
      "H2, i0, p= 0.1064, normal\n",
      "H2, i1, p= 0.2288, normal\n",
      "H2, i2, p= 0.1453, normal\n",
      "H2, i3, p= 0.2021, normal\n",
      "H2, i4, p= 0.1775, normal\n",
      "H2, i5, p= 0.4139, normal\n",
      "H2, i6, p= 0.3348, normal\n",
      "H2, i7, p= 0.2417, normal\n",
      "H2, i8, p= 0.1180, normal\n",
      "H2, i9, p= 0.0430, ---NOT NORMAL---\n",
      "H3, i0, p= 0.1347, normal\n",
      "H3, i1, p= 0.1453, normal\n",
      "H3, i2, p= 0.3294, normal\n",
      "H3, i3, p= 0.1961, normal\n",
      "H3, i4, p= 0.4139, normal\n",
      "H3, i5, p= 0.1997, normal\n",
      "H3, i6, p= 0.2497, normal\n",
      "H3, i7, p= 0.0274, ---NOT NORMAL---\n",
      "H3, i8, p= 0.0249, ---NOT NORMAL---\n",
      "H3, i9, p= 0.0092, ---NOT NORMAL---\n",
      "H4, i0, p= 0.1347, normal\n",
      "H4, i1, p= 0.1453, normal\n",
      "H4, i2, p= 0.3340, normal\n",
      "H4, i3, p= 0.1775, normal\n",
      "H4, i4, p= 0.4139, normal\n",
      "H4, i5, p= 0.1997, normal\n",
      "H4, i6, p= 0.2134, normal\n",
      "H4, i7, p= 0.0406, ---NOT NORMAL---\n",
      "H4, i8, p= 0.0274, ---NOT NORMAL---\n",
      "H4, i9, p= 0.0237, ---NOT NORMAL---\n"
     ]
    }
   ],
   "source": [
    "for het in range(5):\n",
    "    for i in range(10):\n",
    "        res = 'normal'\n",
    "        \n",
    "        data = riqueza_total[het, con_cambios, i]\n",
    "        \n",
    "        pvalue = stats.normaltest(data)[1]\n",
    "        if pvalue <= 0.05:\n",
    "            res = '---NOT NORMAL---'\n",
    "        print('H{}, i{}, p= {:.4f}, {}'.format(het, i, pvalue, res))"
   ]
  },
  {
   "cell_type": "markdown",
   "metadata": {
    "deletable": true,
    "editable": true
   },
   "source": [
    "Do data have the same variance?\n",
    "\n",
    "We use Levene test, which does not assume normality. Null hypothesis is that population variances are equal. In particular, we want to know whether data subsets from all heterogeneity levels have the same variance at each intensification level.\n",
    "\n",
    "**Result:** At each intensification level, richness from all heterogeneity levels has equal variance."
   ]
  },
  {
   "cell_type": "code",
   "execution_count": 53,
   "metadata": {
    "collapsed": false,
    "deletable": true,
    "editable": true
   },
   "outputs": [
    {
     "name": "stdout",
     "output_type": "stream",
     "text": [
      "i0, pvalue=0.9972, equal std\n",
      "i1, pvalue=0.9865, equal std\n",
      "i2, pvalue=0.9799, equal std\n",
      "i3, pvalue=0.9767, equal std\n",
      "i4, pvalue=0.9973, equal std\n",
      "i5, pvalue=0.8775, equal std\n",
      "i6, pvalue=0.4702, equal std\n",
      "i7, pvalue=0.2305, equal std\n",
      "i8, pvalue=0.1699, equal std\n",
      "i9, pvalue=0.0445, ---std NOT EQUAL---\n"
     ]
    }
   ],
   "source": [
    "# Richness\n",
    "for i in range(10):\n",
    "    equal_std = 'equal std'\n",
    "    pvalue = stats.levene(riqueza_total[0, con_cambios, i],\n",
    "                          riqueza_total[1, con_cambios, i],\n",
    "                          riqueza_total[2, con_cambios, i],\n",
    "                          riqueza_total[3, con_cambios, i],\n",
    "                          riqueza_total[4, con_cambios, i], center='median')[1]\n",
    "    if pvalue <=0.05:\n",
    "        equal_std = '---std NOT EQUAL---'\n",
    "    print('i{}, pvalue={:.4f}, {}'.format(i, pvalue, equal_std))"
   ]
  },
  {
   "cell_type": "markdown",
   "metadata": {
    "deletable": true,
    "editable": true
   },
   "source": [
    "We get the same results using Bartlett test."
   ]
  },
  {
   "cell_type": "code",
   "execution_count": 54,
   "metadata": {
    "collapsed": false,
    "deletable": true,
    "editable": true
   },
   "outputs": [
    {
     "name": "stdout",
     "output_type": "stream",
     "text": [
      "i0, pvalue=1.0000, equal std\n",
      "i1, pvalue=0.9994, equal std\n",
      "i2, pvalue=0.9950, equal std\n",
      "i3, pvalue=0.9969, equal std\n",
      "i4, pvalue=0.9918, equal std\n",
      "i5, pvalue=0.9448, equal std\n",
      "i6, pvalue=0.6144, equal std\n",
      "i7, pvalue=0.4127, equal std\n",
      "i8, pvalue=0.3850, equal std\n",
      "i9, pvalue=0.2066, equal std\n"
     ]
    }
   ],
   "source": [
    "for i in range(10):\n",
    "    equal_std = 'equal std'\n",
    "    pvalue = stats.bartlett(riqueza_total[0, con_cambios, i],\n",
    "                          riqueza_total[1, con_cambios, i],\n",
    "                          riqueza_total[2, con_cambios, i],\n",
    "                          riqueza_total[3, con_cambios, i],\n",
    "                          riqueza_total[4, con_cambios, i],)[1]\n",
    "    if pvalue <=0.05:\n",
    "        equal_std = '---std NOT EQUAL---'\n",
    "    print('i{}, pvalue={:.4f}, {}'.format(i, pvalue, equal_std))"
   ]
  },
  {
   "cell_type": "markdown",
   "metadata": {
    "deletable": true,
    "editable": true
   },
   "source": [
    "*Extra:* Do data from each heterogeneity level have same variance across the intensification gradient?\n",
    "\n",
    "**Result:** Yes"
   ]
  },
  {
   "cell_type": "code",
   "execution_count": 55,
   "metadata": {
    "collapsed": false,
    "deletable": true,
    "editable": true
   },
   "outputs": [
    {
     "name": "stdout",
     "output_type": "stream",
     "text": [
      "h0, pvalue=1.0000, equal std\n",
      "h1, pvalue=0.9999, equal std\n",
      "h2, pvalue=0.4856, equal std\n",
      "h3, pvalue=0.2367, equal std\n",
      "h4, pvalue=0.4384, equal std\n"
     ]
    }
   ],
   "source": [
    "for het in range(5):\n",
    "    equal_std = 'equal std'\n",
    "    pvalue = stats.levene(riqueza_total[het, con_cambios, 0],\n",
    "                      riqueza_total[het, con_cambios, 1],\n",
    "                      riqueza_total[het, con_cambios, 2],\n",
    "                      riqueza_total[het, con_cambios, 3],\n",
    "                      riqueza_total[het, con_cambios, 4],\n",
    "                      riqueza_total[het, con_cambios, 5],\n",
    "                      riqueza_total[het, con_cambios, 6],\n",
    "                      riqueza_total[het, con_cambios, 7],\n",
    "                      riqueza_total[het, con_cambios, 8],\n",
    "                      riqueza_total[het, con_cambios, 9], center='median')[1]\n",
    "    if pvalue <=0.05:\n",
    "        equal_std = '---std NOT EQUAL---'\n",
    "    print('h{}, pvalue={:.4f}, {}'.format(het, pvalue, equal_std))"
   ]
  },
  {
   "cell_type": "markdown",
   "metadata": {
    "deletable": true,
    "editable": true
   },
   "source": [
    "### Differences between heterogeneity levels\n",
    "\n",
    "We use Kruskal test to identify significant differences in biodiversity between heterogeneity levels at each level of intensification. Null hypothesis is that population medians are equal.\n",
    "\n",
    "There is no significant difference between heterogeneity levels 4, 3 and 2. "
   ]
  },
  {
   "cell_type": "code",
   "execution_count": 56,
   "metadata": {
    "collapsed": false,
    "deletable": true,
    "editable": true
   },
   "outputs": [
    {
     "name": "stdout",
     "output_type": "stream",
     "text": [
      "i0, pvalue=0.9902, no difference\n",
      "i1, pvalue=0.9872, no difference\n",
      "i2, pvalue=0.9969, no difference\n",
      "i3, pvalue=0.8443, no difference\n",
      "i4, pvalue=0.7609, no difference\n",
      "i5, pvalue=0.8325, no difference\n",
      "i6, pvalue=0.4989, no difference\n",
      "i7, pvalue=0.4242, no difference\n",
      "i8, pvalue=0.5728, no difference\n",
      "i9, pvalue=0.3456, no difference\n"
     ]
    }
   ],
   "source": [
    "# Richness\n",
    "for i in range(10):\n",
    "    res = 'no difference'\n",
    "    pvalue = stats.kruskal(riqueza_total[4, con_cambios, i],\n",
    "                           riqueza_total[3, con_cambios, i],\n",
    "                           riqueza_total[2, con_cambios, i])[1]\n",
    "    if pvalue <=0.05:\n",
    "        res = '---DIFFERENT---'\n",
    "    print('i{}, pvalue={:.4f}, {}'.format(i, pvalue, res))"
   ]
  },
  {
   "cell_type": "markdown",
   "metadata": {
    "deletable": true,
    "editable": true
   },
   "source": [
    "Given that data don't seem to differ significantly from normality, we can use ANOVA tests. In this case, null hyphotesis is that group means are equal. We get similar results: There is no significant difference between heterogeneity levels 4, 3 and 2, except at lowest intensification. "
   ]
  },
  {
   "cell_type": "code",
   "execution_count": 57,
   "metadata": {
    "collapsed": false,
    "deletable": true,
    "editable": true
   },
   "outputs": [
    {
     "name": "stdout",
     "output_type": "stream",
     "text": [
      "i0, pvalue=0.9934, no difference\n",
      "i1, pvalue=0.9859, no difference\n",
      "i2, pvalue=0.9894, no difference\n",
      "i3, pvalue=0.8417, no difference\n",
      "i4, pvalue=0.7453, no difference\n",
      "i5, pvalue=0.8636, no difference\n",
      "i6, pvalue=0.4525, no difference\n",
      "i7, pvalue=0.4451, no difference\n",
      "i8, pvalue=0.6086, no difference\n",
      "i9, pvalue=0.3570, no difference\n"
     ]
    }
   ],
   "source": [
    "# Richness\n",
    "for i in range(10):\n",
    "    res = 'no difference'\n",
    "    pvalue = stats.f_oneway(riqueza_total[4, con_cambios, i],\n",
    "                           riqueza_total[3, con_cambios, i],\n",
    "                           riqueza_total[2, con_cambios, i])[1]\n",
    "    if pvalue <=0.05:\n",
    "        res = '---DIFFERENT---'\n",
    "    print('i{}, pvalue={:.4f}, {}'.format(i, pvalue, res))"
   ]
  },
  {
   "cell_type": "markdown",
   "metadata": {
    "deletable": true,
    "editable": true
   },
   "source": [
    "Heterogeneity levels 4 (highest) and 0 (lowest) are significantly different at all intensification levels."
   ]
  },
  {
   "cell_type": "code",
   "execution_count": 58,
   "metadata": {
    "collapsed": false,
    "deletable": true,
    "editable": true
   },
   "outputs": [
    {
     "name": "stdout",
     "output_type": "stream",
     "text": [
      "i0, pvalue=0.5376, no difference\n",
      "i1, pvalue=0.2873, no difference\n",
      "i2, pvalue=0.2734, no difference\n",
      "i3, pvalue=0.0644, no difference\n",
      "i4, pvalue=0.0119, ---DIFFERENT---\n",
      "i5, pvalue=0.0041, ---DIFFERENT---\n",
      "i6, pvalue=0.0008, ---DIFFERENT---\n",
      "i7, pvalue=0.0001, ---DIFFERENT---\n",
      "i8, pvalue=0.0000, ---DIFFERENT---\n",
      "i9, pvalue=0.0000, ---DIFFERENT---\n"
     ]
    }
   ],
   "source": [
    "# Richness\n",
    "for i in range(10):\n",
    "    res = 'no difference'\n",
    "    pvalue = stats.kruskal(riqueza_total[4, con_cambios, i],\n",
    "                           riqueza_total[0, con_cambios, i])[1]\n",
    "    if pvalue <=0.05:\n",
    "        res = '---DIFFERENT---'\n",
    "    print('i{}, pvalue={:.4f}, {}'.format(i, pvalue, res))"
   ]
  },
  {
   "cell_type": "markdown",
   "metadata": {
    "deletable": true,
    "editable": true
   },
   "source": [
    "We get the same results using ANOVA."
   ]
  },
  {
   "cell_type": "code",
   "execution_count": 59,
   "metadata": {
    "collapsed": false,
    "deletable": true,
    "editable": true
   },
   "outputs": [
    {
     "name": "stdout",
     "output_type": "stream",
     "text": [
      "i0, pvalue=0.4894, no difference\n",
      "i1, pvalue=0.2428, no difference\n",
      "i2, pvalue=0.2124, no difference\n",
      "i3, pvalue=0.0421, ---DIFFERENT---\n",
      "i4, pvalue=0.0068, ---DIFFERENT---\n",
      "i5, pvalue=0.0022, ---DIFFERENT---\n",
      "i6, pvalue=0.0003, ---DIFFERENT---\n",
      "i7, pvalue=0.0000, ---DIFFERENT---\n",
      "i8, pvalue=0.0000, ---DIFFERENT---\n",
      "i9, pvalue=0.0000, ---DIFFERENT---\n"
     ]
    }
   ],
   "source": [
    "for i in range(10):\n",
    "    res = 'no difference'\n",
    "    pvalue = stats.f_oneway(riqueza_total[4, con_cambios, i],\n",
    "                            riqueza_total[0, con_cambios, i])[1]\n",
    "    if pvalue <=0.05:\n",
    "        res = '---DIFFERENT---'\n",
    "    print('i{}, pvalue={:.4f}, {}'.format(i, pvalue, res))"
   ]
  },
  {
   "cell_type": "markdown",
   "metadata": {
    "deletable": true,
    "editable": true
   },
   "source": [
    "At what intensification levels are heterogeneity levels 4, 1 and 0 different from each other? This is, at what intensification levels is het1 different from het4 and from het0? "
   ]
  },
  {
   "cell_type": "code",
   "execution_count": 60,
   "metadata": {
    "collapsed": false,
    "deletable": true,
    "editable": true
   },
   "outputs": [
    {
     "name": "stdout",
     "output_type": "stream",
     "text": [
      "i0, pvalue_14= 0.6083, pvalue_10= 0.9156, -\n",
      "i1, pvalue_14= 0.5017, pvalue_10= 0.6883, -\n",
      "i2, pvalue_14= 0.6771, pvalue_10= 0.4918, -\n",
      "i3, pvalue_14= 0.2692, pvalue_10= 0.4500, -\n",
      "i4, pvalue_14= 0.1072, pvalue_10= 0.3513, -\n",
      "i5, pvalue_14= 0.0584, pvalue_10= 0.3264, -\n",
      "i6, pvalue_14= 0.0171, pvalue_10= 0.3123, -\n",
      "i7, pvalue_14= 0.0056, pvalue_10= 0.2095, -\n",
      "i8, pvalue_14= 0.0028, pvalue_10= 0.1076, -\n",
      "i9, pvalue_14= 0.0011, pvalue_10= 0.1127, -\n"
     ]
    }
   ],
   "source": [
    "# Richness\n",
    "for i in range(10):\n",
    "    res = '-'\n",
    "    pvalue_14 = stats.kruskal(riqueza_total[4, con_cambios, i],\n",
    "                               riqueza_total[1, con_cambios, i])[1]\n",
    "    \n",
    "    pvalue_10 = stats.kruskal(riqueza_total[0, con_cambios, i],\n",
    "                               riqueza_total[1, con_cambios, i])[1]\n",
    "    if pvalue_14 <=0.05 and pvalue_10 <= 0.05:\n",
    "        res = '---DIFFERENT---'\n",
    "    print('i{}, pvalue_14= {:.4f}, pvalue_10= {:.4f}, {}'.format(i, pvalue_14, pvalue_10, res))"
   ]
  },
  {
   "cell_type": "markdown",
   "metadata": {
    "deletable": true,
    "editable": true
   },
   "source": [
    "With ANOVA:"
   ]
  },
  {
   "cell_type": "code",
   "execution_count": 61,
   "metadata": {
    "collapsed": false,
    "deletable": true,
    "editable": true
   },
   "outputs": [
    {
     "name": "stdout",
     "output_type": "stream",
     "text": [
      "i0, pvalue_14=0.5510, pvalue_10=0.9213, -\n",
      "i1, pvalue_14=0.4626, pvalue_10=0.6569, -\n",
      "i2, pvalue_14=0.6314, pvalue_10=0.4332, -\n",
      "i3, pvalue_14=0.2238, pvalue_10=0.4001, -\n",
      "i4, pvalue_14=0.0849, pvalue_10=0.3034, -\n",
      "i5, pvalue_14=0.0418, pvalue_10=0.2983, -\n",
      "i6, pvalue_14=0.0085, pvalue_10=0.2774, -\n",
      "i7, pvalue_14=0.0033, pvalue_10=0.1688, -\n",
      "i8, pvalue_14=0.0018, pvalue_10=0.0856, -\n",
      "i9, pvalue_14=0.0006, pvalue_10=0.0940, -\n"
     ]
    }
   ],
   "source": [
    "# Richness\n",
    "for i in range(10):\n",
    "    res = '-'\n",
    "    pvalue_14 = stats.f_oneway(riqueza_total[4, con_cambios, i],\n",
    "                               riqueza_total[1, con_cambios, i])[1]\n",
    "    \n",
    "    pvalue_10 = stats.f_oneway(riqueza_total[0, con_cambios, i],\n",
    "                               riqueza_total[1, con_cambios, i])[1]\n",
    "    if pvalue_14 <=0.05 and pvalue_10 <= 0.05:\n",
    "        res = '---DIFFERENT---'\n",
    "    print('i{}, pvalue_14={:.4f}, pvalue_10={:.4f}, {}'.format(i, pvalue_14, pvalue_10, res))"
   ]
  },
  {
   "cell_type": "markdown",
   "metadata": {
    "deletable": true,
    "editable": true
   },
   "source": [
    "In these landscapes (30% habitat), it is not possible to distinguish three distinct heterogeneity levels, only two: high heterogeneity (levels 4, 3, 2) and low heterogeneity (level 0, 1)."
   ]
  },
  {
   "cell_type": "code",
   "execution_count": 62,
   "metadata": {
    "collapsed": false,
    "deletable": true,
    "editable": true
   },
   "outputs": [
    {
     "name": "stdout",
     "output_type": "stream",
     "text": [
      "i0, pvalue=0.9156, no difference\n",
      "i1, pvalue=0.6883, no difference\n",
      "i2, pvalue=0.4918, no difference\n",
      "i3, pvalue=0.4500, no difference\n",
      "i4, pvalue=0.3513, no difference\n",
      "i5, pvalue=0.3264, no difference\n",
      "i6, pvalue=0.3123, no difference\n",
      "i7, pvalue=0.2095, no difference\n",
      "i8, pvalue=0.1076, no difference\n",
      "i9, pvalue=0.1127, no difference\n"
     ]
    }
   ],
   "source": [
    "# Richness\n",
    "for i in range(10):\n",
    "    res = 'no difference'\n",
    "    pvalue = stats.kruskal(riqueza_total[1, con_cambios, i],\n",
    "                           riqueza_total[0, con_cambios, i])[1]\n",
    "    if pvalue <=0.05:\n",
    "        res = '---DIFFERENT---'\n",
    "    print('i{}, pvalue={:.4f}, {}'.format(i, pvalue, res))"
   ]
  },
  {
   "cell_type": "code",
   "execution_count": 63,
   "metadata": {
    "collapsed": false,
    "deletable": true,
    "editable": true
   },
   "outputs": [
    {
     "name": "stdout",
     "output_type": "stream",
     "text": [
      "i0, pvalue=0.9213, no difference\n",
      "i1, pvalue=0.6569, no difference\n",
      "i2, pvalue=0.4332, no difference\n",
      "i3, pvalue=0.4001, no difference\n",
      "i4, pvalue=0.3034, no difference\n",
      "i5, pvalue=0.2983, no difference\n",
      "i6, pvalue=0.2774, no difference\n",
      "i7, pvalue=0.1688, no difference\n",
      "i8, pvalue=0.0856, no difference\n",
      "i9, pvalue=0.0940, no difference\n"
     ]
    }
   ],
   "source": [
    "for i in range(10):\n",
    "    res = 'no difference'\n",
    "    pvalue = stats.f_oneway(riqueza_total[1, con_cambios, i],\n",
    "                            riqueza_total[0, con_cambios, i])[1]\n",
    "    if pvalue <=0.05:\n",
    "        res = '---DIFFERENT---'\n",
    "    print('i{}, pvalue={:.4f}, {}'.format(i, pvalue, res))"
   ]
  },
  {
   "cell_type": "code",
   "execution_count": 50,
   "metadata": {
    "collapsed": true,
    "deletable": true,
    "editable": true
   },
   "outputs": [],
   "source": [
    "np.savetxt('means_30.txt', riqueza_total_mean, '%.4f', delimiter=',', newline='\\r\\n')"
   ]
  },
  {
   "cell_type": "code",
   "execution_count": null,
   "metadata": {
    "collapsed": true,
    "deletable": true,
    "editable": true
   },
   "outputs": [],
   "source": []
  }
 ],
 "metadata": {
  "kernelspec": {
   "display_name": "Python 3",
   "language": "python",
   "name": "python3"
  },
  "language_info": {
   "codemirror_mode": {
    "name": "ipython",
    "version": 3
   },
   "file_extension": ".py",
   "mimetype": "text/x-python",
   "name": "python",
   "nbconvert_exporter": "python",
   "pygments_lexer": "ipython3",
   "version": "3.5.2"
  }
 },
 "nbformat": 4,
 "nbformat_minor": 1
}
