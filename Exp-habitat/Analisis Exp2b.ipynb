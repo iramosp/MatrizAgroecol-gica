{
 "cells": [
  {
   "cell_type": "markdown",
   "metadata": {
    "deletable": true,
    "editable": true,
    "heading_collapsed": true
   },
   "source": [
    "## Preliminares y funciones"
   ]
  },
  {
   "cell_type": "code",
   "execution_count": 1,
   "metadata": {
    "collapsed": true,
    "deletable": true,
    "editable": true,
    "hidden": true
   },
   "outputs": [],
   "source": [
    "import numpy as np\n",
    "import seaborn, os\n",
    "from matplotlib import pyplot as plt\n",
    "import matplotlib.gridspec as gridspec\n",
    "import scipy.stats as stats"
   ]
  },
  {
   "cell_type": "code",
   "execution_count": 2,
   "metadata": {
    "collapsed": true,
    "deletable": true,
    "editable": true,
    "hidden": true
   },
   "outputs": [],
   "source": [
    "%run ../medidas_biodiversidad.py"
   ]
  },
  {
   "cell_type": "code",
   "execution_count": 3,
   "metadata": {
    "collapsed": true,
    "deletable": true,
    "editable": true,
    "hidden": true
   },
   "outputs": [],
   "source": [
    "np.set_printoptions(precision=4, suppress=True)"
   ]
  },
  {
   "cell_type": "code",
   "execution_count": 4,
   "metadata": {
    "collapsed": true,
    "deletable": true,
    "editable": true,
    "hidden": true
   },
   "outputs": [],
   "source": [
    "%matplotlib inline\n",
    "plt.style.use('seaborn-whitegrid')\n",
    "seaborn.set_palette(\"deep\", color_codes=True)\n",
    "plt.rcParams['axes.labelsize'] = 16\n",
    "plt.rcParams['axes.titlesize'] = 16\n",
    "plt.rcParams['figure.figsize'] = (9, 7)\n",
    "plt.rcParams['font.family'] = ['serif']\n",
    "plt.rcParams['font.size'] = 14\n",
    "plt.rcParams['legend.fontsize'] = 14\n",
    "plt.rcParams['xtick.labelsize'] = 13\n",
    "plt.rcParams['ytick.labelsize'] = 13"
   ]
  },
  {
   "cell_type": "code",
   "execution_count": 5,
   "metadata": {
    "collapsed": true,
    "deletable": true,
    "editable": true,
    "hidden": true
   },
   "outputs": [],
   "source": [
    "def leer_datos(het):\n",
    "    files = os.listdir(\"../datos/exp2b\")\n",
    "    files.sort()\n",
    "    files = list(filter(lambda x: x[7] == het, files))\n",
    "    \n",
    "    datos = [np.load(\"../datos/exp2b/\" + file) for file in files]\n",
    "    comunidad = [file[10:13] for file in files]\n",
    "    \n",
    "    return datos, comunidad"
   ]
  },
  {
   "cell_type": "code",
   "execution_count": 6,
   "metadata": {
    "collapsed": true,
    "deletable": true,
    "editable": true,
    "hidden": true
   },
   "outputs": [],
   "source": [
    "def calcular_promedio(riquezas):\n",
    "    \"\"\"Recibe datos de riqueza.\n",
    "    \"\"\"\n",
    "    promedios = np.zeros(10)\n",
    "    std = np.zeros(10)\n",
    "    median = np.zeros(10)\n",
    "    for i in range(10):\n",
    "        promedios[i] = np.mean(riquezas[:, i])\n",
    "        std[i] = np.std(riquezas[:, i])\n",
    "        median[i] = np.median(riquezas[:, i])\n",
    "    return promedios, std, median"
   ]
  },
  {
   "cell_type": "markdown",
   "metadata": {
    "deletable": true,
    "editable": true
   },
   "source": [
    "## Leer datos, calcular riqueza"
   ]
  },
  {
   "cell_type": "code",
   "execution_count": 7,
   "metadata": {
    "collapsed": false,
    "deletable": true,
    "editable": true
   },
   "outputs": [],
   "source": [
    "datos = np.zeros((5, 100, 10, 6, 10, 10, 10)) # het, comunidad, intensificación, tiempo, x, y, especies\n",
    "for het in range(5):\n",
    "    datos[het] = leer_datos(str(het))[0]"
   ]
  },
  {
   "cell_type": "code",
   "execution_count": 8,
   "metadata": {
    "collapsed": true,
    "deletable": true,
    "editable": true
   },
   "outputs": [],
   "source": [
    "# medir riqueza, con esos umbrales:\n",
    "riqueza_total = np.zeros((5, 100, 10)) # het, comunidad, intensificación\n",
    "\n",
    "riqueza_total_mean = np.zeros((5, 10)) # het, intensificación\n",
    "riqueza_total_sd = np.zeros((5, 10))\n",
    "riqueza_total_median = np.zeros((5, 10))\n",
    "\n",
    "for het in range(5):\n",
    "    for comunidad in range(len(datos[het])):\n",
    "        for intensificacion in range(len(datos[het, comunidad])):\n",
    "            riqueza_total[het, comunidad, intensificacion] = riqueza_paisaje(\n",
    "                                                    datos[het, comunidad, intensificacion, ...],\n",
    "                                                    t=-1, biomasa_min = 80)[1]"
   ]
  },
  {
   "cell_type": "code",
   "execution_count": 95,
   "metadata": {
    "collapsed": false,
    "deletable": true,
    "editable": true
   },
   "outputs": [
    {
     "data": {
      "text/plain": [
       "29"
      ]
     },
     "execution_count": 95,
     "metadata": {},
     "output_type": "execute_result"
    }
   ],
   "source": [
    "# contar cuántas comunidades no tuvieron cambios en niveles de intensificación\n",
    "count = 0\n",
    "con_cambios = []\n",
    "for het in [2]:\n",
    "    for c in range(100):\n",
    "        if riqueza_total[het][c, 0] != riqueza_total[het][c, 9]:\n",
    "            count += 1\n",
    "            con_cambios.append(c)\n",
    "100-count"
   ]
  },
  {
   "cell_type": "code",
   "execution_count": 9,
   "metadata": {
    "collapsed": true,
    "deletable": true,
    "editable": true
   },
   "outputs": [],
   "source": [
    "#np.save('./con_cambios', con_cambios)\n",
    "con_cambios = np.load('con_cambios.npy')"
   ]
  },
  {
   "cell_type": "code",
   "execution_count": 10,
   "metadata": {
    "collapsed": true,
    "deletable": true,
    "editable": true
   },
   "outputs": [],
   "source": [
    "for het in range(5):\n",
    "    riqueza_total_mean[het], riqueza_total_sd[het], riqueza_total_median[het] = calcular_promedio(riqueza_total[het, con_cambios, :])"
   ]
  },
  {
   "cell_type": "markdown",
   "metadata": {
    "deletable": true,
    "editable": true
   },
   "source": [
    "## Graficar\n"
   ]
  },
  {
   "cell_type": "code",
   "execution_count": 11,
   "metadata": {
    "collapsed": true,
    "deletable": true,
    "editable": true
   },
   "outputs": [],
   "source": [
    "def graficar(medida, promedios, sd):\n",
    "    \"\"\"Graficar promedios de una medida de biodiversidad con curva ajustada ponderada.\n",
    "    \"\"\"\n",
    "    y = [None] * 5\n",
    "    res = [None] * 5\n",
    "    p = [None] * 5\n",
    "    r2 = [None] * 5\n",
    "\n",
    "    x = np.linspace(0, 9, 100)\n",
    "    xdata = np.array(range(10))\n",
    "    xlabels = np.array(range(10)) * 10 \n",
    "\n",
    "    puntos = [\"o\", \"p\", \"d\", \"v\", \"s\"]\n",
    "    colors = ['#E6852B', '#23B823', '#9BA7F5','#697CF5','#2F3E9D']\n",
    "\n",
    "    for het in range(4, -1, -1):\n",
    "        res[het] = np.polyfit(xdata, promedios[het], 2)\n",
    "        p[het] = np.poly1d(res[het])\n",
    "        r2[het] = 1 - ((np.sum((p[het](range(10)) - promedios[het])**2)) / (np.sum((promedios[het] - np.mean(promedios[het]))**2)))\n",
    "        \n",
    "    fig = plt.figure()\n",
    "\n",
    "    for het in range(4, -1, -1):\n",
    "        y[het] = p[het](x)\n",
    "        label = '{} \\n $y = {:+.3f} x^2 {:+.3f} x {:+.3f}$ \\n $R^2={:.4f}$ '.format(\n",
    "                 het, float(p[het][2]), float(p[het][1]), float(p[het][0]), float(r2[het]))\n",
    "        \n",
    "        plt.plot(x, y[het], lw = 4, color= colors[het], label='{}'.format(label)) #fit\n",
    "        plt.plot(xdata, promedios[het], 'o', color= colors[het]) #data points\n",
    "\n",
    "    plt.ylim(-0.05)\n",
    "    plt.xlim(-0.1, 9.1)\n",
    "    plt.xticks(xdata, xlabels)\n",
    "    plt.xlabel(\"% parches baja calidad\")\n",
    "    plt.ylabel('Riqueza')\n",
    "    plt.title(\"Pérdida de riqueza en paisajes con 30% hábitat\")\n",
    "    plt.legend(loc='center left', title=\"heterogeneidad\", bbox_to_anchor=(1, 0.5))\n",
    "    plt.tight_layout()"
   ]
  },
  {
   "cell_type": "code",
   "execution_count": 12,
   "metadata": {
    "collapsed": true,
    "deletable": true,
    "editable": true
   },
   "outputs": [],
   "source": [
    "def graficar_histogramas(medida, ylim):\n",
    "    '''Graficar histogramas en heterogeneidad 4, 1, 0; intensificación 0, 3, 6, 9.\n",
    "    '''\n",
    "    bins = 11\n",
    "    hrange=(0, 11)\n",
    "    fig = plt.figure(figsize=(11, 8))\n",
    "    palette = ['Blues_r', 'Greens_r', 'Oranges_r']\n",
    "    gs = gridspec.GridSpec(3, 4)\n",
    "    gs.update(wspace=0.04)\n",
    "    for i, het in enumerate([4, 1, 0]):\n",
    "        colors = seaborn.color_palette(palette[i], 5)\n",
    "        for j, intensification in enumerate([0, 3, 6, 9]):\n",
    "            ax = plt.subplot(gs[i, j])\n",
    "            plt.hist(np.array(medida)[het, :, intensification], bins, range=hrange, color=colors[j], \n",
    "                         label='{}, {}'.format(het, intensification), width=1, align='left');\n",
    "            plt.ylim(0, ylim);\n",
    "            plt.xlim(-0.5, 10.5)\n",
    "            plt.setp(ax.get_xticklabels(), size=9)\n",
    "            plt.setp(ax.get_yticklabels(), visible=(intensification==0), size=11)\n",
    "            plt.setp(ax.get_xgridlines(), visible=False)\n",
    "            plt.box()"
   ]
  },
  {
   "cell_type": "code",
   "execution_count": 69,
   "metadata": {
    "collapsed": false,
    "deletable": true,
    "editable": true
   },
   "outputs": [
    {
     "data": {
      "text/plain": [
       "(5, 100, 10)"
      ]
     },
     "execution_count": 69,
     "metadata": {},
     "output_type": "execute_result"
    }
   ],
   "source": [
    "np.shape(riqueza_total)"
   ]
  },
  {
   "cell_type": "markdown",
   "metadata": {
    "deletable": true,
    "editable": true
   },
   "source": [
    "## Resultados"
   ]
  },
  {
   "cell_type": "code",
   "execution_count": 13,
   "metadata": {
    "collapsed": false,
    "deletable": true,
    "editable": true
   },
   "outputs": [
    {
     "data": {
      "image/png": "[encoded data removed]",
      "text/plain": [
       "<matplotlib.figure.Figure at 0x18e644fe048>"
      ]
     },
     "metadata": {},
     "output_type": "display_data"
    }
   ],
   "source": [
    "graficar_histogramas(riqueza_total[:, con_cambios, :], ylim=28)"
   ]
  },
  {
   "cell_type": "code",
   "execution_count": 14,
   "metadata": {
    "collapsed": false,
    "deletable": true,
    "editable": true
   },
   "outputs": [
    {
     "data": {
      "image/png": "[encoded data removed]",
      "text/plain": [
       "<matplotlib.figure.Figure at 0x18e75b0da90>"
      ]
     },
     "metadata": {},
     "output_type": "display_data"
    }
   ],
   "source": [
    "graficar('Species richness', riqueza_total_mean, riqueza_total_sd)"
   ]
  },
  {
   "cell_type": "markdown",
   "metadata": {
    "deletable": true,
    "editable": true,
    "heading_collapsed": true
   },
   "source": [
    "## Clasificar curvas"
   ]
  },
  {
   "cell_type": "markdown",
   "metadata": {
    "deletable": true,
    "editable": true,
    "hidden": true
   },
   "source": [
    "Clasificar las curvas de decaimiento de riqueza de cada comunidad, en cada nivel de heterogeneidad, ¿son cóncavas hacia arriba o hacia abajo?"
   ]
  },
  {
   "cell_type": "code",
   "execution_count": null,
   "metadata": {
    "collapsed": false,
    "deletable": true,
    "editable": true,
    "hidden": true
   },
   "outputs": [],
   "source": [
    "def clasificar(riquezas, grado):\n",
    "    x = np.linspace(0, 9, 100)\n",
    "    xdata = np.array(range(10))\n",
    "\n",
    "    res = np.polyfit(xdata, riquezas, grado)\n",
    "    p = np.poly1d(res)\n",
    "    r2 = 1 - ((np.sum((p(range(10)) - riquezas)**2)) /\n",
    "             (np.sum((riquezas - np.mean(riquezas))**2)))\n",
    "    r2_adjusted = r2 - (1 - r2) * (degree/(10-degree-1))\n",
    "    \n",
    "    return res[0]"
   ]
  },
  {
   "cell_type": "code",
   "execution_count": null,
   "metadata": {
    "collapsed": true,
    "deletable": true,
    "editable": true,
    "hidden": true
   },
   "outputs": [],
   "source": [
    "curves = np.zeros((5, 100))\n",
    "for het in range(5):\n",
    "    for n, comunidad in enumerate(riqueza_total[het]):\n",
    "        curves[het, n] = clasificar(comunidad, 2)"
   ]
  },
  {
   "cell_type": "code",
   "execution_count": null,
   "metadata": {
    "collapsed": true,
    "deletable": true,
    "editable": true,
    "hidden": true
   },
   "outputs": [],
   "source": [
    "summary_curves = np.zeros((5, 2))"
   ]
  },
  {
   "cell_type": "code",
   "execution_count": null,
   "metadata": {
    "collapsed": false,
    "deletable": true,
    "editable": true,
    "hidden": true
   },
   "outputs": [],
   "source": [
    "for het in range(5):\n",
    "    summary_curves[het, 0] = len(curves[het, :][curves[het, :]<0])\n",
    "    summary_curves[het, 1] = len(curves[het, :][curves[het, :]>0])"
   ]
  },
  {
   "cell_type": "code",
   "execution_count": null,
   "metadata": {
    "collapsed": false,
    "deletable": true,
    "editable": true,
    "hidden": true
   },
   "outputs": [],
   "source": [
    "summary_curves"
   ]
  },
  {
   "cell_type": "markdown",
   "metadata": {
    "deletable": true,
    "editable": true
   },
   "source": [
    "## Identifying significant differences in richness\n",
    "\n",
    "Note: shape of `biodiversity_measure` is `[heterogeneity, communities, intensification]`."
   ]
  },
  {
   "cell_type": "markdown",
   "metadata": {
    "deletable": true,
    "editable": true
   },
   "source": [
    "### Do data distribute normally?\n",
    "\n",
    "We use Shapiro-Wilk test. Null hypothesis is that data subsets came from a normally distributed population.\n",
    "\n",
    "**Result:** Data subsets don't follow a normal distribution. "
   ]
  },
  {
   "cell_type": "code",
   "execution_count": 15,
   "metadata": {
    "collapsed": false,
    "deletable": true,
    "editable": true
   },
   "outputs": [
    {
     "name": "stdout",
     "output_type": "stream",
     "text": [
      "H0, i0, p= 0.0051, ---NOT NORMAL---\n",
      "H0, i1, p= 0.0048, ---NOT NORMAL---\n",
      "H0, i2, p= 0.0052, ---NOT NORMAL---\n",
      "H0, i3, p= 0.0056, ---NOT NORMAL---\n",
      "H0, i4, p= 0.0057, ---NOT NORMAL---\n",
      "H0, i5, p= 0.0039, ---NOT NORMAL---\n",
      "H0, i6, p= 0.0041, ---NOT NORMAL---\n",
      "H0, i7, p= 0.0038, ---NOT NORMAL---\n",
      "H0, i8, p= 0.0038, ---NOT NORMAL---\n",
      "H0, i9, p= 0.0019, ---NOT NORMAL---\n",
      "H1, i0, p= 0.0046, ---NOT NORMAL---\n",
      "H1, i1, p= 0.0030, ---NOT NORMAL---\n",
      "H1, i2, p= 0.0033, ---NOT NORMAL---\n",
      "H1, i3, p= 0.0040, ---NOT NORMAL---\n",
      "H1, i4, p= 0.0052, ---NOT NORMAL---\n",
      "H1, i5, p= 0.0065, ---NOT NORMAL---\n",
      "H1, i6, p= 0.0050, ---NOT NORMAL---\n",
      "H1, i7, p= 0.0018, ---NOT NORMAL---\n",
      "H1, i8, p= 0.0014, ---NOT NORMAL---\n",
      "H1, i9, p= 0.0007, ---NOT NORMAL---\n",
      "H2, i0, p= 0.0012, ---NOT NORMAL---\n",
      "H2, i1, p= 0.0043, ---NOT NORMAL---\n",
      "H2, i2, p= 0.0036, ---NOT NORMAL---\n",
      "H2, i3, p= 0.0010, ---NOT NORMAL---\n",
      "H2, i4, p= 0.0014, ---NOT NORMAL---\n",
      "H2, i5, p= 0.0024, ---NOT NORMAL---\n",
      "H2, i6, p= 0.0030, ---NOT NORMAL---\n",
      "H2, i7, p= 0.0017, ---NOT NORMAL---\n",
      "H2, i8, p= 0.0036, ---NOT NORMAL---\n",
      "H2, i9, p= 0.0040, ---NOT NORMAL---\n",
      "H3, i0, p= 0.0037, ---NOT NORMAL---\n",
      "H3, i1, p= 0.0037, ---NOT NORMAL---\n",
      "H3, i2, p= 0.0025, ---NOT NORMAL---\n",
      "H3, i3, p= 0.0009, ---NOT NORMAL---\n",
      "H3, i4, p= 0.0024, ---NOT NORMAL---\n",
      "H3, i5, p= 0.0029, ---NOT NORMAL---\n",
      "H3, i6, p= 0.0021, ---NOT NORMAL---\n",
      "H3, i7, p= 0.0043, ---NOT NORMAL---\n",
      "H3, i8, p= 0.0025, ---NOT NORMAL---\n",
      "H3, i9, p= 0.0019, ---NOT NORMAL---\n",
      "H4, i0, p= 0.0037, ---NOT NORMAL---\n",
      "H4, i1, p= 0.0037, ---NOT NORMAL---\n",
      "H4, i2, p= 0.0030, ---NOT NORMAL---\n",
      "H4, i3, p= 0.0014, ---NOT NORMAL---\n",
      "H4, i4, p= 0.0024, ---NOT NORMAL---\n",
      "H4, i5, p= 0.0029, ---NOT NORMAL---\n",
      "H4, i6, p= 0.0019, ---NOT NORMAL---\n",
      "H4, i7, p= 0.0047, ---NOT NORMAL---\n",
      "H4, i8, p= 0.0047, ---NOT NORMAL---\n",
      "H4, i9, p= 0.0024, ---NOT NORMAL---\n"
     ]
    }
   ],
   "source": [
    "for het in range(5):\n",
    "    for i in range(10):\n",
    "        res = 'normal'\n",
    "        \n",
    "        data = riqueza_total[het, :, i]\n",
    "        \n",
    "        pvalue = stats.shapiro(data)[1]\n",
    "        if pvalue <= 0.05:\n",
    "            res = '---NOT NORMAL---'\n",
    "        print('H{}, i{}, p= {:.4f}, {}'.format(het, i, pvalue, res))"
   ]
  },
  {
   "cell_type": "markdown",
   "metadata": {
    "deletable": true,
    "editable": true
   },
   "source": [
    "However, using D'Agostino and Pearson's omnibus test, data subsets are normal. Again, null hypothesis is that data subsets came from a normally distributed population."
   ]
  },
  {
   "cell_type": "code",
   "execution_count": 16,
   "metadata": {
    "collapsed": false,
    "deletable": true,
    "editable": true
   },
   "outputs": [
    {
     "name": "stdout",
     "output_type": "stream",
     "text": [
      "H0, i0, p= 0.4285, normal\n",
      "H0, i1, p= 0.4342, normal\n",
      "H0, i2, p= 0.3791, normal\n",
      "H0, i3, p= 0.4305, normal\n",
      "H0, i4, p= 0.3849, normal\n",
      "H0, i5, p= 0.3364, normal\n",
      "H0, i6, p= 0.2986, normal\n",
      "H0, i7, p= 0.2453, normal\n",
      "H0, i8, p= 0.2453, normal\n",
      "H0, i9, p= 0.1037, normal\n",
      "H1, i0, p= 0.4207, normal\n",
      "H1, i1, p= 0.2529, normal\n",
      "H1, i2, p= 0.1287, normal\n",
      "H1, i3, p= 0.1767, normal\n",
      "H1, i4, p= 0.2864, normal\n",
      "H1, i5, p= 0.3508, normal\n",
      "H1, i6, p= 0.2906, normal\n",
      "H1, i7, p= 0.2106, normal\n",
      "H1, i8, p= 0.2291, normal\n",
      "H1, i9, p= 0.1058, normal\n",
      "H2, i0, p= 0.0646, normal\n",
      "H2, i1, p= 0.2627, normal\n",
      "H2, i2, p= 0.2014, normal\n",
      "H2, i3, p= 0.1443, normal\n",
      "H2, i4, p= 0.2091, normal\n",
      "H2, i5, p= 0.2090, normal\n",
      "H2, i6, p= 0.2063, normal\n",
      "H2, i7, p= 0.1868, normal\n",
      "H2, i8, p= 0.2340, normal\n",
      "H2, i9, p= 0.2647, normal\n",
      "H3, i0, p= 0.1861, normal\n",
      "H3, i1, p= 0.1865, normal\n",
      "H3, i2, p= 0.1439, normal\n",
      "H3, i3, p= 0.1977, normal\n",
      "H3, i4, p= 0.2090, normal\n",
      "H3, i5, p= 0.2203, normal\n",
      "H3, i6, p= 0.1770, normal\n",
      "H3, i7, p= 0.3652, normal\n",
      "H3, i8, p= 0.3468, normal\n",
      "H3, i9, p= 0.1238, normal\n",
      "H4, i0, p= 0.1861, normal\n",
      "H4, i1, p= 0.1865, normal\n",
      "H4, i2, p= 0.1660, normal\n",
      "H4, i3, p= 0.2091, normal\n",
      "H4, i4, p= 0.2090, normal\n",
      "H4, i5, p= 0.2203, normal\n",
      "H4, i6, p= 0.1783, normal\n",
      "H4, i7, p= 0.2497, normal\n",
      "H4, i8, p= 0.3740, normal\n",
      "H4, i9, p= 0.3341, normal\n"
     ]
    }
   ],
   "source": [
    "for het in range(5):\n",
    "    for i in range(10):\n",
    "        res = 'normal'\n",
    "        \n",
    "        data = riqueza_total[het, :, i]\n",
    "        \n",
    "        pvalue = stats.normaltest(data)[1]\n",
    "        if pvalue <= 0.05:\n",
    "            res = '---NOT NORMAL---'\n",
    "        print('H{}, i{}, p= {:.4f}, {}'.format(het, i, pvalue, res))"
   ]
  },
  {
   "cell_type": "markdown",
   "metadata": {
    "deletable": true,
    "editable": true
   },
   "source": [
    "Do data have the same variance?\n",
    "\n",
    "We use Levene test, which does not assume normality. Null hypothesis is that population variances are equal. In particular, we want to know whether data subsets from all heterogeneity levels have the same variance at each intensification level.\n",
    "\n",
    "**Result:** At each intensification level, richness from all heterogeneity levels has equal variance."
   ]
  },
  {
   "cell_type": "code",
   "execution_count": 17,
   "metadata": {
    "collapsed": false,
    "deletable": true,
    "editable": true
   },
   "outputs": [
    {
     "name": "stdout",
     "output_type": "stream",
     "text": [
      "i0, pvalue=0.9114, equal std\n",
      "i1, pvalue=0.9024, equal std\n",
      "i2, pvalue=0.8769, equal std\n",
      "i3, pvalue=0.9777, equal std\n",
      "i4, pvalue=0.9810, equal std\n",
      "i5, pvalue=0.6579, equal std\n",
      "i6, pvalue=0.3141, equal std\n",
      "i7, pvalue=0.1906, equal std\n",
      "i8, pvalue=0.1590, equal std\n",
      "i9, pvalue=0.0482, ---std NOT EQUAL---\n"
     ]
    }
   ],
   "source": [
    "# Richness\n",
    "for i in range(10):\n",
    "    equal_std = 'equal std'\n",
    "    pvalue = stats.levene(riqueza_total[0, :, i],\n",
    "                          riqueza_total[1, :, i],\n",
    "                          riqueza_total[2, :, i],\n",
    "                          riqueza_total[3, :, i],\n",
    "                          riqueza_total[4, :, i], center='median')[1]\n",
    "    if pvalue <=0.05:\n",
    "        equal_std = '---std NOT EQUAL---'\n",
    "    print('i{}, pvalue={:.4f}, {}'.format(i, pvalue, equal_std))"
   ]
  },
  {
   "cell_type": "code",
   "execution_count": 20,
   "metadata": {
    "collapsed": true,
    "deletable": true,
    "editable": true
   },
   "outputs": [
    {
     "ename": "NameError",
     "evalue": "name 'area' is not defined",
     "output_type": "error",
     "traceback": [
      "\u001b[0;31m---------------------------------------------------------------------------\u001b[0m",
      "\u001b[0;31mNameError\u001b[0m                                 Traceback (most recent call last)",
      "\u001b[0;32m<ipython-input-20-dde2d14965a6>\u001b[0m in \u001b[0;36m<module>\u001b[0;34m()\u001b[0m\n\u001b[1;32m      2\u001b[0m \u001b[1;32mfor\u001b[0m \u001b[0mi\u001b[0m \u001b[1;32min\u001b[0m \u001b[0mrange\u001b[0m\u001b[1;33m(\u001b[0m\u001b[1;36m10\u001b[0m\u001b[1;33m)\u001b[0m\u001b[1;33m:\u001b[0m\u001b[1;33m\u001b[0m\u001b[0m\n\u001b[1;32m      3\u001b[0m     \u001b[0mequal_std\u001b[0m \u001b[1;33m=\u001b[0m \u001b[1;34m'equal std'\u001b[0m\u001b[1;33m\u001b[0m\u001b[0m\n\u001b[0;32m----> 4\u001b[0;31m     pvalue = stats.levene(np.array(area)[0, :, i],\n\u001b[0m\u001b[1;32m      5\u001b[0m                           \u001b[0mnp\u001b[0m\u001b[1;33m.\u001b[0m\u001b[0marray\u001b[0m\u001b[1;33m(\u001b[0m\u001b[0marea\u001b[0m\u001b[1;33m)\u001b[0m\u001b[1;33m[\u001b[0m\u001b[1;36m1\u001b[0m\u001b[1;33m,\u001b[0m \u001b[1;33m:\u001b[0m\u001b[1;33m,\u001b[0m \u001b[0mi\u001b[0m\u001b[1;33m]\u001b[0m\u001b[1;33m,\u001b[0m\u001b[1;33m\u001b[0m\u001b[0m\n\u001b[1;32m      6\u001b[0m                           \u001b[0mnp\u001b[0m\u001b[1;33m.\u001b[0m\u001b[0marray\u001b[0m\u001b[1;33m(\u001b[0m\u001b[0marea\u001b[0m\u001b[1;33m)\u001b[0m\u001b[1;33m[\u001b[0m\u001b[1;36m2\u001b[0m\u001b[1;33m,\u001b[0m \u001b[1;33m:\u001b[0m\u001b[1;33m,\u001b[0m \u001b[0mi\u001b[0m\u001b[1;33m]\u001b[0m\u001b[1;33m,\u001b[0m\u001b[1;33m\u001b[0m\u001b[0m\n",
      "\u001b[0;31mNameError\u001b[0m: name 'area' is not defined"
     ]
    }
   ],
   "source": [
    "# Area - TO DO\n",
    "for i in range(10):\n",
    "    equal_std = 'equal std'\n",
    "    pvalue = stats.levene(np.array(area)[0, :, i],\n",
    "                          np.array(area)[1, :, i],\n",
    "                          np.array(area)[2, :, i],\n",
    "                          np.array(area)[3, :, i],\n",
    "                          np.array(area)[4, :, i], center='median')[1]\n",
    "    if pvalue <=0.05:\n",
    "        equal_std = '---std NOT EQUAL---'\n",
    "    print('i{}, pvalue={:.4f}, {}'.format(i, pvalue, equal_std))"
   ]
  },
  {
   "cell_type": "markdown",
   "metadata": {
    "deletable": true,
    "editable": true
   },
   "source": [
    "We get the same results using Bartlett test."
   ]
  },
  {
   "cell_type": "code",
   "execution_count": 18,
   "metadata": {
    "collapsed": false,
    "deletable": true,
    "editable": true
   },
   "outputs": [
    {
     "name": "stdout",
     "output_type": "stream",
     "text": [
      "i0, pvalue=0.9725, equal std\n",
      "i1, pvalue=0.7820, equal std\n",
      "i2, pvalue=0.7095, equal std\n",
      "i3, pvalue=0.7439, equal std\n",
      "i4, pvalue=0.7162, equal std\n",
      "i5, pvalue=0.4081, equal std\n",
      "i6, pvalue=0.1710, equal std\n",
      "i7, pvalue=0.1189, equal std\n",
      "i8, pvalue=0.1027, equal std\n",
      "i9, pvalue=0.0508, equal std\n"
     ]
    }
   ],
   "source": [
    "for i in range(10):\n",
    "    equal_std = 'equal std'\n",
    "    pvalue = stats.bartlett(riqueza_total[0, :, i],\n",
    "                          riqueza_total[1, :, i],\n",
    "                          riqueza_total[2, :, i],\n",
    "                          riqueza_total[3, :, i],\n",
    "                          riqueza_total[4, :, i],)[1]\n",
    "    if pvalue <=0.05:\n",
    "        equal_std = '---std NOT EQUAL---'\n",
    "    print('i{}, pvalue={:.4f}, {}'.format(i, pvalue, equal_std))"
   ]
  },
  {
   "cell_type": "code",
   "execution_count": null,
   "metadata": {
    "collapsed": true,
    "deletable": true,
    "editable": true
   },
   "outputs": [],
   "source": [
    "# Area - TO DO\n",
    "for i in range(10):\n",
    "    equal_std = 'equal std'\n",
    "    pvalue = stats.bartlett(np.array(area)[0, :, i],\n",
    "                          np.array(area)[1, :, i],\n",
    "                          np.array(area)[2, :, i],\n",
    "                          np.array(area)[3, :, i],\n",
    "                          np.array(area)[4, :, i])[1]\n",
    "    if pvalue <=0.05:\n",
    "        equal_std = '---std NOT EQUAL---'\n",
    "    print('i{}, pvalue={:.4f}, {}'.format(i, pvalue, equal_std))"
   ]
  },
  {
   "cell_type": "markdown",
   "metadata": {
    "deletable": true,
    "editable": true
   },
   "source": [
    "*Extra:* Do data from each heterogeneity level have same variance across the intensification gradient?\n",
    "\n",
    "**Result:** Yes"
   ]
  },
  {
   "cell_type": "code",
   "execution_count": 19,
   "metadata": {
    "collapsed": false,
    "deletable": true,
    "editable": true
   },
   "outputs": [
    {
     "name": "stdout",
     "output_type": "stream",
     "text": [
      "h0, pvalue=1.0000, equal std\n",
      "h1, pvalue=0.9998, equal std\n",
      "h2, pvalue=0.6785, equal std\n",
      "h3, pvalue=0.3789, equal std\n",
      "h4, pvalue=0.6848, equal std\n"
     ]
    }
   ],
   "source": [
    "for het in range(5):\n",
    "    equal_std = 'equal std'\n",
    "    pvalue = stats.levene(riqueza_total[het, :, 0],\n",
    "                      riqueza_total[het, :, 1],\n",
    "                      riqueza_total[het, :, 2],\n",
    "                      riqueza_total[het, :, 3],\n",
    "                      riqueza_total[het, :, 4],\n",
    "                      riqueza_total[het, :, 5],\n",
    "                      riqueza_total[het, :, 6],\n",
    "                      riqueza_total[het, :, 7],\n",
    "                      riqueza_total[het, :, 8],\n",
    "                      riqueza_total[het, :, 9], center='median')[1]\n",
    "    if pvalue <=0.05:\n",
    "        equal_std = '---std NOT EQUAL---'\n",
    "    print('h{}, pvalue={:.4f}, {}'.format(het, pvalue, equal_std))"
   ]
  },
  {
   "cell_type": "code",
   "execution_count": 22,
   "metadata": {
    "collapsed": true,
    "deletable": true,
    "editable": true
   },
   "outputs": [
    {
     "ename": "NameError",
     "evalue": "name 'area' is not defined",
     "output_type": "error",
     "traceback": [
      "\u001b[0;31m---------------------------------------------------------------------------\u001b[0m",
      "\u001b[0;31mNameError\u001b[0m                                 Traceback (most recent call last)",
      "\u001b[0;32m<ipython-input-22-0b2bcf809751>\u001b[0m in \u001b[0;36m<module>\u001b[0;34m()\u001b[0m\n\u001b[1;32m      1\u001b[0m \u001b[1;32mfor\u001b[0m \u001b[0mhet\u001b[0m \u001b[1;32min\u001b[0m \u001b[0mrange\u001b[0m\u001b[1;33m(\u001b[0m\u001b[1;36m5\u001b[0m\u001b[1;33m)\u001b[0m\u001b[1;33m:\u001b[0m\u001b[1;33m\u001b[0m\u001b[0m\n\u001b[1;32m      2\u001b[0m     \u001b[0mequal_std\u001b[0m \u001b[1;33m=\u001b[0m \u001b[1;34m'equal std'\u001b[0m\u001b[1;33m\u001b[0m\u001b[0m\n\u001b[0;32m----> 3\u001b[0;31m     pvalue = stats.levene(np.array(area)[het, :, 0],\n\u001b[0m\u001b[1;32m      4\u001b[0m                       \u001b[0mnp\u001b[0m\u001b[1;33m.\u001b[0m\u001b[0marray\u001b[0m\u001b[1;33m(\u001b[0m\u001b[0marea\u001b[0m\u001b[1;33m)\u001b[0m\u001b[1;33m[\u001b[0m\u001b[0mhet\u001b[0m\u001b[1;33m,\u001b[0m \u001b[1;33m:\u001b[0m\u001b[1;33m,\u001b[0m \u001b[1;36m1\u001b[0m\u001b[1;33m]\u001b[0m\u001b[1;33m,\u001b[0m\u001b[1;33m\u001b[0m\u001b[0m\n\u001b[1;32m      5\u001b[0m                       \u001b[0mnp\u001b[0m\u001b[1;33m.\u001b[0m\u001b[0marray\u001b[0m\u001b[1;33m(\u001b[0m\u001b[0marea\u001b[0m\u001b[1;33m)\u001b[0m\u001b[1;33m[\u001b[0m\u001b[0mhet\u001b[0m\u001b[1;33m,\u001b[0m \u001b[1;33m:\u001b[0m\u001b[1;33m,\u001b[0m \u001b[1;36m2\u001b[0m\u001b[1;33m]\u001b[0m\u001b[1;33m,\u001b[0m\u001b[1;33m\u001b[0m\u001b[0m\n",
      "\u001b[0;31mNameError\u001b[0m: name 'area' is not defined"
     ]
    }
   ],
   "source": [
    "# Area - TO DO\n",
    "for het in range(5):\n",
    "    equal_std = 'equal std'\n",
    "    pvalue = stats.levene(np.array(area)[het, :, 0],\n",
    "                      np.array(area)[het, :, 1],\n",
    "                      np.array(area)[het, :, 2],\n",
    "                      np.array(area)[het, :, 3],\n",
    "                      np.array(area)[het, :, 4],\n",
    "                      np.array(area)[het, :, 5],\n",
    "                      np.array(area)[het, :, 6],\n",
    "                      np.array(area)[het, :, 7],\n",
    "                      np.array(area)[het, :, 8],\n",
    "                      np.array(area)[het, :, 9], center='median')[1]\n",
    "    if pvalue <=0.05:\n",
    "        equal_std = '---std NOT EQUAL---'\n",
    "    print('h{}, pvalue={:.4f}, {}'.format(het, pvalue, equal_std))"
   ]
  },
  {
   "cell_type": "markdown",
   "metadata": {
    "deletable": true,
    "editable": true
   },
   "source": [
    "### Differences between heterogeneity levels\n",
    "\n",
    "We use Kruskal test to identify significant differences in biodiversity between heterogeneity levels at each level of intensification. Null hypothesis is that population medians are equal.\n",
    "\n",
    "There is no significant difference between heterogeneity levels 4, 3 and 2. "
   ]
  },
  {
   "cell_type": "code",
   "execution_count": 20,
   "metadata": {
    "collapsed": false,
    "deletable": true,
    "editable": true
   },
   "outputs": [
    {
     "name": "stdout",
     "output_type": "stream",
     "text": [
      "i0, pvalue=0.9809, no difference\n",
      "i1, pvalue=0.9868, no difference\n",
      "i2, pvalue=0.9957, no difference\n",
      "i3, pvalue=0.8218, no difference\n",
      "i4, pvalue=0.6440, no difference\n",
      "i5, pvalue=0.8491, no difference\n",
      "i6, pvalue=0.5483, no difference\n",
      "i7, pvalue=0.5089, no difference\n",
      "i8, pvalue=0.6490, no difference\n",
      "i9, pvalue=0.4194, no difference\n"
     ]
    }
   ],
   "source": [
    "# Richness\n",
    "for i in range(10):\n",
    "    res = 'no difference'\n",
    "    pvalue = stats.kruskal(riqueza_total[4, :, i],\n",
    "                           riqueza_total[3, :, i],\n",
    "                           riqueza_total[2, :, i])[1]\n",
    "    if pvalue <=0.05:\n",
    "        res = '---DIFFERENT---'\n",
    "    print('i{}, pvalue={:.4f}, {}'.format(i, pvalue, res))"
   ]
  },
  {
   "cell_type": "code",
   "execution_count": 24,
   "metadata": {
    "collapsed": false,
    "deletable": true,
    "editable": true
   },
   "outputs": [
    {
     "ename": "NameError",
     "evalue": "name 'area' is not defined",
     "output_type": "error",
     "traceback": [
      "\u001b[0;31m---------------------------------------------------------------------------\u001b[0m",
      "\u001b[0;31mNameError\u001b[0m                                 Traceback (most recent call last)",
      "\u001b[0;32m<ipython-input-24-f6fd6b5aa1c7>\u001b[0m in \u001b[0;36m<module>\u001b[0;34m()\u001b[0m\n\u001b[1;32m      2\u001b[0m \u001b[1;32mfor\u001b[0m \u001b[0mi\u001b[0m \u001b[1;32min\u001b[0m \u001b[0mrange\u001b[0m\u001b[1;33m(\u001b[0m\u001b[1;36m10\u001b[0m\u001b[1;33m)\u001b[0m\u001b[1;33m:\u001b[0m\u001b[1;33m\u001b[0m\u001b[0m\n\u001b[1;32m      3\u001b[0m     \u001b[0mres\u001b[0m \u001b[1;33m=\u001b[0m \u001b[1;34m'no difference'\u001b[0m\u001b[1;33m\u001b[0m\u001b[0m\n\u001b[0;32m----> 4\u001b[0;31m     pvalue = stats.kruskal(np.array(area)[4, :, i],\n\u001b[0m\u001b[1;32m      5\u001b[0m                            \u001b[0mnp\u001b[0m\u001b[1;33m.\u001b[0m\u001b[0marray\u001b[0m\u001b[1;33m(\u001b[0m\u001b[0marea\u001b[0m\u001b[1;33m)\u001b[0m\u001b[1;33m[\u001b[0m\u001b[1;36m3\u001b[0m\u001b[1;33m,\u001b[0m \u001b[1;33m:\u001b[0m\u001b[1;33m,\u001b[0m \u001b[0mi\u001b[0m\u001b[1;33m]\u001b[0m\u001b[1;33m,\u001b[0m\u001b[1;33m\u001b[0m\u001b[0m\n\u001b[1;32m      6\u001b[0m                            np.array(area)[2, :, i])[1]\n",
      "\u001b[0;31mNameError\u001b[0m: name 'area' is not defined"
     ]
    }
   ],
   "source": [
    "# Area - TO DO\n",
    "for i in range(10):\n",
    "    res = 'no difference'\n",
    "    pvalue = stats.kruskal(np.array(area)[4, :, i],\n",
    "                           np.array(area)[3, :, i],\n",
    "                           np.array(area)[2, :, i])[1]\n",
    "    if pvalue <=0.05:\n",
    "        res = '---DIFFERENT---'\n",
    "    print('i{}, pvalue={:.4f}, {}'.format(i, pvalue, res))"
   ]
  },
  {
   "cell_type": "markdown",
   "metadata": {
    "deletable": true,
    "editable": true
   },
   "source": [
    "Given that data don't seem to differ significantly from normality, we can use ANOVA tests. In this case, null hyphotesis is that group means are equal. We get similar results: There is no significant difference between heterogeneity levels 4, 3 and 2, except at lowest intensification. "
   ]
  },
  {
   "cell_type": "code",
   "execution_count": 21,
   "metadata": {
    "collapsed": false,
    "deletable": true,
    "editable": true
   },
   "outputs": [
    {
     "name": "stdout",
     "output_type": "stream",
     "text": [
      "i0, pvalue=0.9727, no difference\n",
      "i1, pvalue=0.9646, no difference\n",
      "i2, pvalue=0.9879, no difference\n",
      "i3, pvalue=0.8341, no difference\n",
      "i4, pvalue=0.6362, no difference\n",
      "i5, pvalue=0.8397, no difference\n",
      "i6, pvalue=0.5006, no difference\n",
      "i7, pvalue=0.5294, no difference\n",
      "i8, pvalue=0.6734, no difference\n",
      "i9, pvalue=0.3983, no difference\n"
     ]
    }
   ],
   "source": [
    "# Richness\n",
    "for i in range(10):\n",
    "    res = 'no difference'\n",
    "    pvalue = stats.f_oneway(riqueza_total[4, :, i],\n",
    "                           riqueza_total[3, :, i],\n",
    "                           riqueza_total[2, :, i])[1]\n",
    "    if pvalue <=0.05:\n",
    "        res = '---DIFFERENT---'\n",
    "    print('i{}, pvalue={:.4f}, {}'.format(i, pvalue, res))"
   ]
  },
  {
   "cell_type": "code",
   "execution_count": 26,
   "metadata": {
    "collapsed": true,
    "deletable": true,
    "editable": true
   },
   "outputs": [
    {
     "ename": "NameError",
     "evalue": "name 'area' is not defined",
     "output_type": "error",
     "traceback": [
      "\u001b[0;31m---------------------------------------------------------------------------\u001b[0m",
      "\u001b[0;31mNameError\u001b[0m                                 Traceback (most recent call last)",
      "\u001b[0;32m<ipython-input-26-6e67b2677c9a>\u001b[0m in \u001b[0;36m<module>\u001b[0;34m()\u001b[0m\n\u001b[1;32m      2\u001b[0m \u001b[1;32mfor\u001b[0m \u001b[0mi\u001b[0m \u001b[1;32min\u001b[0m \u001b[0mrange\u001b[0m\u001b[1;33m(\u001b[0m\u001b[1;36m10\u001b[0m\u001b[1;33m)\u001b[0m\u001b[1;33m:\u001b[0m\u001b[1;33m\u001b[0m\u001b[0m\n\u001b[1;32m      3\u001b[0m     \u001b[0mres\u001b[0m \u001b[1;33m=\u001b[0m \u001b[1;34m'no difference'\u001b[0m\u001b[1;33m\u001b[0m\u001b[0m\n\u001b[0;32m----> 4\u001b[0;31m     pvalue = stats.f_oneway(np.array(area)[4, :, i],\n\u001b[0m\u001b[1;32m      5\u001b[0m                            \u001b[0mnp\u001b[0m\u001b[1;33m.\u001b[0m\u001b[0marray\u001b[0m\u001b[1;33m(\u001b[0m\u001b[0marea\u001b[0m\u001b[1;33m)\u001b[0m\u001b[1;33m[\u001b[0m\u001b[1;36m3\u001b[0m\u001b[1;33m,\u001b[0m \u001b[1;33m:\u001b[0m\u001b[1;33m,\u001b[0m \u001b[0mi\u001b[0m\u001b[1;33m]\u001b[0m\u001b[1;33m,\u001b[0m\u001b[1;33m\u001b[0m\u001b[0m\n\u001b[1;32m      6\u001b[0m                            np.array(area)[2, :, i])[1]\n",
      "\u001b[0;31mNameError\u001b[0m: name 'area' is not defined"
     ]
    }
   ],
   "source": [
    "# Area - TO DO\n",
    "for i in range(10):\n",
    "    res = 'no difference'\n",
    "    pvalue = stats.f_oneway(np.array(area)[4, :, i],\n",
    "                           np.array(area)[3, :, i],\n",
    "                           np.array(area)[2, :, i])[1]\n",
    "    if pvalue <=0.05:\n",
    "        res = '---DIFFERENT---'\n",
    "    print('i{}, pvalue={:.4f}, {}'.format(i, pvalue, res))"
   ]
  },
  {
   "cell_type": "markdown",
   "metadata": {
    "deletable": true,
    "editable": true
   },
   "source": [
    "Heterogeneity levels 4 (highest) and 0 (lowest) are significantly different at all intensification levels."
   ]
  },
  {
   "cell_type": "code",
   "execution_count": 22,
   "metadata": {
    "collapsed": false,
    "deletable": true,
    "editable": true
   },
   "outputs": [
    {
     "name": "stdout",
     "output_type": "stream",
     "text": [
      "i0, pvalue=0.3969, no difference\n",
      "i1, pvalue=0.2310, no difference\n",
      "i2, pvalue=0.2317, no difference\n",
      "i3, pvalue=0.0492, ---DIFFERENT---\n",
      "i4, pvalue=0.0050, ---DIFFERENT---\n",
      "i5, pvalue=0.0014, ---DIFFERENT---\n",
      "i6, pvalue=0.0002, ---DIFFERENT---\n",
      "i7, pvalue=0.0000, ---DIFFERENT---\n",
      "i8, pvalue=0.0000, ---DIFFERENT---\n",
      "i9, pvalue=0.0000, ---DIFFERENT---\n"
     ]
    }
   ],
   "source": [
    "# Richness\n",
    "for i in range(10):\n",
    "    res = 'no difference'\n",
    "    pvalue = stats.kruskal(riqueza_total[4, :, i],\n",
    "                           riqueza_total[0, :, i])[1]\n",
    "    if pvalue <=0.05:\n",
    "        res = '---DIFFERENT---'\n",
    "    print('i{}, pvalue={:.4f}, {}'.format(i, pvalue, res))"
   ]
  },
  {
   "cell_type": "code",
   "execution_count": 28,
   "metadata": {
    "collapsed": true,
    "deletable": true,
    "editable": true
   },
   "outputs": [
    {
     "ename": "NameError",
     "evalue": "name 'area' is not defined",
     "output_type": "error",
     "traceback": [
      "\u001b[0;31m---------------------------------------------------------------------------\u001b[0m",
      "\u001b[0;31mNameError\u001b[0m                                 Traceback (most recent call last)",
      "\u001b[0;32m<ipython-input-28-f48960098bb8>\u001b[0m in \u001b[0;36m<module>\u001b[0;34m()\u001b[0m\n\u001b[1;32m      2\u001b[0m \u001b[1;32mfor\u001b[0m \u001b[0mi\u001b[0m \u001b[1;32min\u001b[0m \u001b[0mrange\u001b[0m\u001b[1;33m(\u001b[0m\u001b[1;36m10\u001b[0m\u001b[1;33m)\u001b[0m\u001b[1;33m:\u001b[0m\u001b[1;33m\u001b[0m\u001b[0m\n\u001b[1;32m      3\u001b[0m     \u001b[0mres\u001b[0m \u001b[1;33m=\u001b[0m \u001b[1;34m'no difference'\u001b[0m\u001b[1;33m\u001b[0m\u001b[0m\n\u001b[0;32m----> 4\u001b[0;31m     pvalue = stats.kruskal(np.array(area)[4, :, i],\n\u001b[0m\u001b[1;32m      5\u001b[0m                            np.array(area)[0, :, i])[1]\n\u001b[1;32m      6\u001b[0m     \u001b[1;32mif\u001b[0m \u001b[0mpvalue\u001b[0m \u001b[1;33m<=\u001b[0m\u001b[1;36m0.05\u001b[0m\u001b[1;33m:\u001b[0m\u001b[1;33m\u001b[0m\u001b[0m\n",
      "\u001b[0;31mNameError\u001b[0m: name 'area' is not defined"
     ]
    }
   ],
   "source": [
    "# Area - TO DO\n",
    "for i in range(10):\n",
    "    res = 'no difference'\n",
    "    pvalue = stats.kruskal(np.array(area)[4, :, i],\n",
    "                           np.array(area)[0, :, i])[1]\n",
    "    if pvalue <=0.05:\n",
    "        res = '---DIFFERENT---'\n",
    "    print('i{}, pvalue={:.4f}, {}'.format(i, pvalue, res))"
   ]
  },
  {
   "cell_type": "markdown",
   "metadata": {
    "deletable": true,
    "editable": true
   },
   "source": [
    "We get the same results using ANOVA."
   ]
  },
  {
   "cell_type": "code",
   "execution_count": 23,
   "metadata": {
    "collapsed": false,
    "deletable": true,
    "editable": true
   },
   "outputs": [
    {
     "name": "stdout",
     "output_type": "stream",
     "text": [
      "i0, pvalue=0.2992, no difference\n",
      "i1, pvalue=0.1399, no difference\n",
      "i2, pvalue=0.1267, no difference\n",
      "i3, pvalue=0.0218, ---DIFFERENT---\n",
      "i4, pvalue=0.0016, ---DIFFERENT---\n",
      "i5, pvalue=0.0004, ---DIFFERENT---\n",
      "i6, pvalue=0.0000, ---DIFFERENT---\n",
      "i7, pvalue=0.0000, ---DIFFERENT---\n",
      "i8, pvalue=0.0000, ---DIFFERENT---\n",
      "i9, pvalue=0.0000, ---DIFFERENT---\n"
     ]
    }
   ],
   "source": [
    "for i in range(10):\n",
    "    res = 'no difference'\n",
    "    pvalue = stats.f_oneway(riqueza_total[4, :, i],\n",
    "                            riqueza_total[0, :, i])[1]\n",
    "    if pvalue <=0.05:\n",
    "        res = '---DIFFERENT---'\n",
    "    print('i{}, pvalue={:.4f}, {}'.format(i, pvalue, res))"
   ]
  },
  {
   "cell_type": "code",
   "execution_count": 30,
   "metadata": {
    "collapsed": true,
    "deletable": true,
    "editable": true
   },
   "outputs": [
    {
     "ename": "NameError",
     "evalue": "name 'area' is not defined",
     "output_type": "error",
     "traceback": [
      "\u001b[0;31m---------------------------------------------------------------------------\u001b[0m",
      "\u001b[0;31mNameError\u001b[0m                                 Traceback (most recent call last)",
      "\u001b[0;32m<ipython-input-30-b1b172671261>\u001b[0m in \u001b[0;36m<module>\u001b[0;34m()\u001b[0m\n\u001b[1;32m      2\u001b[0m \u001b[1;32mfor\u001b[0m \u001b[0mi\u001b[0m \u001b[1;32min\u001b[0m \u001b[0mrange\u001b[0m\u001b[1;33m(\u001b[0m\u001b[1;36m10\u001b[0m\u001b[1;33m)\u001b[0m\u001b[1;33m:\u001b[0m\u001b[1;33m\u001b[0m\u001b[0m\n\u001b[1;32m      3\u001b[0m     \u001b[0mres\u001b[0m \u001b[1;33m=\u001b[0m \u001b[1;34m'no difference'\u001b[0m\u001b[1;33m\u001b[0m\u001b[0m\n\u001b[0;32m----> 4\u001b[0;31m     pvalue = stats.f_oneway(np.array(area)[4, :, i],\n\u001b[0m\u001b[1;32m      5\u001b[0m                            np.array(area)[0, :, i])[1]\n\u001b[1;32m      6\u001b[0m     \u001b[1;32mif\u001b[0m \u001b[0mpvalue\u001b[0m \u001b[1;33m<=\u001b[0m\u001b[1;36m0.05\u001b[0m\u001b[1;33m:\u001b[0m\u001b[1;33m\u001b[0m\u001b[0m\n",
      "\u001b[0;31mNameError\u001b[0m: name 'area' is not defined"
     ]
    }
   ],
   "source": [
    "# Area - TO DO\n",
    "for i in range(10):\n",
    "    res = 'no difference'\n",
    "    pvalue = stats.f_oneway(np.array(area)[4, :, i],\n",
    "                           np.array(area)[0, :, i])[1]\n",
    "    if pvalue <=0.05:\n",
    "        res = '---DIFFERENT---'\n",
    "    print('i{}, pvalue={:.4f}, {}'.format(i, pvalue, res))"
   ]
  },
  {
   "cell_type": "markdown",
   "metadata": {
    "deletable": true,
    "editable": true
   },
   "source": [
    "At what intensification levels are heterogeneity levels 4, 1 and 0 different from each other? This is, at what intensification levels is het1 different from het4 and from het0?"
   ]
  },
  {
   "cell_type": "code",
   "execution_count": 25,
   "metadata": {
    "collapsed": false,
    "deletable": true,
    "editable": true
   },
   "outputs": [
    {
     "name": "stdout",
     "output_type": "stream",
     "text": [
      "i0, pvalue_14= 0.5549, pvalue_10= 0.7972, -\n",
      "i1, pvalue_14= 0.4807, pvalue_10= 0.6188, -\n",
      "i2, pvalue_14= 0.6611, pvalue_10= 0.4377, -\n",
      "i3, pvalue_14= 0.2525, pvalue_10= 0.4068, -\n",
      "i4, pvalue_14= 0.0676, pvalue_10= 0.3261, -\n",
      "i5, pvalue_14= 0.0364, pvalue_10= 0.2840, -\n",
      "i6, pvalue_14= 0.0111, pvalue_10= 0.2531, -\n",
      "i7, pvalue_14= 0.0038, pvalue_10= 0.1736, -\n",
      "i8, pvalue_14= 0.0025, pvalue_10= 0.0827, -\n",
      "i9, pvalue_14= 0.0012, pvalue_10= 0.0790, -\n"
     ]
    }
   ],
   "source": [
    "# Richness\n",
    "for i in range(10):\n",
    "    res = '-'\n",
    "    pvalue_14 = stats.kruskal(riqueza_total[4, :, i],\n",
    "                               riqueza_total[1, :, i])[1]\n",
    "    \n",
    "    pvalue_10 = stats.kruskal(riqueza_total[0, :, i],\n",
    "                               riqueza_total[1, :, i])[1]\n",
    "    if pvalue_14 <=0.05 and pvalue_10 <= 0.05:\n",
    "        res = '---DIFFERENT---'\n",
    "    print('i{}, pvalue_14= {:.4f}, pvalue_10= {:.4f}, {}'.format(i, pvalue_14, pvalue_10, res))"
   ]
  },
  {
   "cell_type": "code",
   "execution_count": 32,
   "metadata": {
    "collapsed": true,
    "deletable": true,
    "editable": true
   },
   "outputs": [
    {
     "ename": "NameError",
     "evalue": "name 'area' is not defined",
     "output_type": "error",
     "traceback": [
      "\u001b[0;31m---------------------------------------------------------------------------\u001b[0m",
      "\u001b[0;31mNameError\u001b[0m                                 Traceback (most recent call last)",
      "\u001b[0;32m<ipython-input-32-2ca971fb0e70>\u001b[0m in \u001b[0;36m<module>\u001b[0;34m()\u001b[0m\n\u001b[1;32m      2\u001b[0m \u001b[1;32mfor\u001b[0m \u001b[0mi\u001b[0m \u001b[1;32min\u001b[0m \u001b[0mrange\u001b[0m\u001b[1;33m(\u001b[0m\u001b[1;36m10\u001b[0m\u001b[1;33m)\u001b[0m\u001b[1;33m:\u001b[0m\u001b[1;33m\u001b[0m\u001b[0m\n\u001b[1;32m      3\u001b[0m     \u001b[0mres\u001b[0m \u001b[1;33m=\u001b[0m \u001b[1;34m'-'\u001b[0m\u001b[1;33m\u001b[0m\u001b[0m\n\u001b[0;32m----> 4\u001b[0;31m     pvalue_14 = stats.kruskal(np.array(area)[4, :, i],\n\u001b[0m\u001b[1;32m      5\u001b[0m                                np.array(area)[1, :, i])[1]\n\u001b[1;32m      6\u001b[0m \u001b[1;33m\u001b[0m\u001b[0m\n",
      "\u001b[0;31mNameError\u001b[0m: name 'area' is not defined"
     ]
    }
   ],
   "source": [
    "# Area - TO DO\n",
    "for i in range(10):\n",
    "    res = '-'\n",
    "    pvalue_14 = stats.kruskal(np.array(area)[4, :, i],\n",
    "                               np.array(area)[1, :, i])[1]\n",
    "    \n",
    "    pvalue_10 = stats.kruskal(np.array(area)[0, :, i],\n",
    "                               np.array(area)[1, :, i])[1]\n",
    "    if pvalue_14 <=0.05 and pvalue_10 <= 0.05:\n",
    "        res = '---DIFFERENT---'\n",
    "    print('i{}, pvalue_14={:.4f}, pvalue_10={:.4f}, {}'.format(i, pvalue_14, pvalue_10, res))"
   ]
  },
  {
   "cell_type": "markdown",
   "metadata": {
    "deletable": true,
    "editable": true
   },
   "source": [
    "With ANOVA:"
   ]
  },
  {
   "cell_type": "code",
   "execution_count": 26,
   "metadata": {
    "collapsed": false,
    "deletable": true,
    "editable": true
   },
   "outputs": [
    {
     "name": "stdout",
     "output_type": "stream",
     "text": [
      "i0, pvalue_14=0.4583, pvalue_10=0.7663, -\n",
      "i1, pvalue_14=0.3620, pvalue_10=0.5583, -\n",
      "i2, pvalue_14=0.5381, pvalue_10=0.3465, -\n",
      "i3, pvalue_14=0.1845, pvalue_10=0.3212, -\n",
      "i4, pvalue_14=0.0463, pvalue_10=0.2364, -\n",
      "i5, pvalue_14=0.0229, pvalue_10=0.2059, -\n",
      "i6, pvalue_14=0.0055, pvalue_10=0.1683, -\n",
      "i7, pvalue_14=0.0020, pvalue_10=0.1047, -\n",
      "i8, pvalue_14=0.0017, pvalue_10=0.0446, ---DIFFERENT---\n",
      "i9, pvalue_14=0.0008, pvalue_10=0.0417, ---DIFFERENT---\n"
     ]
    }
   ],
   "source": [
    "# Richness\n",
    "for i in range(10):\n",
    "    res = '-'\n",
    "    pvalue_14 = stats.f_oneway(riqueza_total[4, :, i],\n",
    "                               riqueza_total[1, :, i])[1]\n",
    "    \n",
    "    pvalue_10 = stats.f_oneway(riqueza_total[0, :, i],\n",
    "                               riqueza_total[1, :, i])[1]\n",
    "    if pvalue_14 <=0.05 and pvalue_10 <= 0.05:\n",
    "        res = '---DIFFERENT---'\n",
    "    print('i{}, pvalue_14={:.4f}, pvalue_10={:.4f}, {}'.format(i, pvalue_14, pvalue_10, res))"
   ]
  },
  {
   "cell_type": "code",
   "execution_count": 34,
   "metadata": {
    "collapsed": true,
    "deletable": true,
    "editable": true
   },
   "outputs": [
    {
     "ename": "NameError",
     "evalue": "name 'area' is not defined",
     "output_type": "error",
     "traceback": [
      "\u001b[0;31m---------------------------------------------------------------------------\u001b[0m",
      "\u001b[0;31mNameError\u001b[0m                                 Traceback (most recent call last)",
      "\u001b[0;32m<ipython-input-34-78fd1c9a4c44>\u001b[0m in \u001b[0;36m<module>\u001b[0;34m()\u001b[0m\n\u001b[1;32m      2\u001b[0m \u001b[1;32mfor\u001b[0m \u001b[0mi\u001b[0m \u001b[1;32min\u001b[0m \u001b[0mrange\u001b[0m\u001b[1;33m(\u001b[0m\u001b[1;36m10\u001b[0m\u001b[1;33m)\u001b[0m\u001b[1;33m:\u001b[0m\u001b[1;33m\u001b[0m\u001b[0m\n\u001b[1;32m      3\u001b[0m     \u001b[0mres\u001b[0m \u001b[1;33m=\u001b[0m \u001b[1;34m'-'\u001b[0m\u001b[1;33m\u001b[0m\u001b[0m\n\u001b[0;32m----> 4\u001b[0;31m     pvalue_14 = stats.f_oneway(np.array(area)[4, :, i],\n\u001b[0m\u001b[1;32m      5\u001b[0m                                np.array(area)[1, :, i])[1]\n\u001b[1;32m      6\u001b[0m \u001b[1;33m\u001b[0m\u001b[0m\n",
      "\u001b[0;31mNameError\u001b[0m: name 'area' is not defined"
     ]
    }
   ],
   "source": [
    "# Area - TO DO\n",
    "for i in range(10):\n",
    "    res = '-'\n",
    "    pvalue_14 = stats.f_oneway(np.array(area)[4, :, i],\n",
    "                               np.array(area)[1, :, i])[1]\n",
    "    \n",
    "    pvalue_10 = stats.f_oneway(np.array(area)[0, :, i],\n",
    "                               np.array(area)[1, :, i])[1]\n",
    "    if pvalue_14 <=0.05 and pvalue_10 <= 0.05:\n",
    "        res = '---DIFFERENT---'\n",
    "    print('i{}, pvalue_14={:.4f}, pvalue_10={:.4f}, {}'.format(i, pvalue_14, pvalue_10, res))"
   ]
  },
  {
   "cell_type": "code",
   "execution_count": null,
   "metadata": {
    "collapsed": true,
    "deletable": true,
    "editable": true
   },
   "outputs": [],
   "source": []
  }
 ],
 "metadata": {
  "kernelspec": {
   "display_name": "Python 3",
   "language": "python",
   "name": "python3"
  },
  "language_info": {
   "codemirror_mode": {
    "name": "ipython",
    "version": 3
   },
   "file_extension": ".py",
   "mimetype": "text/x-python",
   "name": "python",
   "nbconvert_exporter": "python",
   "pygments_lexer": "ipython3",
   "version": "3.5.2"
  }
 },
 "nbformat": 4,
 "nbformat_minor": 1
}
