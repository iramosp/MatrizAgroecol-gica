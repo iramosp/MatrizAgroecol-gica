{
 "cells": [
  {
   "cell_type": "markdown",
   "metadata": {},
   "source": [
    "**¿Cómo incorporar los parches de hábitat en las medidas de biodiversidad?**"
   ]
  },
  {
   "cell_type": "code",
   "execution_count": 1,
   "metadata": {
    "collapsed": false
   },
   "outputs": [],
   "source": [
    "import numpy as np\n",
    "import seaborn\n",
    "from scipy.integrate import odeint\n",
    "from matplotlib import pyplot as plt\n",
    "from copy import deepcopy"
   ]
  },
  {
   "cell_type": "code",
   "execution_count": 2,
   "metadata": {
    "collapsed": true
   },
   "outputs": [],
   "source": [
    "%run ../modelo.py\n",
    "%run ../medidas_biodiversidad.py"
   ]
  },
  {
   "cell_type": "code",
   "execution_count": 3,
   "metadata": {
    "collapsed": false
   },
   "outputs": [],
   "source": [
    "np.set_printoptions(precision=4, suppress=True)"
   ]
  },
  {
   "cell_type": "code",
   "execution_count": 4,
   "metadata": {
    "collapsed": true
   },
   "outputs": [],
   "source": [
    "plt.style.use('seaborn-whitegrid')"
   ]
  },
  {
   "cell_type": "markdown",
   "metadata": {},
   "source": [
    "## Leer datos"
   ]
  },
  {
   "cell_type": "code",
   "execution_count": 5,
   "metadata": {
    "collapsed": false
   },
   "outputs": [],
   "source": [
    "datos_iteraciones = []\n",
    "with open('../iteraciones.txt', 'r') as file:\n",
    "    rows = file.readlines()\n",
    "    for row in rows:\n",
    "        datos_iteraciones.append([row[:20], int(row[-2])])"
   ]
  },
  {
   "cell_type": "code",
   "execution_count": 6,
   "metadata": {
    "collapsed": true
   },
   "outputs": [],
   "source": [
    "all_condiciones_iniciales = [np.loadtxt(\"../comunidades/\" + file[0][:20] + \"-c.txt\") for file in datos_iteraciones]\n",
    "all_tasas_reproduccion = [np.loadtxt(\"../comunidades/\" + file[0][:20] + \"-v.txt\") for file in datos_iteraciones]\n",
    "all_matriz_interacciones = [np.loadtxt(\"../comunidades/\" + file[0][:20] + '-m.txt') for file in datos_iteraciones]\n",
    "all_iteraciones = [file[1] for file in datos_iteraciones]"
   ]
  },
  {
   "cell_type": "code",
   "execution_count": 7,
   "metadata": {
    "collapsed": true
   },
   "outputs": [],
   "source": [
    "def modificar_matriz(m):\n",
    "    for i in range(10):\n",
    "        m[i][i] *= 15\n",
    "    return m\n",
    "\n",
    "def modificar_tasas(tasa):\n",
    "    tasa[tasa > 0] = tasa[tasa > 0] * 20\n",
    "    return tasa\n",
    "\n",
    "def modificar_condiciones0(c0):\n",
    "    c0 = c0 * 10\n",
    "    return c0\n",
    "\n",
    "def modificar_matriz2(m):\n",
    "    for i in range(10):\n",
    "        m[i][i] *= 25\n",
    "    return m"
   ]
  },
  {
   "cell_type": "code",
   "execution_count": 8,
   "metadata": {
    "collapsed": false
   },
   "outputs": [],
   "source": [
    "# Escoger 40 comunidades de cada tipo: oscilante y punto fijo\n",
    "os = []\n",
    "eq = []\n",
    "for i, comunidad in enumerate(datos_iteraciones):\n",
    "    if comunidad[0][-2:] == 'os' and comunidad[1] != 0:\n",
    "        os.append(i)\n",
    "    elif comunidad[0][-2:] == 'eq' and comunidad[1] != 0:\n",
    "        eq.append(i)    "
   ]
  },
  {
   "cell_type": "code",
   "execution_count": 9,
   "metadata": {
    "collapsed": false
   },
   "outputs": [],
   "source": [
    "comunidades = os[2:3] + eq[2:3]"
   ]
  },
  {
   "cell_type": "code",
   "execution_count": 10,
   "metadata": {
    "collapsed": false
   },
   "outputs": [
    {
     "data": {
      "text/plain": [
       "[64, 2]"
      ]
     },
     "execution_count": 10,
     "metadata": {},
     "output_type": "execute_result"
    }
   ],
   "source": [
    "comunidades"
   ]
  },
  {
   "cell_type": "markdown",
   "metadata": {
    "heading_collapsed": true
   },
   "source": [
    "## Experimento 1: comunidades originales\n",
    "\n",
    "Con las comunidades originales, sin modificar parámetros de dispersión o mortalidad."
   ]
  },
  {
   "cell_type": "code",
   "execution_count": 15,
   "metadata": {
    "collapsed": false,
    "hidden": true
   },
   "outputs": [],
   "source": [
    "paisajes = np.load(\"../paisajes_h2.npy\")\n",
    "\n",
    "Dispersion = {\"b\": 0.3,\n",
    "              \"m\": 1,\n",
    "              \"i\": 1}\n",
    "\n",
    "Mortalidad = {\"b\": 0,\n",
    "              \"m\": 0.3,\n",
    "              \"i\": 0.6}\n",
    "t_total = 40"
   ]
  },
  {
   "cell_type": "code",
   "execution_count": 11,
   "metadata": {
    "collapsed": true,
    "hidden": true
   },
   "outputs": [],
   "source": [
    "for c in comunidades:\n",
    "    res = [None] * len(paisajes)\n",
    "    for p in range(len(paisajes)):\n",
    "        res[p] = matriz_agroecologica(paisajes[p].tolist(),\n",
    "                                      all_matriz_interacciones[c], \n",
    "                                      all_tasas_reproduccion[c], \n",
    "                                      all_condiciones_iniciales[c],\n",
    "                                      t_total, \n",
    "                                      Dispersion,\n",
    "                                      Mortalidad,\n",
    "                                      all_iteraciones[c])\n",
    "        #res[p] = res[p][-all_iteraciones[c]:] # comentar esta línea para guardar todo\n",
    "    res = np.array(res)\n",
    "    np.save(\"exp1_c{:03d}\".format(c), res)"
   ]
  },
  {
   "cell_type": "markdown",
   "metadata": {
    "heading_collapsed": true
   },
   "source": [
    "## Experimento 2: comunidades modificadas\n",
    "\n",
    "Con las comunidades modificadas, pero sin modificar parámetros de dispersión o mortalidad. Estas son las comunidades que se usaron para la versión actual."
   ]
  },
  {
   "cell_type": "code",
   "execution_count": 14,
   "metadata": {
    "collapsed": false,
    "hidden": true
   },
   "outputs": [
    {
     "ename": "NameError",
     "evalue": "name 'all_matriz_interacciones' is not defined",
     "output_type": "error",
     "traceback": [
      "\u001b[0;31m---------------------------------------------------------------------------\u001b[0m",
      "\u001b[0;31mNameError\u001b[0m                                 Traceback (most recent call last)",
      "\u001b[0;32m<ipython-input-14-dd47c7068966>\u001b[0m in \u001b[0;36m<module>\u001b[0;34m()\u001b[0m\n\u001b[1;32m     10\u001b[0m \u001b[0mt_total\u001b[0m \u001b[1;33m=\u001b[0m \u001b[1;36m40\u001b[0m\u001b[1;33m\u001b[0m\u001b[0m\n\u001b[1;32m     11\u001b[0m \u001b[1;33m\u001b[0m\u001b[0m\n\u001b[0;32m---> 12\u001b[0;31m \u001b[0mmatriz_interacciones2\u001b[0m \u001b[1;33m=\u001b[0m \u001b[0mdeepcopy\u001b[0m\u001b[1;33m(\u001b[0m\u001b[0mall_matriz_interacciones\u001b[0m\u001b[1;33m)\u001b[0m\u001b[1;33m\u001b[0m\u001b[0m\n\u001b[0m\u001b[1;32m     13\u001b[0m \u001b[0mmatriz_interacciones2\u001b[0m \u001b[1;33m=\u001b[0m \u001b[1;33m[\u001b[0m\u001b[0mmodificar_matriz\u001b[0m\u001b[1;33m(\u001b[0m\u001b[0mm\u001b[0m\u001b[1;33m)\u001b[0m \u001b[1;32mfor\u001b[0m \u001b[0mm\u001b[0m \u001b[1;32min\u001b[0m \u001b[0mmatriz_interacciones2\u001b[0m\u001b[1;33m]\u001b[0m\u001b[1;33m\u001b[0m\u001b[0m\n\u001b[1;32m     14\u001b[0m \u001b[1;33m\u001b[0m\u001b[0m\n",
      "\u001b[0;31mNameError\u001b[0m: name 'all_matriz_interacciones' is not defined"
     ]
    }
   ],
   "source": [
    "paisajes = np.load(\"../paisajes_h2.npy\")\n",
    "\n",
    "Dispersion = {\"b\": 0.3,\n",
    "              \"m\": 1,\n",
    "              \"i\": 1}\n",
    "\n",
    "Mortalidad = {\"b\": 0,\n",
    "              \"m\": 0.3,\n",
    "              \"i\": 0.6}\n",
    "t_total = 40\n",
    "\n",
    "matriz_interacciones2 = deepcopy(all_matriz_interacciones)\n",
    "matriz_interacciones2 = [modificar_matriz(m) for m in matriz_interacciones2]\n",
    "\n",
    "condiciones_iniciales2 = deepcopy(all_condiciones_iniciales)\n",
    "condiciones_iniciales2 = [modificar_condiciones0(m) for m in condiciones_iniciales2]\n",
    "\n",
    "tasas_reproduccion2 = deepcopy(all_tasas_reproduccion)\n",
    "tasas_reproduccion2 = [modificar_tasas(t) for t in tasas_reproduccion2]\n",
    "\n",
    "pasos_mm = 2"
   ]
  },
  {
   "cell_type": "code",
   "execution_count": 13,
   "metadata": {
    "collapsed": true,
    "hidden": true
   },
   "outputs": [],
   "source": [
    "for c in comunidades:\n",
    "    res = [None] * len(paisajes)\n",
    "    for p in range(len(paisajes)):\n",
    "        res[p] = matriz_agroecologica(paisajes[p].tolist(),\n",
    "                                      matriz_interacciones2[c], \n",
    "                                      tasas_reproduccion2[c], \n",
    "                                      condiciones_iniciales2[c],\n",
    "                                      t_total, \n",
    "                                      Dispersion,\n",
    "                                      Mortalidad,\n",
    "                                      pasos_mm)\n",
    "        #res[p] = res[p][-all_iteraciones[c]:] guardar todo\n",
    "    res = np.array(res)\n",
    "    np.save(\"exp2_c{:03d}\".format(c), res)"
   ]
  },
  {
   "cell_type": "markdown",
   "metadata": {
    "heading_collapsed": true
   },
   "source": [
    "## Experimento 3: \n",
    "\n",
    "Aumentando pasos de migración a 5, comunidades modificadas y mismos parámetros de dispersión y mortalidad que Exp2."
   ]
  },
  {
   "cell_type": "code",
   "execution_count": 6,
   "metadata": {
    "collapsed": false,
    "hidden": true
   },
   "outputs": [
    {
     "ename": "NameError",
     "evalue": "name 'all_matriz_interacciones' is not defined",
     "output_type": "error",
     "traceback": [
      "\u001b[0;31m---------------------------------------------------------------------------\u001b[0m",
      "\u001b[0;31mNameError\u001b[0m                                 Traceback (most recent call last)",
      "\u001b[0;32m<ipython-input-6-73ccecd9f18a>\u001b[0m in \u001b[0;36m<module>\u001b[0;34m()\u001b[0m\n\u001b[1;32m     10\u001b[0m \u001b[0mt_total\u001b[0m \u001b[1;33m=\u001b[0m \u001b[1;36m40\u001b[0m\u001b[1;33m\u001b[0m\u001b[0m\n\u001b[1;32m     11\u001b[0m \u001b[1;33m\u001b[0m\u001b[0m\n\u001b[0;32m---> 12\u001b[0;31m \u001b[0mmatriz_interacciones2\u001b[0m \u001b[1;33m=\u001b[0m \u001b[0mdeepcopy\u001b[0m\u001b[1;33m(\u001b[0m\u001b[0mall_matriz_interacciones\u001b[0m\u001b[1;33m)\u001b[0m\u001b[1;33m\u001b[0m\u001b[0m\n\u001b[0m\u001b[1;32m     13\u001b[0m \u001b[0mmatriz_interacciones2\u001b[0m \u001b[1;33m=\u001b[0m \u001b[1;33m[\u001b[0m\u001b[0mmodificar_matriz\u001b[0m\u001b[1;33m(\u001b[0m\u001b[0mm\u001b[0m\u001b[1;33m)\u001b[0m \u001b[1;32mfor\u001b[0m \u001b[0mm\u001b[0m \u001b[1;32min\u001b[0m \u001b[0mmatriz_interacciones2\u001b[0m\u001b[1;33m]\u001b[0m\u001b[1;33m\u001b[0m\u001b[0m\n\u001b[1;32m     14\u001b[0m \u001b[1;33m\u001b[0m\u001b[0m\n",
      "\u001b[0;31mNameError\u001b[0m: name 'all_matriz_interacciones' is not defined"
     ]
    }
   ],
   "source": [
    "paisajes = np.load(\"../paisajes_h2.npy\")\n",
    "\n",
    "Dispersion = {\"b\": 0.3,\n",
    "              \"m\": 1,\n",
    "              \"i\": 1}\n",
    "\n",
    "Mortalidad = {\"b\": 0,\n",
    "              \"m\": 0.3,\n",
    "              \"i\": 0.6}\n",
    "t_total = 40\n",
    "\n",
    "matriz_interacciones2 = deepcopy(all_matriz_interacciones)\n",
    "matriz_interacciones2 = [modificar_matriz(m) for m in matriz_interacciones2]\n",
    "\n",
    "condiciones_iniciales2 = deepcopy(all_condiciones_iniciales)\n",
    "condiciones_iniciales2 = [modificar_condiciones0(m) for m in condiciones_iniciales2]\n",
    "\n",
    "tasas_reproduccion2 = deepcopy(all_tasas_reproduccion)\n",
    "tasas_reproduccion2 = [modificar_tasas(t) for t in tasas_reproduccion2]\n",
    "\n",
    "pasos_mm = 5"
   ]
  },
  {
   "cell_type": "code",
   "execution_count": 15,
   "metadata": {
    "collapsed": true,
    "hidden": true
   },
   "outputs": [],
   "source": [
    "for c in comunidades:\n",
    "    res = [None] * len(paisajes)\n",
    "    for p in range(len(paisajes)):\n",
    "        res[p] = matriz_agroecologica(paisajes[p].tolist(),\n",
    "                                      matriz_interacciones2[c], \n",
    "                                      tasas_reproduccion2[c], \n",
    "                                      condiciones_iniciales2[c],\n",
    "                                      t_total, \n",
    "                                      Dispersion,\n",
    "                                      Mortalidad,\n",
    "                                      pasos_mm)\n",
    "        #res[p] = res[p][-all_iteraciones[c]:] guardar todo\n",
    "    res = np.array(res)\n",
    "    np.save(\"exp3_c{:03d}\".format(c), res)"
   ]
  },
  {
   "cell_type": "markdown",
   "metadata": {
    "heading_collapsed": true
   },
   "source": [
    "## Experimento 4\n",
    "Aumentando pasos de migración a 5 y mortalidad en celdas intensivas a 0.85; mismos parámetros de dispersión y comunidades modificadas. Aumentando tiempo a 60. Estos fueron los parámetros que usé para el Exp1b."
   ]
  },
  {
   "cell_type": "code",
   "execution_count": 135,
   "metadata": {
    "collapsed": false,
    "hidden": true
   },
   "outputs": [],
   "source": [
    "paisajes = np.load(\"../paisajes_h2.npy\")\n",
    "\n",
    "Dispersion = {\"b\": 0.3,\n",
    "              \"m\": 1,\n",
    "              \"i\": 1}\n",
    "\n",
    "Mortalidad = {\"b\": 0,\n",
    "              \"m\": 0.3,\n",
    "              \"i\": 0.85}\n",
    "t_total = 60\n",
    "\n",
    "matriz_interacciones2 = deepcopy(all_matriz_interacciones)\n",
    "matriz_interacciones2 = [modificar_matriz(m) for m in matriz_interacciones2]\n",
    "\n",
    "condiciones_iniciales2 = deepcopy(all_condiciones_iniciales)\n",
    "condiciones_iniciales2 = [modificar_condiciones0(m) for m in condiciones_iniciales2]\n",
    "\n",
    "tasas_reproduccion2 = deepcopy(all_tasas_reproduccion)\n",
    "tasas_reproduccion2 = [modificar_tasas(t) for t in tasas_reproduccion2]\n",
    "\n",
    "pasos_mm = 5"
   ]
  },
  {
   "cell_type": "code",
   "execution_count": 136,
   "metadata": {
    "collapsed": true,
    "hidden": true
   },
   "outputs": [],
   "source": [
    "for c in comunidades:\n",
    "    res = [None] * len(paisajes)\n",
    "    for p in range(len(paisajes)):\n",
    "        res[p] = matriz_agroecologica(paisajes[p].tolist(),\n",
    "                                      matriz_interacciones2[c], \n",
    "                                      tasas_reproduccion2[c], \n",
    "                                      condiciones_iniciales2[c],\n",
    "                                      t_total, \n",
    "                                      Dispersion,\n",
    "                                      Mortalidad,\n",
    "                                      pasos_mm)\n",
    "        #res[p] = res[p][-all_iteraciones[c]:] guardar todo\n",
    "    res = np.array(res)\n",
    "    np.save(\"exp4_h2_c{:03d}\".format(c), res)"
   ]
  },
  {
   "cell_type": "markdown",
   "metadata": {},
   "source": [
    "## Experimento 5\n",
    "\n",
    "Matriz de interacciones modificadas 2."
   ]
  },
  {
   "cell_type": "code",
   "execution_count": 41,
   "metadata": {
    "collapsed": false
   },
   "outputs": [],
   "source": [
    "paisajes = np.load(\"../paisajes_h4.npy\")\n",
    "\n",
    "Dispersion = {\"b\": 0.3,\n",
    "              \"m\": 1,\n",
    "              \"i\": 1}\n",
    "\n",
    "Mortalidad = {\"b\": 0,\n",
    "              \"m\": 0.2,\n",
    "              \"i\": 0.8}\n",
    "t_total = 50\n",
    "\n",
    "matriz_interacciones2 = deepcopy(all_matriz_interacciones)\n",
    "matriz_interacciones2 = [modificar_matriz2(m) for m in matriz_interacciones2]\n",
    "\n",
    "condiciones_iniciales2 = deepcopy(all_condiciones_iniciales)\n",
    "condiciones_iniciales2 = [modificar_condiciones0(m) for m in condiciones_iniciales2]\n",
    "\n",
    "tasas_reproduccion2 = deepcopy(all_tasas_reproduccion)\n",
    "tasas_reproduccion2 = [modificar_tasas(t) for t in tasas_reproduccion2]\n",
    "\n",
    "pasos_mm = 4"
   ]
  },
  {
   "cell_type": "code",
   "execution_count": 42,
   "metadata": {
    "collapsed": true
   },
   "outputs": [],
   "source": [
    "for c in comunidades:\n",
    "    res = [None] * len(paisajes)\n",
    "    for p in range(len(paisajes)):\n",
    "        res[p] = matriz_agroecologica(paisajes[p].tolist(),\n",
    "                                      matriz_interacciones2[c], \n",
    "                                      tasas_reproduccion2[c], \n",
    "                                      condiciones_iniciales2[c],\n",
    "                                      t_total, \n",
    "                                      Dispersion,\n",
    "                                      Mortalidad,\n",
    "                                      pasos_mm)\n",
    "        #res[p] = res[p][-all_iteraciones[c]:] guardar todo\n",
    "    res = np.array(res)\n",
    "    np.save(\"exp5_h4_c{:03d}\".format(c), res)"
   ]
  },
  {
   "cell_type": "markdown",
   "metadata": {
    "heading_collapsed": true
   },
   "source": [
    "## Experimento 6"
   ]
  },
  {
   "cell_type": "code",
   "execution_count": 11,
   "metadata": {
    "collapsed": false,
    "hidden": true
   },
   "outputs": [],
   "source": [
    "paisajes = np.load(\"../paisajes_h2.npy\")\n",
    "\n",
    "Dispersion = {\"b\": 0.3,\n",
    "              \"m\": 1,\n",
    "              \"i\": 1}\n",
    "\n",
    "Mortalidad = {\"b\": 0,\n",
    "              \"m\": 0.3,\n",
    "              \"i\": 0.75}\n",
    "t_total = 50\n",
    "\n",
    "matriz_interacciones2 = deepcopy(all_matriz_interacciones)\n",
    "matriz_interacciones2 = [modificar_matriz2(m) for m in matriz_interacciones2]\n",
    "\n",
    "condiciones_iniciales2 = deepcopy(all_condiciones_iniciales)\n",
    "condiciones_iniciales2 = [modificar_condiciones0(m) for m in condiciones_iniciales2]\n",
    "\n",
    "tasas_reproduccion2 = deepcopy(all_tasas_reproduccion)\n",
    "tasas_reproduccion2 = [modificar_tasas(t) for t in tasas_reproduccion2]\n",
    "\n",
    "pasos_mm = 3"
   ]
  },
  {
   "cell_type": "code",
   "execution_count": 12,
   "metadata": {
    "collapsed": true,
    "hidden": true
   },
   "outputs": [],
   "source": [
    "for c in comunidades:\n",
    "    res = [None] * len(paisajes)\n",
    "    for p in range(len(paisajes)):\n",
    "        res[p] = matriz_agroecologica(paisajes[p].tolist(),\n",
    "                                      matriz_interacciones2[c], \n",
    "                                      tasas_reproduccion2[c], \n",
    "                                      condiciones_iniciales2[c],\n",
    "                                      t_total, \n",
    "                                      Dispersion,\n",
    "                                      Mortalidad,\n",
    "                                      pasos_mm)\n",
    "        #res[p] = res[p][-all_iteraciones[c]:] guardar todo\n",
    "    res = np.array(res)\n",
    "    np.save(\"exp6_h2_c{:03d}\".format(c), res)"
   ]
  },
  {
   "cell_type": "markdown",
   "metadata": {
    "heading_collapsed": true
   },
   "source": [
    "## Experimento 7\n",
    "Pasos migración = 3; Mortalidad[i]=0.75; Mortalidad[b]=0.25."
   ]
  },
  {
   "cell_type": "code",
   "execution_count": 14,
   "metadata": {
    "collapsed": false,
    "hidden": true
   },
   "outputs": [],
   "source": [
    "paisajes = np.load(\"../paisajes_h2.npy\")\n",
    "\n",
    "Dispersion = {\"b\": 0.3,\n",
    "              \"m\": 1,\n",
    "              \"i\": 1}\n",
    "\n",
    "Mortalidad = {\"b\": 0,\n",
    "              \"m\": 0.25,\n",
    "              \"i\": 0.75}\n",
    "t_total = 50\n",
    "\n",
    "matriz_interacciones2 = deepcopy(all_matriz_interacciones)\n",
    "matriz_interacciones2 = [modificar_matriz2(m) for m in matriz_interacciones2]\n",
    "\n",
    "condiciones_iniciales2 = deepcopy(all_condiciones_iniciales)\n",
    "condiciones_iniciales2 = [modificar_condiciones0(m) for m in condiciones_iniciales2]\n",
    "\n",
    "tasas_reproduccion2 = deepcopy(all_tasas_reproduccion)\n",
    "tasas_reproduccion2 = [modificar_tasas(t) for t in tasas_reproduccion2]\n",
    "\n",
    "pasos_mm = 3"
   ]
  },
  {
   "cell_type": "code",
   "execution_count": 14,
   "metadata": {
    "collapsed": false,
    "hidden": true
   },
   "outputs": [],
   "source": [
    "for c in comunidades:\n",
    "    res = [None] * len(paisajes)\n",
    "    for p in range(len(paisajes)):\n",
    "        res[p] = matriz_agroecologica(paisajes[p].tolist(),\n",
    "                                      matriz_interacciones2[c], \n",
    "                                      tasas_reproduccion2[c], \n",
    "                                      condiciones_iniciales2[c],\n",
    "                                      t_total, \n",
    "                                      Dispersion,\n",
    "                                      Mortalidad,\n",
    "                                      pasos_mm)\n",
    "        #res[p] = res[p][-all_iteraciones[c]:] guardar todo\n",
    "    res = np.array(res)\n",
    "    np.save(\"exp7_h2_c{:03d}\".format(c), res)"
   ]
  },
  {
   "cell_type": "markdown",
   "metadata": {},
   "source": [
    "## Análisis de datos"
   ]
  },
  {
   "cell_type": "code",
   "execution_count": 15,
   "metadata": {
    "collapsed": true
   },
   "outputs": [],
   "source": [
    "%matplotlib inline"
   ]
  },
  {
   "cell_type": "markdown",
   "metadata": {},
   "source": [
    "Estructura de poblaciones es `poblaciones[intensificacion, tiempo, x, y, especie]` y de población es [tiempo, x, y, especie]"
   ]
  },
  {
   "cell_type": "code",
   "execution_count": 46,
   "metadata": {
    "collapsed": false
   },
   "outputs": [],
   "source": [
    "poblaciones = np.load('./exp5_h4_c064.npy')\n",
    "poblacion = poblaciones[0, :, :, :, :]\n",
    "paisaje = paisajes[0].tolist()\n",
    "\n",
    "biomasa_min = 0.0001\n",
    "\n",
    "# Biomasa paisaje\n",
    "biomasa = [None] * len(poblacion)\n",
    "riqueza = [None] * len(poblacion)\n",
    "\n",
    "for i in range(len(poblacion)):\n",
    "    biomasa[i] = riqueza_paisaje(poblacion, i, biomasa_min)[0] \n",
    "    riqueza[i] = riqueza_paisaje(poblacion, i, biomasa_min)[1]\n",
    "\n",
    "riqueza_milpa = [None] * len(poblacion)\n",
    "biomasa_milpa = [None] * len(poblacion)\n",
    "\n",
    "for i in range(len(poblacion)):\n",
    "    riqueza_milpa[i] = riqueza_agricola(poblacion, paisaje, i, biomasa_min)[1]   \n",
    "    biomasa_milpa[i] = riqueza_agricola(poblacion, paisaje, i, biomasa_min)[0]   "
   ]
  },
  {
   "cell_type": "code",
   "execution_count": 47,
   "metadata": {
    "collapsed": false
   },
   "outputs": [
    {
     "data": {
      "text/plain": [
       "<matplotlib.text.Text at 0x17991ba09e8>"
      ]
     },
     "execution_count": 47,
     "metadata": {},
     "output_type": "execute_result"
    },
    {
     "data": {
      "image/png": "[encoded data removed]",
      "text/plain": [
       "<matplotlib.figure.Figure at 0x17991b3e588>"
      ]
     },
     "metadata": {},
     "output_type": "display_data"
    }
   ],
   "source": [
    "fig = plt.figure()\n",
    "plt.plot(range(len(riqueza_milpa)), biomasa)\n",
    "plt.xlabel('tiempo')\n",
    "plt.ylabel('riqueza total')\n",
    "#plt.xlim(0, 100)"
   ]
  },
  {
   "cell_type": "code",
   "execution_count": 48,
   "metadata": {
    "collapsed": false
   },
   "outputs": [
    {
     "data": {
      "text/plain": [
       "<matplotlib.legend.Legend at 0x17990813f60>"
      ]
     },
     "execution_count": 48,
     "metadata": {},
     "output_type": "execute_result"
    },
    {
     "data": {
      "image/png": "[encoded data removed]",
      "text/plain": [
       "<matplotlib.figure.Figure at 0x179907c7518>"
      ]
     },
     "metadata": {},
     "output_type": "display_data"
    }
   ],
   "source": [
    "riqueza_vs_intesificacion = np.zeros(10)\n",
    "for i in range(10):\n",
    "    riqueza_vs_intesificacion[i] = riqueza_paisaje(poblaciones[i,:,:,:,:], -2, 30)[1]\n",
    "\n",
    "riquezaagricola_vs_intesificacion = np.zeros(10)\n",
    "for i in range(10):\n",
    "    riquezaagricola_vs_intesificacion[i] = riqueza_agricola(poblaciones[i,:,:,:,:], paisaje, -2, 30)[1]\n",
    "\n",
    "fig = plt.figure()\n",
    "plt.plot(range(10), riqueza_vs_intesificacion, color = 'r', label='total')\n",
    "plt.plot(range(10), riquezaagricola_vs_intesificacion, label='agricola')\n",
    "plt.xlabel('intensificación')\n",
    "plt.ylabel('riqueza')\n",
    "plt.ylim(0, 10)\n",
    "plt.legend()"
   ]
  },
  {
   "cell_type": "code",
   "execution_count": 70,
   "metadata": {
    "collapsed": false
   },
   "outputs": [
    {
     "data": {
      "text/plain": [
       "<matplotlib.axes._subplots.AxesSubplot at 0x17997dc0080>"
      ]
     },
     "execution_count": 70,
     "metadata": {},
     "output_type": "execute_result"
    },
    {
     "data": {
      "image/png": "[encoded data removed]",
      "text/plain": [
       "<matplotlib.figure.Figure at 0x17997dbaf98>"
      ]
     },
     "metadata": {},
     "output_type": "display_data"
    }
   ],
   "source": [
    "biomasa_celda, riqueza_celda = medidas_por_celda(poblaciones[0], -2, biomasa_min=30/300)\n",
    "\n",
    "fig = plt.figure(figsize=(7,7))\n",
    "seaborn.heatmap(riqueza_celda, annot=True, fmt='.1f', square=True, vmin=0) \n",
    "#seaborn.heatmap(poblacion[-2, :, :, 1], vmin = 0.0, annot=True, fmt=\".1f\", square=True) "
   ]
  },
  {
   "cell_type": "markdown",
   "metadata": {},
   "source": [
    "## Histograma de especies vivas."
   ]
  },
  {
   "cell_type": "code",
   "execution_count": 71,
   "metadata": {
    "collapsed": false
   },
   "outputs": [],
   "source": [
    "abundancia_especies_agricola = np.zeros((10, 10))\n",
    "for i in range(10):\n",
    "    abundancia_especies_agricola[i] = medida_area(poblaciones[i], paisaje, t=-2, biomasa_min=biomasa_min)[1]"
   ]
  },
  {
   "cell_type": "code",
   "execution_count": 72,
   "metadata": {
    "collapsed": true
   },
   "outputs": [],
   "source": [
    "abundancia_especies_total = np.zeros((10, 10))\n",
    "for i in range(10):\n",
    "    for especie in range(10):\n",
    "        abundancia_especies_total[i, especie] = np.sum(poblaciones[i,-1,:,:,especie])"
   ]
  },
  {
   "cell_type": "code",
   "execution_count": 73,
   "metadata": {
    "collapsed": false
   },
   "outputs": [
    {
     "data": {
      "text/plain": [
       "<matplotlib.text.Text at 0x1799839ec18>"
      ]
     },
     "execution_count": 73,
     "metadata": {},
     "output_type": "execute_result"
    },
    {
     "data": {
      "image/png": "[encoded data removed]",
      "text/plain": [
       "<matplotlib.figure.Figure at 0x179983a4048>"
      ]
     },
     "metadata": {},
     "output_type": "display_data"
    }
   ],
   "source": [
    "fig = plt.figure()\n",
    "plt.bar(range(10), abundancia_especies_total[0])\n",
    "plt.bar(range(10), abundancia_especies_total[9], color='r')\n",
    "plt.xlabel('especies')\n",
    "plt.ylabel('abundancia')"
   ]
  },
  {
   "cell_type": "code",
   "execution_count": 75,
   "metadata": {
    "collapsed": false
   },
   "outputs": [
    {
     "data": {
      "text/plain": [
       "array([ 81.3263,  81.1016,  81.4127,   0.6048,  79.89  ,  81.1578,\n",
       "        81.3429,  80.2234,   0.1893,   0.5364])"
      ]
     },
     "execution_count": 75,
     "metadata": {},
     "output_type": "execute_result"
    }
   ],
   "source": [
    "(abundancia_especies_total[1] / abundancia_especies_total[0])*100"
   ]
  },
  {
   "cell_type": "code",
   "execution_count": 24,
   "metadata": {
    "collapsed": false,
    "scrolled": true
   },
   "outputs": [
    {
     "data": {
      "image/png": "[encoded data removed]",
      "text/plain": [
       "<matplotlib.figure.Figure at 0x179900d5518>"
      ]
     },
     "metadata": {},
     "output_type": "display_data"
    }
   ],
   "source": [
    "fig = plt.figure()\n",
    "plt.bar(range(10), abundancia_especies_agricola[0])\n",
    "plt.bar(range(10), abundancia_especies_agricola[9], color='r')\n",
    "#plt.plot(range(11), np.ones(11)*15, color = 'r')\n",
    "plt.show()"
   ]
  },
  {
   "cell_type": "code",
   "execution_count": 37,
   "metadata": {
    "collapsed": false
   },
   "outputs": [
    {
     "data": {
      "text/plain": [
       "array([    17.0858,      0.    ,     17.0785,      0.    ,  20926.0955,\n",
       "           17.0858,      0.    ,     17.0822,     17.0796,     17.0863])"
      ]
     },
     "execution_count": 37,
     "metadata": {},
     "output_type": "execute_result"
    }
   ],
   "source": [
    "(abundancia_especies_agricola[9] / abundancia_especies_agricola[0]) * 100"
   ]
  },
  {
   "cell_type": "code",
   "execution_count": 87,
   "metadata": {
    "collapsed": false
   },
   "outputs": [
    {
     "data": {
      "text/plain": [
       "array([ 0.    ,  0.    ,  0.2365,  0.    ,  0.    ,  0.    ,  0.    ,\n",
       "        0.    ,  0.    ,  0.    ])"
      ]
     },
     "execution_count": 87,
     "metadata": {},
     "output_type": "execute_result"
    }
   ],
   "source": [
    "abundancia_especies_total[0]"
   ]
  },
  {
   "cell_type": "code",
   "execution_count": 88,
   "metadata": {
    "collapsed": false
   },
   "outputs": [
    {
     "data": {
      "text/plain": [
       "array([ 0.,  0.,  0.,  0.,  0.,  0.,  0.,  0.,  0.,  0.])"
      ]
     },
     "execution_count": 88,
     "metadata": {},
     "output_type": "execute_result"
    }
   ],
   "source": [
    "abundancia_especies_total[9]"
   ]
  },
  {
   "cell_type": "code",
   "execution_count": 56,
   "metadata": {
    "collapsed": true
   },
   "outputs": [
    {
     "name": "stdout",
     "output_type": "stream",
     "text": [
      "[[-0.0245  1.5208  0.      0.      0.      1.7761  1.8356  0.      0.      0.    ]\n",
      " [-0.0446 -0.1706  0.      0.      0.7511 -0.1902 -0.0601  0.     -0.0269\n",
      "   0.    ]\n",
      " [ 0.      0.     -0.1742 -0.0298  0.     -0.1001  0.     -0.0083 -0.0771\n",
      "   0.    ]\n",
      " [ 0.      0.      0.4691 -0.1414  0.     -0.1986  0.     -0.0075 -0.06\n",
      "   0.4984]\n",
      " [ 0.     -0.1887  0.      0.     -0.1513 -0.0828  0.     -0.0996 -0.0432\n",
      "   0.2645]\n",
      " [-0.0144  0.6501  0.3387  0.1376  1.8303 -0.0138 -0.1833  0.      0.\n",
      "   1.2059]\n",
      " [-0.1376  0.8773  0.      0.      0.      1.0699 -0.1749  0.      1.9656\n",
      "   0.    ]\n",
      " [ 0.      0.      1.8327  1.3119  0.7513  0.      0.     -0.1671  0.\n",
      "   0.7834]\n",
      " [ 0.      0.1163  1.6442  1.4942  0.7449  0.     -0.0682  0.     -0.1216\n",
      "   0.4001]\n",
      " [ 0.      0.      0.     -0.1125 -0.0887 -0.109   0.     -0.0693 -0.0556\n",
      "  -0.1776]] \n",
      " \n",
      " [[-0.3678  1.5208  0.      0.      0.      1.7761  1.8356  0.      0.      0.    ]\n",
      " [-0.0446 -2.5587  0.      0.      0.7511 -0.1902 -0.0601  0.     -0.0269\n",
      "   0.    ]\n",
      " [ 0.      0.     -2.6132 -0.0298  0.     -0.1001  0.     -0.0083 -0.0771\n",
      "   0.    ]\n",
      " [ 0.      0.      0.4691 -2.1209  0.     -0.1986  0.     -0.0075 -0.06\n",
      "   0.4984]\n",
      " [ 0.     -0.1887  0.      0.     -2.2691 -0.0828  0.     -0.0996 -0.0432\n",
      "   0.2645]\n",
      " [-0.0144  0.6501  0.3387  0.1376  1.8303 -0.2068 -0.1833  0.      0.\n",
      "   1.2059]\n",
      " [-0.1376  0.8773  0.      0.      0.      1.0699 -2.6241  0.      1.9656\n",
      "   0.    ]\n",
      " [ 0.      0.      1.8327  1.3119  0.7513  0.      0.     -2.5071  0.\n",
      "   0.7834]\n",
      " [ 0.      0.1163  1.6442  1.4942  0.7449  0.     -0.0682  0.     -1.8236\n",
      "   0.4001]\n",
      " [ 0.      0.      0.     -0.1125 -0.0887 -0.109   0.     -0.0693 -0.0556\n",
      "  -2.6639]]\n"
     ]
    }
   ],
   "source": [
    "print(all_matriz_interacciones[2], '\\n \\n', matriz_interacciones2[2])"
   ]
  },
  {
   "cell_type": "code",
   "execution_count": 206,
   "metadata": {
    "collapsed": true
   },
   "outputs": [
    {
     "ename": "NameError",
     "evalue": "name 'tasas_reproduccion2' is not defined",
     "output_type": "error",
     "traceback": [
      "\u001b[0;31m---------------------------------------------------------------------------\u001b[0m",
      "\u001b[0;31mNameError\u001b[0m                                 Traceback (most recent call last)",
      "\u001b[0;32m<ipython-input-206-0e9469d7525f>\u001b[0m in \u001b[0;36m<module>\u001b[0;34m()\u001b[0m\n\u001b[0;32m----> 1\u001b[0;31m \u001b[0mprint\u001b[0m\u001b[1;33m(\u001b[0m\u001b[0mall_tasas_reproduccion\u001b[0m\u001b[1;33m[\u001b[0m\u001b[1;36m2\u001b[0m\u001b[1;33m]\u001b[0m\u001b[1;33m,\u001b[0m \u001b[1;34m'\\n \\n'\u001b[0m\u001b[1;33m,\u001b[0m \u001b[0mtasas_reproduccion2\u001b[0m\u001b[1;33m[\u001b[0m\u001b[1;36m2\u001b[0m\u001b[1;33m]\u001b[0m\u001b[1;33m)\u001b[0m\u001b[1;33m\u001b[0m\u001b[0m\n\u001b[0m",
      "\u001b[0;31mNameError\u001b[0m: name 'tasas_reproduccion2' is not defined"
     ]
    }
   ],
   "source": [
    "print(all_tasas_reproduccion[2], '\\n \\n', tasas_reproduccion2[2])"
   ]
  },
  {
   "cell_type": "code",
   "execution_count": 207,
   "metadata": {
    "collapsed": true
   },
   "outputs": [
    {
     "ename": "NameError",
     "evalue": "name 'condiciones_iniciales2' is not defined",
     "output_type": "error",
     "traceback": [
      "\u001b[0;31m---------------------------------------------------------------------------\u001b[0m",
      "\u001b[0;31mNameError\u001b[0m                                 Traceback (most recent call last)",
      "\u001b[0;32m<ipython-input-207-5f88fc193b31>\u001b[0m in \u001b[0;36m<module>\u001b[0;34m()\u001b[0m\n\u001b[0;32m----> 1\u001b[0;31m \u001b[0mprint\u001b[0m\u001b[1;33m(\u001b[0m\u001b[0mall_condiciones_iniciales\u001b[0m\u001b[1;33m[\u001b[0m\u001b[1;36m2\u001b[0m\u001b[1;33m]\u001b[0m\u001b[1;33m,\u001b[0m \u001b[1;34m'\\n \\n'\u001b[0m\u001b[1;33m,\u001b[0m \u001b[0mcondiciones_iniciales2\u001b[0m\u001b[1;33m[\u001b[0m\u001b[1;36m2\u001b[0m\u001b[1;33m]\u001b[0m\u001b[1;33m)\u001b[0m\u001b[1;33m\u001b[0m\u001b[0m\n\u001b[0m",
      "\u001b[0;31mNameError\u001b[0m: name 'condiciones_iniciales2' is not defined"
     ]
    }
   ],
   "source": [
    "print(all_condiciones_iniciales[2], '\\n \\n', condiciones_iniciales2[2])"
   ]
  },
  {
   "cell_type": "markdown",
   "metadata": {},
   "source": [
    "## Parche hábitat vs agrícola"
   ]
  },
  {
   "cell_type": "markdown",
   "metadata": {},
   "source": [
    "**¿Qué pasa dentro de un parche de hábitat?**\n",
    "\n",
    "Primero, ¿qué pasa con la biomasa dentro de un parche de bosque?"
   ]
  },
  {
   "cell_type": "code",
   "execution_count": 25,
   "metadata": {
    "collapsed": false,
    "scrolled": true
   },
   "outputs": [
    {
     "data": {
      "text/plain": [
       "<matplotlib.text.Text at 0x179902a2828>"
      ]
     },
     "execution_count": 25,
     "metadata": {},
     "output_type": "execute_result"
    },
    {
     "data": {
      "image/png": "[encoded data removed]",
      "text/plain": [
       "<matplotlib.figure.Figure at 0x17990234be0>"
      ]
     },
     "metadata": {},
     "output_type": "display_data"
    }
   ],
   "source": [
    "un_bosque = np.zeros(np.shape(poblaciones)[1])\n",
    "for t in range(np.shape(poblaciones)[1]):\n",
    "    un_bosque[t] = np.sum(poblaciones[9, t, 4, 4, :])\n",
    "fig = plt.figure()\n",
    "plt.plot(un_bosque)\n",
    "#plt.xlim(110, 130)\n",
    "plt.ylim(0)\n",
    "plt.xlabel('tiempo')\n",
    "plt.ylabel('abundancia - parche hábitat')"
   ]
  },
  {
   "cell_type": "code",
   "execution_count": 26,
   "metadata": {
    "collapsed": false
   },
   "outputs": [
    {
     "data": {
      "text/plain": [
       "<matplotlib.text.Text at 0x1799030d780>"
      ]
     },
     "execution_count": 26,
     "metadata": {},
     "output_type": "execute_result"
    },
    {
     "data": {
      "image/png": "[encoded data removed]",
      "text/plain": [
       "<matplotlib.figure.Figure at 0x179902ae9e8>"
      ]
     },
     "metadata": {},
     "output_type": "display_data"
    }
   ],
   "source": [
    "un_bosque = np.zeros(np.shape(poblaciones)[1])\n",
    "for t in range(np.shape(poblaciones)[1]):\n",
    "    un_bosque[t] = np.sum(poblaciones[0, t, 6, 4, :])\n",
    "fig = plt.figure()\n",
    "plt.plot(un_bosque, c='purple')\n",
    "#plt.xlim(110, 130)\n",
    "plt.ylim(0)\n",
    "plt.xlabel('tiempo')\n",
    "plt.ylabel('abundancia - parche agrícola')"
   ]
  },
  {
   "cell_type": "markdown",
   "metadata": {},
   "source": [
    "Luego, ¿qué pasa con la riqueza?"
   ]
  },
  {
   "cell_type": "markdown",
   "metadata": {},
   "source": [
    "Aquí queremos que se observe un cambio entre la intensificación más alta y más baja, lo cual indica que la intensificación de hecho está afectando los parches de bosque."
   ]
  },
  {
   "cell_type": "code",
   "execution_count": 34,
   "metadata": {
    "collapsed": false
   },
   "outputs": [
    {
     "data": {
      "text/plain": [
       "<matplotlib.text.Text at 0x179905724e0>"
      ]
     },
     "execution_count": 34,
     "metadata": {},
     "output_type": "execute_result"
    },
    {
     "data": {
      "image/png": "[encoded data removed]",
      "text/plain": [
       "<matplotlib.figure.Figure at 0x1799051e470>"
      ]
     },
     "metadata": {},
     "output_type": "display_data"
    }
   ],
   "source": [
    "riqueza_un_bosque = np.zeros(np.shape(poblaciones)[1])\n",
    "for t in range(np.shape(poblaciones)[1]):\n",
    "    temp = medidas_por_celda(poblaciones[9], t, biomasa_min=5)[1]\n",
    "    riqueza_un_bosque[t] = temp[4, 4]\n",
    "\n",
    "fig = plt.figure()\n",
    "plt.plot(riqueza_un_bosque, '-o')\n",
    "#plt.xlim(110, 130)\n",
    "plt.ylim(0, 10)\n",
    "plt.xlabel('tiempo')\n",
    "plt.ylabel('riqueza - parche hábitat')"
   ]
  },
  {
   "cell_type": "code",
   "execution_count": 28,
   "metadata": {
    "collapsed": false
   },
   "outputs": [
    {
     "data": {
      "text/plain": [
       "<matplotlib.text.Text at 0x179903c8c18>"
      ]
     },
     "execution_count": 28,
     "metadata": {},
     "output_type": "execute_result"
    },
    {
     "data": {
      "image/png": "[encoded data removed]",
      "text/plain": [
       "<matplotlib.figure.Figure at 0x1799037a320>"
      ]
     },
     "metadata": {},
     "output_type": "display_data"
    }
   ],
   "source": [
    "riqueza_un_bosque = np.zeros(np.shape(poblaciones)[1])\n",
    "for t in range(np.shape(poblaciones)[1]):\n",
    "    temp = medidas_por_celda(poblaciones[0], t, biomasa_min=.1)[1]\n",
    "    riqueza_un_bosque[t] = temp[6, 4]\n",
    "\n",
    "fig = plt.figure()\n",
    "plt.plot(riqueza_un_bosque, '-o', c='purple')\n",
    "#plt.xlim(145, 160)\n",
    "plt.ylim(0, 10)\n",
    "plt.xlabel('tiempo')\n",
    "plt.ylabel('riqueza - parche agrícola')"
   ]
  },
  {
   "cell_type": "code",
   "execution_count": null,
   "metadata": {
    "collapsed": true
   },
   "outputs": [],
   "source": []
  },
  {
   "cell_type": "code",
   "execution_count": null,
   "metadata": {
    "collapsed": true
   },
   "outputs": [],
   "source": []
  },
  {
   "cell_type": "code",
   "execution_count": null,
   "metadata": {
    "collapsed": true
   },
   "outputs": [],
   "source": []
  }
 ],
 "metadata": {
  "kernelspec": {
   "display_name": "Python 3",
   "language": "python",
   "name": "python3"
  },
  "language_info": {
   "codemirror_mode": {
    "name": "ipython",
    "version": 3
   },
   "file_extension": ".py",
   "mimetype": "text/x-python",
   "name": "python",
   "nbconvert_exporter": "python",
   "pygments_lexer": "ipython3",
   "version": "3.5.2"
  }
 },
 "nbformat": 4,
 "nbformat_minor": 0
}
