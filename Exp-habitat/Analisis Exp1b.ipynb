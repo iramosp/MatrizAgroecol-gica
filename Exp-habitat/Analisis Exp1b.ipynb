{
 "cells": [
  {
   "cell_type": "markdown",
   "metadata": {
    "deletable": true,
    "editable": true,
    "heading_collapsed": true
   },
   "source": [
    "## Preliminares y funciones"
   ]
  },
  {
   "cell_type": "code",
   "execution_count": 1,
   "metadata": {
    "collapsed": true,
    "deletable": true,
    "editable": true,
    "hidden": true
   },
   "outputs": [],
   "source": [
    "import numpy as np\n",
    "import seaborn, os\n",
    "from matplotlib import pyplot as plt\n",
    "import matplotlib.gridspec as gridspec\n",
    "import scipy.stats as stats"
   ]
  },
  {
   "cell_type": "code",
   "execution_count": 2,
   "metadata": {
    "collapsed": true,
    "deletable": true,
    "editable": true,
    "hidden": true
   },
   "outputs": [],
   "source": [
    "%run ../medidas_biodiversidad.py"
   ]
  },
  {
   "cell_type": "code",
   "execution_count": 3,
   "metadata": {
    "collapsed": true,
    "deletable": true,
    "editable": true,
    "hidden": true
   },
   "outputs": [],
   "source": [
    "np.set_printoptions(precision=4, suppress=True)"
   ]
  },
  {
   "cell_type": "code",
   "execution_count": 4,
   "metadata": {
    "collapsed": true,
    "deletable": true,
    "editable": true,
    "hidden": true
   },
   "outputs": [],
   "source": [
    "%matplotlib inline\n",
    "plt.style.use('seaborn-whitegrid')\n",
    "seaborn.set_palette(\"deep\", color_codes=True)\n",
    "plt.rcParams['axes.labelsize'] = 16\n",
    "plt.rcParams['axes.titlesize'] = 16\n",
    "plt.rcParams['figure.figsize'] = (9, 7)\n",
    "plt.rcParams['font.family'] = ['serif']\n",
    "plt.rcParams['font.size'] = 14\n",
    "plt.rcParams['legend.fontsize'] = 14\n",
    "plt.rcParams['xtick.labelsize'] = 13\n",
    "plt.rcParams['ytick.labelsize'] = 13"
   ]
  },
  {
   "cell_type": "code",
   "execution_count": 5,
   "metadata": {
    "collapsed": true,
    "deletable": true,
    "editable": true,
    "hidden": true
   },
   "outputs": [],
   "source": [
    "def leer_datos(het):\n",
    "    files = os.listdir(\"../datos/exp1b\")\n",
    "    files.sort()\n",
    "    files = list(filter(lambda x: x[7] == het, files))\n",
    "    \n",
    "    datos = [np.load(\"../datos/exp1b/\" + file) for file in files]\n",
    "    comunidad = [file[10:13] for file in files]\n",
    "    \n",
    "    return datos, comunidad"
   ]
  },
  {
   "cell_type": "code",
   "execution_count": 6,
   "metadata": {
    "collapsed": true,
    "deletable": true,
    "editable": true,
    "hidden": true
   },
   "outputs": [],
   "source": [
    "def calcular_promedio(riquezas):\n",
    "    \"\"\"Recibe datos de riqueza.\n",
    "    \"\"\"\n",
    "    promedios = np.zeros(10)\n",
    "    std = np.zeros(10)\n",
    "    median = np.zeros(10)\n",
    "    for i in range(10):\n",
    "        promedios[i] = np.mean(riquezas[:, i])\n",
    "        std[i] = np.std(riquezas[:, i])\n",
    "        median[i] = np.median(riquezas[:, i])\n",
    "    return promedios, std, median"
   ]
  },
  {
   "cell_type": "code",
   "execution_count": 7,
   "metadata": {
    "collapsed": true,
    "deletable": true,
    "editable": true,
    "hidden": true
   },
   "outputs": [],
   "source": [
    "def elegir_umbral(poblaciones, t=-1, i=9):\n",
    "    ''' Calcula la abundancia de las n especies en un tiempo t y un nivel de intensificación i.\n",
    "    Luego elige un umbral de supervivencia apropiado para esa comunidad...\n",
    "    Recibe un arreglo con la forma poblaciones[intensificacion, tiempo, x, y, especie],\n",
    "    que corresponde a los datos de una comunidad, en un nivel de heterogeneidad, esto es, \n",
    "    uno de los archivos que se guardaron del modelo.\n",
    "    '''\n",
    "    abundancia_especies = np.zeros(poblaciones.shape[-1])\n",
    "    for especie in range(poblaciones.shape[-1]):\n",
    "        abundancia_especies[especie] = np.sum(poblaciones[i,t,:,:,especie])\n",
    "    \n",
    "    umbral = 1.1 * np.min(abundancia_especies[abundancia_especies>10]) # observar este parámetro\n",
    "    \n",
    "    return umbral"
   ]
  },
  {
   "cell_type": "markdown",
   "metadata": {
    "deletable": true,
    "editable": true
   },
   "source": [
    "## Leer datos, calcular riqueza"
   ]
  },
  {
   "cell_type": "code",
   "execution_count": 93,
   "metadata": {
    "collapsed": false,
    "deletable": true,
    "editable": true
   },
   "outputs": [],
   "source": [
    "datos = np.zeros((5, 100, 10, 6, 10, 10, 10)) # het, comunidad, intensificación, tiempo, x, y, especies\n",
    "for het in range(5):\n",
    "    datos[het] = leer_datos(str(het))[0]"
   ]
  },
  {
   "cell_type": "code",
   "execution_count": 125,
   "metadata": {
    "collapsed": true,
    "deletable": true,
    "editable": true
   },
   "outputs": [],
   "source": [
    "riqueza_total = np.zeros((5, 100, 10)) # het, comunidad, intensificación\n",
    "\n",
    "for het in range(5):\n",
    "    for comunidad in range(len(datos[het])):\n",
    "        for intensificacion in range(len(datos[het, comunidad])):\n",
    "            riqueza_total[het, comunidad, intensificacion] = riqueza_paisaje(\n",
    "                                                    datos[het, comunidad, intensificacion, ...],\n",
    "                                                    t=-1, biomasa_min = 60)[1]"
   ]
  },
  {
   "cell_type": "markdown",
   "metadata": {},
   "source": [
    "¿Cuántas comunidades no tuvieron cambios en el nivel de heterogeneidad intermedio (het=2)? Este es el criterio para distinguir si la dinámica de migración y población están acopladas. El resto del análisis se hace sólo con estas comunidades, que son 80."
   ]
  },
  {
   "cell_type": "code",
   "execution_count": 126,
   "metadata": {
    "collapsed": false,
    "deletable": true,
    "editable": true
   },
   "outputs": [
    {
     "data": {
      "text/plain": [
       "20"
      ]
     },
     "execution_count": 126,
     "metadata": {},
     "output_type": "execute_result"
    }
   ],
   "source": [
    "# contar cuántas comunidades no tuvieron cambios en niveles de intensificación\n",
    "count = 0\n",
    "con_cambios = []\n",
    "for het in [2]:\n",
    "    for c in range(100):\n",
    "        if riqueza_total[het][c, 0] != riqueza_total[het][c, 9]:\n",
    "            count += 1\n",
    "            con_cambios.append(c)\n",
    "100-count"
   ]
  },
  {
   "cell_type": "code",
   "execution_count": 127,
   "metadata": {
    "collapsed": true,
    "deletable": true,
    "editable": true
   },
   "outputs": [],
   "source": [
    "np.save('./con_cambios', con_cambios)\n",
    "con_cambios = np.load('con_cambios.npy')"
   ]
  },
  {
   "cell_type": "code",
   "execution_count": 128,
   "metadata": {
    "collapsed": true,
    "deletable": true,
    "editable": true
   },
   "outputs": [],
   "source": [
    "riqueza_total_mean = np.zeros((5, 10)) # het, intensificación\n",
    "riqueza_total_sd = np.zeros((5, 10))\n",
    "riqueza_total_median = np.zeros((5, 10))\n",
    "\n",
    "for het in range(5):\n",
    "    riqueza_total_mean[het], riqueza_total_sd[het], riqueza_total_median[het] = calcular_promedio(riqueza_total[het, con_cambios, :])"
   ]
  },
  {
   "cell_type": "markdown",
   "metadata": {
    "deletable": true,
    "editable": true
   },
   "source": [
    "## Graficar\n"
   ]
  },
  {
   "cell_type": "code",
   "execution_count": 123,
   "metadata": {
    "collapsed": true,
    "deletable": true,
    "editable": true
   },
   "outputs": [],
   "source": [
    "def graficar(medida, promedios, sd):\n",
    "    \"\"\"Graficar promedios de una medida de biodiversidad con curva ajustada ponderada.\n",
    "    \"\"\"\n",
    "    y = [None] * 5\n",
    "    res = [None] * 5\n",
    "    p = [None] * 5\n",
    "    r2 = [None] * 5\n",
    "    r2_adj = [None] * 5\n",
    "\n",
    "    x = np.linspace(0, 9, 100)\n",
    "    xdata = np.array(range(10))\n",
    "    xlabels = np.array(range(10)) * 10 \n",
    "\n",
    "    puntos = [\"o\", \"p\", \"d\", \"v\", \"s\"]\n",
    "    colors = ['#E6852B', '#23B823', '#9BA7F5','#697CF5','#2F3E9D']\n",
    "\n",
    "    for het in range(4, -1, -1):\n",
    "        res[het] = np.polyfit(xdata, promedios[het], 2)\n",
    "        p[het] = np.poly1d(res[het])\n",
    "        r2[het] = 1 - ((np.sum((p[het](range(10)) - promedios[het])**2)) / (np.sum((promedios[het] - np.mean(promedios[het]))**2)))\n",
    "        \n",
    "        r2_adj[het] = r2[het] - (1 - r2[het]) * (2/(10-2-1))\n",
    "        \n",
    "    fig = plt.figure()\n",
    "\n",
    "    for het in range(4, -1, -1):\n",
    "        y[het] = p[het](x)\n",
    "        label = '{} \\n $y = {:+.3f} x^2 {:+.3f} x {:+.3f}$ \\n $R^2={:.4f}$ '.format(\n",
    "                 het, float(p[het][2]), float(p[het][1]), float(p[het][0]), float(r2_adj[het]))\n",
    "        \n",
    "        plt.plot(x, y[het], lw = 4, color= colors[het], label='{}'.format(label)) #fit\n",
    "        plt.plot(xdata, promedios[het], 'o', color= colors[het]) #data points\n",
    "        \n",
    "    plt.ylim(-0.05, 7.05)\n",
    "    plt.xlim(-0.1, 9.1)\n",
    "    plt.xticks(xdata, xlabels)\n",
    "    plt.xlabel(\"% low quality patches\")\n",
    "    plt.ylabel('Mean richness')\n",
    "    plt.title('Richness decline in 10%-habitat landscapes')\n",
    "    plt.legend(loc='center left', title=\"heterogeneity\", bbox_to_anchor=(1, 0.5))\n",
    "    plt.tight_layout()"
   ]
  },
  {
   "cell_type": "code",
   "execution_count": 50,
   "metadata": {
    "collapsed": true,
    "deletable": true,
    "editable": true
   },
   "outputs": [],
   "source": [
    "def graficar_histogramas(medida, ylim):\n",
    "    '''Graficar histogramas en heterogeneidad 4, 1, 0; intensificación 0, 3, 6, 9.\n",
    "    '''\n",
    "    bins = 11\n",
    "    hrange=(0, 11)\n",
    "    fig = plt.figure(figsize=(11, 8))\n",
    "    palette = ['Blues_r', 'Greens_r', 'Oranges_r']\n",
    "    texture = ['x', '.', '-']\n",
    "    gs = gridspec.GridSpec(3, 4)\n",
    "    gs.update(wspace=0.04)\n",
    "    gs.update(hspace=0.3)\n",
    "    for i, het in enumerate([4, 1, 0]):\n",
    "        colors = seaborn.color_palette(palette[i], 5)\n",
    "        for j, intensification in enumerate([0, 3, 6, 9]):\n",
    "            ax = plt.subplot(gs[i, j])\n",
    "            plt.hist(np.array(medida)[het, :, intensification], bins, range=hrange, color=colors[j], \n",
    "                         label='{}, {}'.format(het, intensification), width=1, align='left');\n",
    "            plt.ylim(0, ylim);\n",
    "            plt.xlim(-0.5, 10.5)\n",
    "            plt.setp(ax.get_xticklabels(), size=9)\n",
    "            plt.setp(ax.get_yticklabels(), visible=(intensification==0), size=11)\n",
    "            plt.setp(ax.get_xgridlines(), visible=False)\n",
    "            plt.box()"
   ]
  },
  {
   "cell_type": "code",
   "execution_count": 14,
   "metadata": {
    "collapsed": false,
    "deletable": true,
    "editable": true
   },
   "outputs": [
    {
     "data": {
      "text/plain": [
       "(5, 100, 10)"
      ]
     },
     "execution_count": 14,
     "metadata": {},
     "output_type": "execute_result"
    }
   ],
   "source": [
    "np.shape(riqueza_total)"
   ]
  },
  {
   "cell_type": "markdown",
   "metadata": {
    "deletable": true,
    "editable": true
   },
   "source": [
    "## Resultados"
   ]
  },
  {
   "cell_type": "code",
   "execution_count": 129,
   "metadata": {
    "collapsed": false,
    "deletable": true,
    "editable": true
   },
   "outputs": [
    {
     "data": {
      "image/png": "[encoded data removed]",
      "text/plain": [
       "<matplotlib.figure.Figure at 0x16ea34d2208>"
      ]
     },
     "metadata": {},
     "output_type": "display_data"
    }
   ],
   "source": [
    "graficar_histogramas(riqueza_total[:, con_cambios, :], ylim=25)"
   ]
  },
  {
   "cell_type": "code",
   "execution_count": 130,
   "metadata": {
    "collapsed": false,
    "deletable": true,
    "editable": true
   },
   "outputs": [
    {
     "data": {
      "image/png": "[encoded data removed]",
      "text/plain": [
       "<matplotlib.figure.Figure at 0x16e9fb018d0>"
      ]
     },
     "metadata": {},
     "output_type": "display_data"
    }
   ],
   "source": [
    "graficar('Species richness', riqueza_total_mean, riqueza_total_sd)"
   ]
  },
  {
   "cell_type": "markdown",
   "metadata": {
    "deletable": true,
    "editable": true,
    "heading_collapsed": true
   },
   "source": [
    "## Clasificar curvas"
   ]
  },
  {
   "cell_type": "markdown",
   "metadata": {
    "deletable": true,
    "editable": true,
    "hidden": true
   },
   "source": [
    "Clasificar las curvas de decaimiento de riqueza de cada comunidad, en cada nivel de heterogeneidad, ¿son cóncavas hacia arriba o hacia abajo?"
   ]
  },
  {
   "cell_type": "code",
   "execution_count": null,
   "metadata": {
    "collapsed": false,
    "deletable": true,
    "editable": true,
    "hidden": true
   },
   "outputs": [],
   "source": [
    "def clasificar(riquezas, grado):\n",
    "    x = np.linspace(0, 9, 100)\n",
    "    xdata = np.array(range(10))\n",
    "\n",
    "    res = np.polyfit(xdata, riquezas, grado)\n",
    "    p = np.poly1d(res)\n",
    "    r2 = 1 - ((np.sum((p(range(10)) - riquezas)**2)) /\n",
    "             (np.sum((riquezas - np.mean(riquezas))**2)))\n",
    "    r2_adjusted = r2 - (1 - r2) * (degree/(10-degree-1))\n",
    "    \n",
    "    return res[0]"
   ]
  },
  {
   "cell_type": "code",
   "execution_count": null,
   "metadata": {
    "collapsed": true,
    "deletable": true,
    "editable": true,
    "hidden": true
   },
   "outputs": [],
   "source": [
    "curves = np.zeros((5, 100))\n",
    "for het in range(5):\n",
    "    for n, comunidad in enumerate(riqueza_total[het]):\n",
    "        curves[het, n] = clasificar(comunidad, 2)"
   ]
  },
  {
   "cell_type": "code",
   "execution_count": null,
   "metadata": {
    "collapsed": true,
    "deletable": true,
    "editable": true,
    "hidden": true
   },
   "outputs": [],
   "source": [
    "summary_curves = np.zeros((5, 2))"
   ]
  },
  {
   "cell_type": "code",
   "execution_count": null,
   "metadata": {
    "collapsed": false,
    "deletable": true,
    "editable": true,
    "hidden": true
   },
   "outputs": [],
   "source": [
    "for het in range(5):\n",
    "    summary_curves[het, 0] = len(curves[het, :][curves[het, :]<0])\n",
    "    summary_curves[het, 1] = len(curves[het, :][curves[het, :]>0])"
   ]
  },
  {
   "cell_type": "code",
   "execution_count": null,
   "metadata": {
    "collapsed": false,
    "deletable": true,
    "editable": true,
    "hidden": true
   },
   "outputs": [],
   "source": [
    "summary_curves"
   ]
  },
  {
   "cell_type": "markdown",
   "metadata": {
    "deletable": true,
    "editable": true
   },
   "source": [
    "## Identifying significant differences in richness\n",
    "\n",
    "Note: shape of `biodiversity_measure` is `[heterogeneity, communities, intensification]`."
   ]
  },
  {
   "cell_type": "markdown",
   "metadata": {
    "deletable": true,
    "editable": true
   },
   "source": [
    "### Do data distribute normally?\n",
    "\n",
    "We use Shapiro-Wilk test. Null hypothesis is that data subsets came from a normally distributed population.\n",
    "\n",
    "**Result:** Data subsets don't follow a normal distribution. "
   ]
  },
  {
   "cell_type": "code",
   "execution_count": 101,
   "metadata": {
    "collapsed": false,
    "deletable": true,
    "editable": true
   },
   "outputs": [
    {
     "name": "stdout",
     "output_type": "stream",
     "text": [
      "H0, i0, p= 0.0014, ---NOT NORMAL---\n",
      "H0, i1, p= 0.0019, ---NOT NORMAL---\n",
      "H0, i2, p= 0.0021, ---NOT NORMAL---\n",
      "H0, i3, p= 0.0008, ---NOT NORMAL---\n",
      "H0, i4, p= 0.0037, ---NOT NORMAL---\n",
      "H0, i5, p= 0.0037, ---NOT NORMAL---\n",
      "H0, i6, p= 0.0087, ---NOT NORMAL---\n",
      "H0, i7, p= 0.0097, ---NOT NORMAL---\n",
      "H0, i8, p= 0.0094, ---NOT NORMAL---\n",
      "H0, i9, p= 0.0022, ---NOT NORMAL---\n",
      "H1, i0, p= 0.0012, ---NOT NORMAL---\n",
      "H1, i1, p= 0.0042, ---NOT NORMAL---\n",
      "H1, i2, p= 0.0091, ---NOT NORMAL---\n",
      "H1, i3, p= 0.0070, ---NOT NORMAL---\n",
      "H1, i4, p= 0.0028, ---NOT NORMAL---\n",
      "H1, i5, p= 0.0024, ---NOT NORMAL---\n",
      "H1, i6, p= 0.0035, ---NOT NORMAL---\n",
      "H1, i7, p= 0.0081, ---NOT NORMAL---\n",
      "H1, i8, p= 0.0023, ---NOT NORMAL---\n",
      "H1, i9, p= 0.0023, ---NOT NORMAL---\n",
      "H2, i0, p= 0.0024, ---NOT NORMAL---\n",
      "H2, i1, p= 0.0026, ---NOT NORMAL---\n",
      "H2, i2, p= 0.0025, ---NOT NORMAL---\n",
      "H2, i3, p= 0.0065, ---NOT NORMAL---\n",
      "H2, i4, p= 0.0042, ---NOT NORMAL---\n",
      "H2, i5, p= 0.0064, ---NOT NORMAL---\n",
      "H2, i6, p= 0.0004, ---NOT NORMAL---\n",
      "H2, i7, p= 0.0001, ---NOT NORMAL---\n",
      "H2, i8, p= 0.0000, ---NOT NORMAL---\n",
      "H2, i9, p= 0.0000, ---NOT NORMAL---\n",
      "H3, i0, p= 0.0021, ---NOT NORMAL---\n",
      "H3, i1, p= 0.0026, ---NOT NORMAL---\n",
      "H3, i2, p= 0.0040, ---NOT NORMAL---\n",
      "H3, i3, p= 0.0090, ---NOT NORMAL---\n",
      "H3, i4, p= 0.0064, ---NOT NORMAL---\n",
      "H3, i5, p= 0.0001, ---NOT NORMAL---\n",
      "H3, i6, p= 0.0001, ---NOT NORMAL---\n",
      "H3, i7, p= 0.0000, ---NOT NORMAL---\n",
      "H3, i8, p= 0.0000, ---NOT NORMAL---\n",
      "H3, i9, p= 0.0000, ---NOT NORMAL---\n",
      "H4, i0, p= 0.0066, ---NOT NORMAL---\n",
      "H4, i1, p= 0.0020, ---NOT NORMAL---\n",
      "H4, i2, p= 0.0114, ---NOT NORMAL---\n",
      "H4, i3, p= 0.0059, ---NOT NORMAL---\n",
      "H4, i4, p= 0.0001, ---NOT NORMAL---\n",
      "H4, i5, p= 0.0002, ---NOT NORMAL---\n",
      "H4, i6, p= 0.0000, ---NOT NORMAL---\n",
      "H4, i7, p= 0.0000, ---NOT NORMAL---\n",
      "H4, i8, p= 0.0000, ---NOT NORMAL---\n",
      "H4, i9, p= 0.0000, ---NOT NORMAL---\n"
     ]
    }
   ],
   "source": [
    "for het in range(5):\n",
    "    for i in range(10):\n",
    "        res = 'normal'\n",
    "        \n",
    "        data = riqueza_total[het, con_cambios, i]\n",
    "        \n",
    "        pvalue = stats.shapiro(data)[1]\n",
    "        if pvalue <= 0.05:\n",
    "            res = '---NOT NORMAL---'\n",
    "        print('H{}, i{}, p= {:.4f}, {}'.format(het, i, pvalue, res))"
   ]
  },
  {
   "cell_type": "markdown",
   "metadata": {
    "deletable": true,
    "editable": true
   },
   "source": [
    "However, using D'Agostino and Pearson's omnibus test, data subsets are normal. Again, null hypothesis is that data subsets came from a normally distributed population."
   ]
  },
  {
   "cell_type": "code",
   "execution_count": 132,
   "metadata": {
    "collapsed": false,
    "deletable": true,
    "editable": true
   },
   "outputs": [
    {
     "name": "stdout",
     "output_type": "stream",
     "text": [
      "H0, i0, p= 0.1076, normal\n",
      "H0, i1, p= 0.0273, ---NOT NORMAL---\n",
      "H0, i2, p= 0.0132, ---NOT NORMAL---\n",
      "H0, i3, p= 0.0451, ---NOT NORMAL---\n",
      "H0, i4, p= 0.3166, normal\n",
      "H0, i5, p= 0.0613, normal\n",
      "H0, i6, p= 0.2263, normal\n",
      "H0, i7, p= 0.1254, normal\n",
      "H0, i8, p= 0.4049, normal\n",
      "H0, i9, p= 0.3390, normal\n",
      "H1, i0, p= 0.0105, ---NOT NORMAL---\n",
      "H1, i1, p= 0.0232, ---NOT NORMAL---\n",
      "H1, i2, p= 0.4123, normal\n",
      "H1, i3, p= 0.4631, normal\n",
      "H1, i4, p= 0.3072, normal\n",
      "H1, i5, p= 0.3072, normal\n",
      "H1, i6, p= 0.2003, normal\n",
      "H1, i7, p= 0.1589, normal\n",
      "H1, i8, p= 0.2674, normal\n",
      "H1, i9, p= 0.2838, normal\n",
      "H2, i0, p= 0.0499, ---NOT NORMAL---\n",
      "H2, i1, p= 0.2949, normal\n",
      "H2, i2, p= 0.2447, normal\n",
      "H2, i3, p= 0.2204, normal\n",
      "H2, i4, p= 0.1458, normal\n",
      "H2, i5, p= 0.2864, normal\n",
      "H2, i6, p= 0.2811, normal\n",
      "H2, i7, p= 0.2009, normal\n",
      "H2, i8, p= 0.0669, normal\n",
      "H2, i9, p= 0.0565, normal\n",
      "H3, i0, p= 0.1357, normal\n",
      "H3, i1, p= 0.2902, normal\n",
      "H3, i2, p= 0.1775, normal\n",
      "H3, i3, p= 0.2386, normal\n",
      "H3, i4, p= 0.3302, normal\n",
      "H3, i5, p= 0.2811, normal\n",
      "H3, i6, p= 0.0668, normal\n",
      "H3, i7, p= 0.0364, ---NOT NORMAL---\n",
      "H3, i8, p= 0.0532, normal\n",
      "H3, i9, p= 0.0237, ---NOT NORMAL---\n",
      "H4, i0, p= 0.3483, normal\n",
      "H4, i1, p= 0.2155, normal\n",
      "H4, i2, p= 0.1398, normal\n",
      "H4, i3, p= 0.3302, normal\n",
      "H4, i4, p= 0.2580, normal\n",
      "H4, i5, p= 0.2199, normal\n",
      "H4, i6, p= 0.0503, normal\n",
      "H4, i7, p= 0.0383, ---NOT NORMAL---\n",
      "H4, i8, p= 0.0060, ---NOT NORMAL---\n",
      "H4, i9, p= 0.0018, ---NOT NORMAL---\n"
     ]
    }
   ],
   "source": [
    "for het in range(5):\n",
    "    for i in range(10):\n",
    "        res = 'normal'\n",
    "        \n",
    "        data = riqueza_total[het, con_cambios, i]\n",
    "        \n",
    "        pvalue = stats.normaltest(data)[1]\n",
    "        if pvalue <= 0.05:\n",
    "            res = '---NOT NORMAL---'\n",
    "        print('H{}, i{}, p= {:.4f}, {}'.format(het, i, pvalue, res))"
   ]
  },
  {
   "cell_type": "markdown",
   "metadata": {
    "deletable": true,
    "editable": true
   },
   "source": [
    "Do data have the same variance?\n",
    "\n",
    "We use Levene test, which does not assume normality. Null hypothesis is that population variances are equal. In particular, we want to know whether data subsets from all heterogeneity levels have the same variance at each intensification level.\n",
    "\n",
    "**Result:** At each intensification level, richness from all heterogeneity levels has equal variance."
   ]
  },
  {
   "cell_type": "code",
   "execution_count": 103,
   "metadata": {
    "collapsed": false,
    "deletable": true,
    "editable": true
   },
   "outputs": [
    {
     "name": "stdout",
     "output_type": "stream",
     "text": [
      "i0, pvalue=0.9951, equal std\n",
      "i1, pvalue=1.0000, equal std\n",
      "i2, pvalue=0.9889, equal std\n",
      "i3, pvalue=0.9549, equal std\n",
      "i4, pvalue=0.8810, equal std\n",
      "i5, pvalue=0.7710, equal std\n",
      "i6, pvalue=0.2952, equal std\n",
      "i7, pvalue=0.1620, equal std\n",
      "i8, pvalue=0.1193, equal std\n",
      "i9, pvalue=0.0533, equal std\n"
     ]
    }
   ],
   "source": [
    "# Richness\n",
    "for i in range(10):\n",
    "    equal_std = 'equal std'\n",
    "    pvalue = stats.levene(riqueza_total[0, con_cambios, i],\n",
    "                          riqueza_total[1, con_cambios, i],\n",
    "                          riqueza_total[2, con_cambios, i],\n",
    "                          riqueza_total[3, con_cambios, i],\n",
    "                          riqueza_total[4, con_cambios, i], center='median')[1]\n",
    "    if pvalue <=0.05:\n",
    "        equal_std = '---std NOT EQUAL---'\n",
    "    print('i{}, pvalue={:.4f}, {}'.format(i, pvalue, equal_std))"
   ]
  },
  {
   "cell_type": "markdown",
   "metadata": {
    "deletable": true,
    "editable": true
   },
   "source": [
    "We get the same results using Bartlett test."
   ]
  },
  {
   "cell_type": "code",
   "execution_count": 104,
   "metadata": {
    "collapsed": false,
    "deletable": true,
    "editable": true
   },
   "outputs": [
    {
     "name": "stdout",
     "output_type": "stream",
     "text": [
      "i0, pvalue=0.9834, equal std\n",
      "i1, pvalue=0.9926, equal std\n",
      "i2, pvalue=0.9816, equal std\n",
      "i3, pvalue=0.9930, equal std\n",
      "i4, pvalue=0.9925, equal std\n",
      "i5, pvalue=0.9716, equal std\n",
      "i6, pvalue=0.5351, equal std\n",
      "i7, pvalue=0.4230, equal std\n",
      "i8, pvalue=0.2782, equal std\n",
      "i9, pvalue=0.1171, equal std\n"
     ]
    }
   ],
   "source": [
    "for i in range(10):\n",
    "    equal_std = 'equal std'\n",
    "    pvalue = stats.bartlett(riqueza_total[0, con_cambios, i],\n",
    "                          riqueza_total[1, con_cambios, i],\n",
    "                          riqueza_total[2, con_cambios, i],\n",
    "                          riqueza_total[3, con_cambios, i],\n",
    "                          riqueza_total[4, con_cambios, i],)[1]\n",
    "    if pvalue <=0.05:\n",
    "        equal_std = '---std NOT EQUAL---'\n",
    "    print('i{}, pvalue={:.4f}, {}'.format(i, pvalue, equal_std))"
   ]
  },
  {
   "cell_type": "markdown",
   "metadata": {
    "deletable": true,
    "editable": true
   },
   "source": [
    "*Extra:* Do data from each heterogeneity level have same variance across the intensification gradient?\n",
    "\n",
    "**Result:** Only het 0, 1 and 2."
   ]
  },
  {
   "cell_type": "code",
   "execution_count": 105,
   "metadata": {
    "collapsed": false,
    "deletable": true,
    "editable": true
   },
   "outputs": [
    {
     "name": "stdout",
     "output_type": "stream",
     "text": [
      "h0, pvalue=0.9990, equal std\n",
      "h1, pvalue=0.9378, equal std\n",
      "h2, pvalue=0.2505, equal std\n",
      "h3, pvalue=0.0210, ---std NOT EQUAL---\n",
      "h4, pvalue=0.0034, ---std NOT EQUAL---\n"
     ]
    }
   ],
   "source": [
    "for het in range(5):\n",
    "    equal_std = 'equal std'\n",
    "    pvalue = stats.levene(riqueza_total[het, :, 0],\n",
    "                      riqueza_total[het, con_cambios, 1],\n",
    "                      riqueza_total[het, con_cambios, 2],\n",
    "                      riqueza_total[het, con_cambios, 3],\n",
    "                      riqueza_total[het, con_cambios, 4],\n",
    "                      riqueza_total[het, con_cambios, 5],\n",
    "                      riqueza_total[het, con_cambios, 6],\n",
    "                      riqueza_total[het, con_cambios, 7],\n",
    "                      riqueza_total[het, con_cambios, 8],\n",
    "                      riqueza_total[het, con_cambios, 9], center='median')[1]\n",
    "    if pvalue <=0.05:\n",
    "        equal_std = '---std NOT EQUAL---'\n",
    "    print('h{}, pvalue={:.4f}, {}'.format(het, pvalue, equal_std))"
   ]
  },
  {
   "cell_type": "markdown",
   "metadata": {
    "deletable": true,
    "editable": true
   },
   "source": [
    "### Differences between heterogeneity levels\n",
    "\n",
    "We use Kruskal test to identify significant differences in biodiversity between heterogeneity levels at each level of intensification. Null hypothesis is that population medians are equal.\n",
    "\n",
    "There is no significant difference between heterogeneity levels 4, 3 and 2. "
   ]
  },
  {
   "cell_type": "code",
   "execution_count": 106,
   "metadata": {
    "collapsed": false,
    "deletable": true,
    "editable": true
   },
   "outputs": [
    {
     "name": "stdout",
     "output_type": "stream",
     "text": [
      "i0, pvalue=0.7325, no difference\n",
      "i1, pvalue=0.7445, no difference\n",
      "i2, pvalue=0.3265, no difference\n",
      "i3, pvalue=0.6871, no difference\n",
      "i4, pvalue=0.0561, no difference\n",
      "i5, pvalue=0.0626, no difference\n",
      "i6, pvalue=0.1726, no difference\n",
      "i7, pvalue=0.2246, no difference\n",
      "i8, pvalue=0.2132, no difference\n",
      "i9, pvalue=0.1320, no difference\n"
     ]
    }
   ],
   "source": [
    "# Richness\n",
    "for i in range(10):\n",
    "    res = 'no difference'\n",
    "    pvalue = stats.kruskal(riqueza_total[4, con_cambios, i],\n",
    "                           riqueza_total[3, con_cambios, i],\n",
    "                           riqueza_total[2, con_cambios, i])[1]\n",
    "    if pvalue <=0.05:\n",
    "        res = '---DIFFERENT---'\n",
    "    print('i{}, pvalue={:.4f}, {}'.format(i, pvalue, res))"
   ]
  },
  {
   "cell_type": "markdown",
   "metadata": {
    "deletable": true,
    "editable": true
   },
   "source": [
    "Given that data don't seem to differ significantly from normality, we can use ANOVA tests. In this case, null hyphotesis is that group means are equal. We get similar results: There is no significant difference between heterogeneity levels 4, 3 and 2, except at lowest intensification. "
   ]
  },
  {
   "cell_type": "code",
   "execution_count": 107,
   "metadata": {
    "collapsed": false,
    "deletable": true,
    "editable": true
   },
   "outputs": [
    {
     "name": "stdout",
     "output_type": "stream",
     "text": [
      "i0, pvalue=0.7419, no difference\n",
      "i1, pvalue=0.7497, no difference\n",
      "i2, pvalue=0.3131, no difference\n",
      "i3, pvalue=0.6715, no difference\n",
      "i4, pvalue=0.0689, no difference\n",
      "i5, pvalue=0.0725, no difference\n",
      "i6, pvalue=0.1568, no difference\n",
      "i7, pvalue=0.2388, no difference\n",
      "i8, pvalue=0.2212, no difference\n",
      "i9, pvalue=0.1624, no difference\n"
     ]
    }
   ],
   "source": [
    "# Richness\n",
    "for i in range(10):\n",
    "    res = 'no difference'\n",
    "    pvalue = stats.f_oneway(riqueza_total[4, con_cambios, i],\n",
    "                           riqueza_total[3, con_cambios, i],\n",
    "                           riqueza_total[2, con_cambios, i])[1]\n",
    "    if pvalue <=0.05:\n",
    "        res = '---DIFFERENT---'\n",
    "    print('i{}, pvalue={:.4f}, {}'.format(i, pvalue, res))"
   ]
  },
  {
   "cell_type": "markdown",
   "metadata": {
    "deletable": true,
    "editable": true
   },
   "source": [
    "Heterogeneity levels 4 (highest) and 0 (lowest) are significantly different at all intensification levels."
   ]
  },
  {
   "cell_type": "code",
   "execution_count": 108,
   "metadata": {
    "collapsed": false,
    "deletable": true,
    "editable": true
   },
   "outputs": [
    {
     "name": "stdout",
     "output_type": "stream",
     "text": [
      "i0, pvalue=0.0082, ---DIFFERENT---\n",
      "i1, pvalue=0.0031, ---DIFFERENT---\n",
      "i2, pvalue=0.0000, ---DIFFERENT---\n",
      "i3, pvalue=0.0000, ---DIFFERENT---\n",
      "i4, pvalue=0.0000, ---DIFFERENT---\n",
      "i5, pvalue=0.0000, ---DIFFERENT---\n",
      "i6, pvalue=0.0000, ---DIFFERENT---\n",
      "i7, pvalue=0.0000, ---DIFFERENT---\n",
      "i8, pvalue=0.0000, ---DIFFERENT---\n",
      "i9, pvalue=0.0000, ---DIFFERENT---\n"
     ]
    }
   ],
   "source": [
    "# Richness\n",
    "for i in range(10):\n",
    "    res = 'no difference'\n",
    "    pvalue = stats.kruskal(riqueza_total[4, con_cambios, i],\n",
    "                           riqueza_total[0, con_cambios, i])[1]\n",
    "    if pvalue <=0.05:\n",
    "        res = '---DIFFERENT---'\n",
    "    print('i{}, pvalue={:.4f}, {}'.format(i, pvalue, res))"
   ]
  },
  {
   "cell_type": "code",
   "execution_count": 28,
   "metadata": {
    "collapsed": true,
    "deletable": true,
    "editable": true
   },
   "outputs": [
    {
     "ename": "NameError",
     "evalue": "name 'area' is not defined",
     "output_type": "error",
     "traceback": [
      "\u001b[0;31m---------------------------------------------------------------------------\u001b[0m",
      "\u001b[0;31mNameError\u001b[0m                                 Traceback (most recent call last)",
      "\u001b[0;32m<ipython-input-28-f48960098bb8>\u001b[0m in \u001b[0;36m<module>\u001b[0;34m()\u001b[0m\n\u001b[1;32m      2\u001b[0m \u001b[1;32mfor\u001b[0m \u001b[0mi\u001b[0m \u001b[1;32min\u001b[0m \u001b[0mrange\u001b[0m\u001b[1;33m(\u001b[0m\u001b[1;36m10\u001b[0m\u001b[1;33m)\u001b[0m\u001b[1;33m:\u001b[0m\u001b[1;33m\u001b[0m\u001b[0m\n\u001b[1;32m      3\u001b[0m     \u001b[0mres\u001b[0m \u001b[1;33m=\u001b[0m \u001b[1;34m'no difference'\u001b[0m\u001b[1;33m\u001b[0m\u001b[0m\n\u001b[0;32m----> 4\u001b[0;31m     pvalue = stats.kruskal(np.array(area)[4, :, i],\n\u001b[0m\u001b[1;32m      5\u001b[0m                            np.array(area)[0, :, i])[1]\n\u001b[1;32m      6\u001b[0m     \u001b[1;32mif\u001b[0m \u001b[0mpvalue\u001b[0m \u001b[1;33m<=\u001b[0m\u001b[1;36m0.05\u001b[0m\u001b[1;33m:\u001b[0m\u001b[1;33m\u001b[0m\u001b[0m\n",
      "\u001b[0;31mNameError\u001b[0m: name 'area' is not defined"
     ]
    }
   ],
   "source": [
    "# Area - TO DO\n",
    "for i in range(10):\n",
    "    res = 'no difference'\n",
    "    pvalue = stats.kruskal(np.array(area)[4, :, i],\n",
    "                           np.array(area)[0, :, i])[1]\n",
    "    if pvalue <=0.05:\n",
    "        res = '---DIFFERENT---'\n",
    "    print('i{}, pvalue={:.4f}, {}'.format(i, pvalue, res))"
   ]
  },
  {
   "cell_type": "markdown",
   "metadata": {
    "deletable": true,
    "editable": true
   },
   "source": [
    "We get the same results using ANOVA."
   ]
  },
  {
   "cell_type": "code",
   "execution_count": 109,
   "metadata": {
    "collapsed": false,
    "deletable": true,
    "editable": true
   },
   "outputs": [
    {
     "name": "stdout",
     "output_type": "stream",
     "text": [
      "i0, pvalue=0.0069, ---DIFFERENT---\n",
      "i1, pvalue=0.0020, ---DIFFERENT---\n",
      "i2, pvalue=0.0000, ---DIFFERENT---\n",
      "i3, pvalue=0.0000, ---DIFFERENT---\n",
      "i4, pvalue=0.0000, ---DIFFERENT---\n",
      "i5, pvalue=0.0000, ---DIFFERENT---\n",
      "i6, pvalue=0.0000, ---DIFFERENT---\n",
      "i7, pvalue=0.0000, ---DIFFERENT---\n",
      "i8, pvalue=0.0000, ---DIFFERENT---\n",
      "i9, pvalue=0.0000, ---DIFFERENT---\n"
     ]
    }
   ],
   "source": [
    "for i in range(10):\n",
    "    res = 'no difference'\n",
    "    pvalue = stats.f_oneway(riqueza_total[4, con_cambios, i],\n",
    "                            riqueza_total[0, con_cambios, i])[1]\n",
    "    if pvalue <=0.05:\n",
    "        res = '---DIFFERENT---'\n",
    "    print('i{}, pvalue={:.4f}, {}'.format(i, pvalue, res))"
   ]
  },
  {
   "cell_type": "markdown",
   "metadata": {
    "deletable": true,
    "editable": true
   },
   "source": [
    "At what intensification levels are heterogeneity levels 4, 1 and 0 different from each other? This is, at what intensification levels is het1 different from het4 and from het0?"
   ]
  },
  {
   "cell_type": "code",
   "execution_count": 110,
   "metadata": {
    "collapsed": false,
    "deletable": true,
    "editable": true
   },
   "outputs": [
    {
     "name": "stdout",
     "output_type": "stream",
     "text": [
      "i0, pvalue_14= 0.0971, pvalue_10= 0.2898, -\n",
      "i1, pvalue_14= 0.0433, pvalue_10= 0.3360, -\n",
      "i2, pvalue_14= 0.0139, pvalue_10= 0.0686, -\n",
      "i3, pvalue_14= 0.0010, pvalue_10= 0.0863, -\n",
      "i4, pvalue_14= 0.0000, pvalue_10= 0.0830, -\n",
      "i5, pvalue_14= 0.0000, pvalue_10= 0.0569, -\n",
      "i6, pvalue_14= 0.0000, pvalue_10= 0.0156, ---DIFFERENT---\n",
      "i7, pvalue_14= 0.0000, pvalue_10= 0.0078, ---DIFFERENT---\n",
      "i8, pvalue_14= 0.0000, pvalue_10= 0.0012, ---DIFFERENT---\n",
      "i9, pvalue_14= 0.0000, pvalue_10= 0.0029, ---DIFFERENT---\n"
     ]
    }
   ],
   "source": [
    "# Richness\n",
    "for i in range(10):\n",
    "    res = '-'\n",
    "    pvalue_14 = stats.kruskal(riqueza_total[4, con_cambios, i],\n",
    "                               riqueza_total[1, con_cambios, i])[1]\n",
    "    \n",
    "    pvalue_10 = stats.kruskal(riqueza_total[0, con_cambios, i],\n",
    "                               riqueza_total[1, con_cambios, i])[1]\n",
    "    if pvalue_14 <=0.05 and pvalue_10 <= 0.05:\n",
    "        res = '---DIFFERENT---'\n",
    "    print('i{}, pvalue_14= {:.4f}, pvalue_10= {:.4f}, {}'.format(i, pvalue_14, pvalue_10, res))"
   ]
  },
  {
   "cell_type": "markdown",
   "metadata": {
    "deletable": true,
    "editable": true
   },
   "source": [
    "With ANOVA:"
   ]
  },
  {
   "cell_type": "code",
   "execution_count": 111,
   "metadata": {
    "collapsed": false,
    "deletable": true,
    "editable": true
   },
   "outputs": [
    {
     "name": "stdout",
     "output_type": "stream",
     "text": [
      "i0, pvalue_14=0.0898, pvalue_10=0.2976, -\n",
      "i1, pvalue_14=0.0375, pvalue_10=0.3047, -\n",
      "i2, pvalue_14=0.0114, pvalue_10=0.0581, -\n",
      "i3, pvalue_14=0.0007, pvalue_10=0.0721, -\n",
      "i4, pvalue_14=0.0000, pvalue_10=0.0810, -\n",
      "i5, pvalue_14=0.0000, pvalue_10=0.0519, -\n",
      "i6, pvalue_14=0.0000, pvalue_10=0.0137, ---DIFFERENT---\n",
      "i7, pvalue_14=0.0000, pvalue_10=0.0064, ---DIFFERENT---\n",
      "i8, pvalue_14=0.0000, pvalue_10=0.0009, ---DIFFERENT---\n",
      "i9, pvalue_14=0.0000, pvalue_10=0.0024, ---DIFFERENT---\n"
     ]
    }
   ],
   "source": [
    "# Richness\n",
    "for i in range(10):\n",
    "    res = '-'\n",
    "    pvalue_14 = stats.f_oneway(riqueza_total[4, con_cambios, i],\n",
    "                               riqueza_total[1, con_cambios, i])[1]\n",
    "    \n",
    "    pvalue_10 = stats.f_oneway(riqueza_total[0, con_cambios, i],\n",
    "                               riqueza_total[1, con_cambios, i])[1]\n",
    "    if pvalue_14 <=0.05 and pvalue_10 <= 0.05:\n",
    "        res = '---DIFFERENT---'\n",
    "    print('i{}, pvalue_14={:.4f}, pvalue_10={:.4f}, {}'.format(i, pvalue_14, pvalue_10, res))"
   ]
  },
  {
   "cell_type": "code",
   "execution_count": 131,
   "metadata": {
    "collapsed": false,
    "deletable": true,
    "editable": true
   },
   "outputs": [],
   "source": [
    "np.savetxt('means_10.txt', riqueza_total_mean, '%.4f', delimiter=',', newline='\\r\\n')"
   ]
  },
  {
   "cell_type": "code",
   "execution_count": null,
   "metadata": {
    "collapsed": true
   },
   "outputs": [],
   "source": []
  }
 ],
 "metadata": {
  "kernelspec": {
   "display_name": "Python 3",
   "language": "python",
   "name": "python3"
  },
  "language_info": {
   "codemirror_mode": {
    "name": "ipython",
    "version": 3
   },
   "file_extension": ".py",
   "mimetype": "text/x-python",
   "name": "python",
   "nbconvert_exporter": "python",
   "pygments_lexer": "ipython3",
   "version": "3.5.2"
  }
 },
 "nbformat": 4,
 "nbformat_minor": 1
}
