{
 "cells": [
  {
   "cell_type": "markdown",
   "metadata": {},
   "source": [
    "Distribución de riqueza y abundancia en el paisaje"
   ]
  },
  {
   "cell_type": "code",
   "execution_count": null,
   "metadata": {
    "collapsed": true
   },
   "outputs": [],
   "source": [
    "import numpy as np\n",
    "import seaborn, math, os\n",
    "from scipy.integrate import odeint\n",
    "from matplotlib import pyplot as plt\n",
    "from copy import deepcopy"
   ]
  },
  {
   "cell_type": "code",
   "execution_count": null,
   "metadata": {
    "collapsed": true
   },
   "outputs": [],
   "source": [
    "%run medidas_biodiversidad.py"
   ]
  },
  {
   "cell_type": "code",
   "execution_count": null,
   "metadata": {
    "collapsed": true
   },
   "outputs": [],
   "source": [
    "paisajes = np.load(\"./paisajes_h2.npy\")"
   ]
  },
  {
   "cell_type": "code",
   "execution_count": null,
   "metadata": {
    "collapsed": true
   },
   "outputs": [],
   "source": [
    "poblacion = np.load('./datos/exp_prelim3_c064.npy')\n",
    "poblacion = poblacion[-1]\n",
    "paisaje = paisajes[0].tolist()\n",
    "\n",
    "biomasa_min = 5"
   ]
  },
  {
   "cell_type": "code",
   "execution_count": null,
   "metadata": {
    "collapsed": true
   },
   "outputs": [],
   "source": [
    "# Biomasa paisaje\n",
    "biomasa = [None] * len(poblacion)\n",
    "riqueza = [None] * len(poblacion)\n",
    "\n",
    "for i in range(len(poblacion)):\n",
    "    biomasa[i] = riqueza_paisaje(poblacion, i, biomasa_min)[0] \n",
    "    riqueza[i] = riqueza_paisaje(poblacion, i, biomasa_min)[1]\n",
    "\n",
    "riqueza_milpa = [None] * len(poblacion)\n",
    "biomasa_milpa = [None] * len(poblacion)\n",
    "\n",
    "for i in range(len(poblacion)):\n",
    "    riqueza_milpa[i] = riqueza_agricola(poblacion, paisaje, i, biomasa_min)[1]   \n",
    "    biomasa_milpa[i] = riqueza_agricola(poblacion, paisaje, i, biomasa_min)[0]"
   ]
  },
  {
   "cell_type": "code",
   "execution_count": null,
   "metadata": {
    "collapsed": true
   },
   "outputs": [],
   "source": [
    "%matplotlib notebook\n",
    "fig = plt.figure()\n",
    "plt.plot(range(len(riqueza_milpa)), riqueza_milpa)\n",
    "#plt.xlim(0, 100)"
   ]
  },
  {
   "cell_type": "code",
   "execution_count": null,
   "metadata": {
    "collapsed": true
   },
   "outputs": [],
   "source": [
    "biomasa_celda = medidas_por_celda(poblacion, -1, biomasa_min)[0]\n",
    "riqueza_celda = medidas_por_celda(poblacion, -1, biomasa_min)[1]\n",
    "\n",
    "fig = plt.figure(figsize=(7,7))\n",
    "seaborn.heatmap(biomasa_celda, yticklabels=False,\n",
    "               xticklabels=False, vmin = 0.0, annot=True, fmt=\".1f\", square=True) \n",
    "\n",
    "#seaborn.heatmap(poblacion[-2, :, :, 1], yticklabels=False,\n",
    "#               xticklabels=False, vmin = 0.0, annot=True, fmt=\".1f\", square=True) \n",
    "plt.show()"
   ]
  }
 ],
 "metadata": {
  "kernelspec": {
   "display_name": "Python 3",
   "language": "python",
   "name": "python3"
  },
  "language_info": {
   "codemirror_mode": {
    "name": "ipython",
    "version": 3
   },
   "file_extension": ".py",
   "mimetype": "text/x-python",
   "name": "python",
   "nbconvert_exporter": "python",
   "pygments_lexer": "ipython3",
   "version": "3.5.2"
  }
 },
 "nbformat": 4,
 "nbformat_minor": 0
}
