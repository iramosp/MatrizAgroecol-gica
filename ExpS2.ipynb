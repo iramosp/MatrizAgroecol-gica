{
 "cells": [
  {
   "cell_type": "markdown",
   "metadata": {},
   "source": [
    "# Experimento Sup2"
   ]
  },
  {
   "cell_type": "markdown",
   "metadata": {},
   "source": [
    "Experimento Sup2. Todos los niveles de intensificación, 50 comunidades, 3 niveles de het. Pasos de migración = 6"
   ]
  },
  {
   "cell_type": "code",
   "execution_count": 1,
   "metadata": {},
   "outputs": [],
   "source": [
    "import numpy as np\n",
    "import math, os, random\n",
    "from scipy.integrate import odeint\n",
    "from copy import deepcopy"
   ]
  },
  {
   "cell_type": "code",
   "execution_count": 2,
   "metadata": {},
   "outputs": [],
   "source": [
    "%run modelo.py"
   ]
  },
  {
   "cell_type": "markdown",
   "metadata": {},
   "source": [
    "## Comunidades"
   ]
  },
  {
   "cell_type": "code",
   "execution_count": 3,
   "metadata": {},
   "outputs": [],
   "source": [
    "files = []\n",
    "with open('iteraciones.txt', 'r') as file:\n",
    "    rows = file.readlines()\n",
    "    for row in rows:\n",
    "        files.append([row[:20], int(row[-2])])"
   ]
  },
  {
   "cell_type": "code",
   "execution_count": 4,
   "metadata": {},
   "outputs": [],
   "source": [
    "all_condiciones_iniciales = [np.loadtxt(\"./comunidades/\" + file[0][:20] + \"-c.txt\") for file in files]\n",
    "all_tasas_reproduccion = [np.loadtxt(\"./comunidades/\" + file[0][:20] + \"-v.txt\") for file in files]\n",
    "all_matriz_interacciones = [np.loadtxt(\"./comunidades/\" + file[0][:20] + '-m.txt') for file in files]"
   ]
  },
  {
   "cell_type": "code",
   "execution_count": 5,
   "metadata": {},
   "outputs": [],
   "source": [
    "def modificar_matriz(m):\n",
    "    for i in range(10):\n",
    "        m[i][i] *= 15\n",
    "    return m\n",
    "\n",
    "def modificar_tasas(tasa):\n",
    "    tasa[tasa > 0] = tasa[tasa > 0] * 20\n",
    "    return tasa\n",
    "\n",
    "def modificar_condiciones0(c0):\n",
    "    c0 = c0 * 10\n",
    "    return c0"
   ]
  },
  {
   "cell_type": "code",
   "execution_count": 6,
   "metadata": {},
   "outputs": [],
   "source": [
    "matriz_interacciones = deepcopy(all_matriz_interacciones)\n",
    "matriz_interacciones = [modificar_matriz(m) for m in matriz_interacciones]\n",
    "\n",
    "tasas_reproduccion = deepcopy(all_tasas_reproduccion)\n",
    "tasas_reproduccion = [modificar_tasas(tasa) for tasa in tasas_reproduccion]\n",
    "\n",
    "condiciones_iniciales = deepcopy(all_condiciones_iniciales)\n",
    "condiciones_iniciales = [modificar_condiciones0(c) for c in condiciones_iniciales]"
   ]
  },
  {
   "cell_type": "code",
   "execution_count": 7,
   "metadata": {},
   "outputs": [],
   "source": [
    "random.seed(17)\n",
    "comunidades = random.sample(range(201), 100)"
   ]
  },
  {
   "cell_type": "code",
   "execution_count": 8,
   "metadata": {
    "collapsed": true
   },
   "outputs": [
    {
     "data": {
      "text/plain": [
       "[13,\n",
       " 90,\n",
       " 12,\n",
       " 122,\n",
       " 152,\n",
       " 1,\n",
       " 103,\n",
       " 61,\n",
       " 29,\n",
       " 54,\n",
       " 187,\n",
       " 134,\n",
       " 92,\n",
       " 14,\n",
       " 68,\n",
       " 16,\n",
       " 70,\n",
       " 49,\n",
       " 33,\n",
       " 184,\n",
       " 78,\n",
       " 89,\n",
       " 182,\n",
       " 43,\n",
       " 42,\n",
       " 148,\n",
       " 116,\n",
       " 73,\n",
       " 196,\n",
       " 100,\n",
       " 34,\n",
       " 126,\n",
       " 145,\n",
       " 188,\n",
       " 96,\n",
       " 195,\n",
       " 2,\n",
       " 59,\n",
       " 151,\n",
       " 120,\n",
       " 60,\n",
       " 183,\n",
       " 117,\n",
       " 197,\n",
       " 25,\n",
       " 39,\n",
       " 132,\n",
       " 9,\n",
       " 112,\n",
       " 91]"
      ]
     },
     "execution_count": 8,
     "metadata": {},
     "output_type": "execute_result"
    }
   ],
   "source": [
    "comunidades = comunidades[50:]\n",
    "comunidades"
   ]
  },
  {
   "cell_type": "markdown",
   "metadata": {},
   "source": [
    "## Parámetros iniciales"
   ]
  },
  {
   "cell_type": "code",
   "execution_count": 9,
   "metadata": {},
   "outputs": [],
   "source": [
    "heterogeneidad = [0, 1, 4]"
   ]
  },
  {
   "cell_type": "code",
   "execution_count": 10,
   "metadata": {},
   "outputs": [],
   "source": [
    "Dispersion = {\"b\": 0.3,\n",
    "              \"m\": 1,\n",
    "              \"i\": 1}\n",
    "\n",
    "Mortalidad = {\"b\": 0,\n",
    "              \"m\": 0.3,\n",
    "              \"i\": 0.85}\n",
    "t_total = 100"
   ]
  },
  {
   "cell_type": "markdown",
   "metadata": {},
   "source": [
    "## Experimento"
   ]
  },
  {
   "cell_type": "code",
   "execution_count": 11,
   "metadata": {},
   "outputs": [
    {
     "name": "stderr",
     "output_type": "stream",
     "text": [
      "/home/mariana/anaconda3/lib/python3.6/site-packages/scipy/integrate/odepack.py:236: ODEintWarning: Excess work done on this call (perhaps wrong Dfun type). Run with full_output = 1 to get quantitative information.\n",
      "  warnings.warn(warning_msg, ODEintWarning)\n"
     ]
    }
   ],
   "source": [
    "for het in heterogeneidad:\n",
    "    paisajes = np.load(\"paisajes_h{}.npy\".format(het))\n",
    "    for c in comunidades:\n",
    "        res = [None] * len(paisajes)\n",
    "        for p in range(len(paisajes)):\n",
    "            res[p] = matriz_agroecologica(paisajes[p].tolist(),\n",
    "                                          matriz_interacciones[c], \n",
    "                                          tasas_reproduccion[c], \n",
    "                                          condiciones_iniciales[c],\n",
    "                                          t_total, \n",
    "                                          Dispersion,\n",
    "                                          Mortalidad, 6)\n",
    "            res[p] = res[p][-1:]\n",
    "\n",
    "        res = np.array(res)\n",
    "        np.save(\"./datos/expS2/expS2_h{}_c{:03d}\".format(het, c), res)"
   ]
  },
  {
   "cell_type": "code",
   "execution_count": null,
   "metadata": {},
   "outputs": [],
   "source": []
  }
 ],
 "metadata": {
  "kernelspec": {
   "display_name": "Python 3",
   "language": "python",
   "name": "python3"
  },
  "language_info": {
   "codemirror_mode": {
    "name": "ipython",
    "version": 3
   },
   "file_extension": ".py",
   "mimetype": "text/x-python",
   "name": "python",
   "nbconvert_exporter": "python",
   "pygments_lexer": "ipython3",
   "version": "3.6.5"
  }
 },
 "nbformat": 4,
 "nbformat_minor": 1
}
