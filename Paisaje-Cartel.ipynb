{
 "cells": [
  {
   "cell_type": "markdown",
   "metadata": {
    "deletable": true,
    "editable": true
   },
   "source": [
    "# Paisajes"
   ]
  },
  {
   "cell_type": "code",
   "execution_count": 1,
   "metadata": {
    "collapsed": false,
    "deletable": true,
    "editable": true
   },
   "outputs": [],
   "source": [
    "# Módulos necesarios\n",
    "import numpy as np\n",
    "import seaborn\n",
    "from matplotlib import pyplot as plt\n",
    "from copy import deepcopy\n",
    "import matplotlib.gridspec as gridspec"
   ]
  },
  {
   "cell_type": "code",
   "execution_count": 2,
   "metadata": {
    "collapsed": true,
    "deletable": true,
    "editable": true
   },
   "outputs": [],
   "source": [
    "%matplotlib inline"
   ]
  },
  {
   "cell_type": "code",
   "execution_count": 3,
   "metadata": {
    "collapsed": false,
    "deletable": true,
    "editable": true
   },
   "outputs": [],
   "source": [
    "Manejos = {\"b\": 0.5,\n",
    "           \"m\": 6,\n",
    "           \"i\": 9.7}"
   ]
  },
  {
   "cell_type": "code",
   "execution_count": 4,
   "metadata": {
    "collapsed": true,
    "deletable": true,
    "editable": true
   },
   "outputs": [],
   "source": [
    "# Convertir el paisaje a un arreglo numérico para graficar\n",
    "def paisaje_numerico(paisaje, Manejos):    \n",
    "    paisaje_numerico = deepcopy(paisaje)\n",
    "    for i in range(len(paisaje)):\n",
    "            for j in range(len(paisaje[0])):\n",
    "                paisaje_numerico[i][j] = Manejos[paisaje[i][j]]\n",
    "    \n",
    "    return np.array(paisaje_numerico)"
   ]
  },
  {
   "cell_type": "code",
   "execution_count": 21,
   "metadata": {
    "collapsed": false,
    "deletable": true,
    "editable": true
   },
   "outputs": [
    {
     "data": {
      "image/png": "[encoded data removed]",
      "text/plain": [
       "<Figure size 720x576 with 12 Axes>"
      ]
     },
     "metadata": {},
     "output_type": "display_data"
    }
   ],
   "source": [
    "fig = plt.figure(figsize=(10,8))\n",
    "gs = gridspec.GridSpec(3, 4)\n",
    "gs.update(wspace=0.01)\n",
    "for k, het in enumerate([0,1,4]):\n",
    "    paisajes = np.load(\"paisajes_h{}.npy\".format(het))\n",
    "    #for i, paisaje in enumerate(paisajes[[0, 9], :, :]):\n",
    "    for i,p in enumerate([0, 3, 6, 9]):\n",
    "        paisaje = paisaje_numerico(paisajes[p].tolist(), Manejos)\n",
    "        plt.subplot(gs[2-k, i])\n",
    "        seaborn.heatmap(paisaje, cmap = \"summer\", vmin = 1, square=True, vmax = 10, \n",
    "                        xticklabels=False, yticklabels=False, cbar = False)\n",
    "plt.savefig('fig_paisajes_cartel', dpi=600)"
   ]
  },
  {
   "cell_type": "code",
   "execution_count": null,
   "metadata": {
    "collapsed": true
   },
   "outputs": [],
   "source": []
  },
  {
   "cell_type": "code",
   "execution_count": null,
   "metadata": {
    "collapsed": true
   },
   "outputs": [],
   "source": []
  },
  {
   "cell_type": "code",
   "execution_count": null,
   "metadata": {
    "collapsed": false,
    "deletable": true,
    "editable": true
   },
   "outputs": [],
   "source": [
    "fig = plt.figure(figsize=(17, 10))\n",
    "gs = gridspec.GridSpec(5, 10)\n",
    "gs.update(wspace=0.04)\n",
    "for het in range(5):\n",
    "    paisajes = np.load(\"paisajes30_h{}.npy\".format(het))\n",
    "    for i, paisaje in enumerate(paisajes):\n",
    "        paisaje = paisaje_numerico(paisajes[i].tolist(), Manejos)\n",
    "        plt.subplot(gs[4-het, i])\n",
    "        seaborn.heatmap(paisaje, cmap = \"summer\", vmin = 1, square=True, vmax = 10, \n",
    "                        xticklabels=False, yticklabels=False, cbar = False)\n",
    "plt.show();"
   ]
  },
  {
   "cell_type": "code",
   "execution_count": null,
   "metadata": {
    "collapsed": true,
    "deletable": true,
    "editable": true
   },
   "outputs": [],
   "source": []
  }
 ],
 "metadata": {
  "kernelspec": {
   "display_name": "Python 3",
   "language": "python",
   "name": "python3"
  },
  "language_info": {
   "codemirror_mode": {
    "name": "ipython",
    "version": 3
   },
   "file_extension": ".py",
   "mimetype": "text/x-python",
   "name": "python",
   "nbconvert_exporter": "python",
   "pygments_lexer": "ipython3",
   "version": "3.5.2"
  }
 },
 "nbformat": 4,
 "nbformat_minor": 0
}
