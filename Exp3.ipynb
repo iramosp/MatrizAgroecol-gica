{
 "cells": [
  {
   "cell_type": "markdown",
   "metadata": {
    "deletable": true,
    "editable": true
   },
   "source": [
    "# Experimento 3"
   ]
  },
  {
   "cell_type": "markdown",
   "metadata": {
    "deletable": true,
    "editable": true
   },
   "source": [
    "Experimento 3. Todas las comunidades sin dinámica espacial."
   ]
  },
  {
   "cell_type": "code",
   "execution_count": 1,
   "metadata": {
    "collapsed": false,
    "deletable": true,
    "editable": true
   },
   "outputs": [],
   "source": [
    "import numpy as np\n",
    "import math, os, random\n",
    "from scipy.integrate import odeint\n",
    "from copy import deepcopy"
   ]
  },
  {
   "cell_type": "code",
   "execution_count": 2,
   "metadata": {
    "collapsed": true,
    "deletable": true,
    "editable": true
   },
   "outputs": [],
   "source": [
    "%run modelo.py"
   ]
  },
  {
   "cell_type": "code",
   "execution_count": 14,
   "metadata": {
    "collapsed": true
   },
   "outputs": [],
   "source": [
    "np.set_printoptions(precision=4, suppress=True)"
   ]
  },
  {
   "cell_type": "markdown",
   "metadata": {
    "deletable": true,
    "editable": true
   },
   "source": [
    "## Comunidades"
   ]
  },
  {
   "cell_type": "code",
   "execution_count": 3,
   "metadata": {
    "collapsed": true,
    "deletable": true,
    "editable": true
   },
   "outputs": [],
   "source": [
    "files = []\n",
    "with open('iteraciones.txt', 'r') as file:\n",
    "    rows = file.readlines()\n",
    "    for row in rows:\n",
    "        files.append([row[:20], int(row[-2])])"
   ]
  },
  {
   "cell_type": "code",
   "execution_count": 4,
   "metadata": {
    "collapsed": true,
    "deletable": true,
    "editable": true
   },
   "outputs": [],
   "source": [
    "all_condiciones_iniciales = [np.loadtxt(\"./comunidades/\" + file[0][:20] + \"-c.txt\") for file in files]\n",
    "all_tasas_reproduccion = [np.loadtxt(\"./comunidades/\" + file[0][:20] + \"-v.txt\") for file in files]\n",
    "all_matriz_interacciones = [np.loadtxt(\"./comunidades/\" + file[0][:20] + '-m.txt') for file in files]"
   ]
  },
  {
   "cell_type": "code",
   "execution_count": 5,
   "metadata": {
    "collapsed": true,
    "deletable": true,
    "editable": true
   },
   "outputs": [],
   "source": [
    "def modificar_matriz(m):\n",
    "    for i in range(10):\n",
    "        m[i][i] *= 15\n",
    "    return m\n",
    "\n",
    "def modificar_tasas(tasa):\n",
    "    tasa[tasa > 0] = tasa[tasa > 0] * 20\n",
    "    return tasa\n",
    "\n",
    "def modificar_condiciones0(c0):\n",
    "    c0 = c0 * 10\n",
    "    return c0"
   ]
  },
  {
   "cell_type": "code",
   "execution_count": 6,
   "metadata": {
    "collapsed": true,
    "deletable": true,
    "editable": true
   },
   "outputs": [],
   "source": [
    "matriz_interacciones = deepcopy(all_matriz_interacciones)\n",
    "matriz_interacciones = [modificar_matriz(m) for m in matriz_interacciones]\n",
    "\n",
    "tasas_reproduccion = deepcopy(all_tasas_reproduccion)\n",
    "tasas_reproduccion = [modificar_tasas(tasa) for tasa in tasas_reproduccion]\n",
    "\n",
    "condiciones_iniciales = deepcopy(all_condiciones_iniciales)\n",
    "condiciones_iniciales = [modificar_condiciones0(c) for c in condiciones_iniciales]"
   ]
  },
  {
   "cell_type": "code",
   "execution_count": 7,
   "metadata": {
    "collapsed": true,
    "deletable": true,
    "editable": true
   },
   "outputs": [],
   "source": [
    "random.seed(17)\n",
    "comunidades = random.sample(range(201), 100)"
   ]
  },
  {
   "cell_type": "markdown",
   "metadata": {
    "deletable": true,
    "editable": true,
    "heading_collapsed": true
   },
   "source": [
    "## Parámetros iniciales"
   ]
  },
  {
   "cell_type": "code",
   "execution_count": 8,
   "metadata": {
    "collapsed": false,
    "deletable": true,
    "editable": true,
    "hidden": true
   },
   "outputs": [],
   "source": [
    "t_total = 500\n",
    "tiempo = np.linspace(0, t_total, t_total+1)"
   ]
  },
  {
   "cell_type": "markdown",
   "metadata": {
    "deletable": true,
    "editable": true
   },
   "source": [
    "## Experimento"
   ]
  },
  {
   "cell_type": "code",
   "execution_count": 9,
   "metadata": {
    "collapsed": true,
    "deletable": true,
    "editable": true
   },
   "outputs": [],
   "source": [
    "def riqueza_sin_espacio(poblacion, t, bio_min=0.001):\n",
    "    return (sum([i>bio_min for i in poblacion[t]]))"
   ]
  },
  {
   "cell_type": "code",
   "execution_count": 10,
   "metadata": {
    "collapsed": false,
    "deletable": true,
    "editable": true
   },
   "outputs": [
    {
     "name": "stderr",
     "output_type": "stream",
     "text": [
      "C:\\Users\\Irene\\AppData\\Local\\Continuum\\Anaconda3\\lib\\site-packages\\scipy\\integrate\\odepack.py:218: ODEintWarning: Excess work done on this call (perhaps wrong Dfun type). Run with full_output = 1 to get quantitative information.\n",
      "  warnings.warn(warning_msg, ODEintWarning)\n"
     ]
    }
   ],
   "source": [
    "poblacion = np.zeros((len(comunidades), t_total+1, 10)) # poblacion[comunidad, tiempo, especie]\n",
    "infodict = [None] * len(comunidades)\n",
    "\n",
    "for i, m in enumerate(comunidades):\n",
    "    poblacion[i], infodict[i] = odeint(lotka, condiciones_iniciales[m], tiempo, \n",
    "           args=(tasas_reproduccion[m],matriz_interacciones[m]),\n",
    "        full_output=True)"
   ]
  },
  {
   "cell_type": "code",
   "execution_count": 11,
   "metadata": {
    "collapsed": true,
    "deletable": true,
    "editable": true
   },
   "outputs": [
    {
     "data": {
      "text/plain": [
       "['Integration successful.',\n",
       " 'Integration successful.',\n",
       " 'Integration successful.',\n",
       " 'Integration successful.',\n",
       " 'Integration successful.',\n",
       " 'Integration successful.',\n",
       " 'Integration successful.',\n",
       " 'Integration successful.',\n",
       " 'Integration successful.',\n",
       " 'Integration successful.',\n",
       " 'Integration successful.',\n",
       " 'Integration successful.',\n",
       " 'Integration successful.',\n",
       " 'Integration successful.',\n",
       " 'Integration successful.',\n",
       " 'Integration successful.',\n",
       " 'Integration successful.',\n",
       " 'Integration successful.',\n",
       " 'Integration successful.',\n",
       " 'Integration successful.',\n",
       " 'Integration successful.',\n",
       " 'Integration successful.',\n",
       " 'Integration successful.',\n",
       " 'Integration successful.',\n",
       " 'Integration successful.',\n",
       " 'Integration successful.',\n",
       " 'Integration successful.',\n",
       " 'Integration successful.',\n",
       " 'Integration successful.',\n",
       " 'Integration successful.',\n",
       " 'Integration successful.',\n",
       " 'Integration successful.',\n",
       " 'Integration successful.',\n",
       " 'Integration successful.',\n",
       " 'Integration successful.',\n",
       " 'Integration successful.',\n",
       " 'Integration successful.',\n",
       " 'Integration successful.',\n",
       " 'Integration successful.',\n",
       " 'Integration successful.',\n",
       " 'Integration successful.',\n",
       " 'Integration successful.',\n",
       " 'Integration successful.',\n",
       " 'Integration successful.',\n",
       " 'Integration successful.',\n",
       " 'Integration successful.',\n",
       " 'Integration successful.',\n",
       " 'Integration successful.',\n",
       " 'Integration successful.',\n",
       " 'Integration successful.',\n",
       " 'Integration successful.',\n",
       " 'Integration successful.',\n",
       " 'Integration successful.',\n",
       " 'Integration successful.',\n",
       " 'Integration successful.',\n",
       " 'Integration successful.',\n",
       " 'Integration successful.',\n",
       " 'Integration successful.',\n",
       " 'Integration successful.',\n",
       " 'Integration successful.',\n",
       " 'Integration successful.',\n",
       " 'Integration successful.',\n",
       " 'Integration successful.',\n",
       " 'Integration successful.',\n",
       " 'Integration successful.',\n",
       " 'Integration successful.',\n",
       " 'Integration successful.',\n",
       " 'Integration successful.',\n",
       " 'Integration successful.',\n",
       " 'Integration successful.',\n",
       " 'Integration successful.',\n",
       " 'Integration successful.',\n",
       " 'Integration successful.',\n",
       " 'Integration successful.',\n",
       " 'Integration successful.',\n",
       " 'Integration successful.',\n",
       " 'Integration successful.',\n",
       " 'Integration successful.',\n",
       " 'Integration successful.',\n",
       " 'Integration successful.',\n",
       " 'Integration successful.',\n",
       " 'Integration successful.',\n",
       " 'Integration successful.',\n",
       " 'Integration successful.',\n",
       " 'Integration successful.',\n",
       " 'Integration successful.',\n",
       " 'Integration successful.',\n",
       " 'Integration successful.',\n",
       " 'Integration successful.',\n",
       " 'Integration successful.',\n",
       " 'Integration successful.',\n",
       " 'Integration successful.',\n",
       " 'Integration successful.',\n",
       " 'Integration successful.',\n",
       " 'Integration successful.',\n",
       " 'Integration successful.',\n",
       " 'Integration successful.',\n",
       " 'Integration successful.',\n",
       " 'Integration successful.',\n",
       " 'Integration successful.']"
      ]
     },
     "execution_count": 11,
     "metadata": {},
     "output_type": "execute_result"
    }
   ],
   "source": [
    "[infodict[i][\"message\"] for item in infodict]"
   ]
  },
  {
   "cell_type": "markdown",
   "metadata": {},
   "source": [
    "## Riqueza"
   ]
  },
  {
   "cell_type": "code",
   "execution_count": 15,
   "metadata": {
    "collapsed": false,
    "deletable": true,
    "editable": true
   },
   "outputs": [
    {
     "data": {
      "text/plain": [
       "7.4500000000000002"
      ]
     },
     "execution_count": 15,
     "metadata": {},
     "output_type": "execute_result"
    }
   ],
   "source": [
    "# Con bio_min = 0.0001\n",
    "riqueza = np.zeros((len(comunidades), t_total+1))\n",
    "for i in range(len(comunidades)):  \n",
    "    for t in range(t_total+1):\n",
    "        riqueza[i][t] = riqueza_sin_espacio(poblacion[i], t, bio_min=0.0001)   \n",
    "        \n",
    "riqueza_promedio = np.mean([np.mean(x[-10:]) for x in riqueza])\n",
    "riqueza_promedio"
   ]
  },
  {
   "cell_type": "code",
   "execution_count": 64,
   "metadata": {
    "collapsed": true,
    "deletable": true,
    "editable": true
   },
   "outputs": [
    {
     "data": {
      "text/plain": [
       "3.8700000000000001"
      ]
     },
     "execution_count": 64,
     "metadata": {},
     "output_type": "execute_result"
    },
    {
     "data": {
      "text/plain": [
       "2.0671477934584166"
      ]
     },
     "execution_count": 64,
     "metadata": {},
     "output_type": "execute_result"
    }
   ],
   "source": [
    "# Con bio_min = 15\n",
    "riqueza = np.zeros((len(comunidades), t_total+1))\n",
    "for i in range(len(comunidades)):  \n",
    "    for t in range(t_total+1):\n",
    "        riqueza[i][t] = riqueza_sin_espacio(poblacion[i], t, bio_min=15)   \n",
    "        \n",
    "riqueza_promedio = np.mean([np.mean(x[-10:]) for x in riqueza])\n",
    "riqueza_sd = np.std([np.mean(x[-10:]) for x in riqueza])\n",
    "riqueza_promedio\n",
    "riqueza_sd"
   ]
  },
  {
   "cell_type": "markdown",
   "metadata": {},
   "source": [
    "¿Cuál es la abundancia que alcanza cada especie de cada comunidad?"
   ]
  },
  {
   "cell_type": "code",
   "execution_count": 43,
   "metadata": {
    "collapsed": false
   },
   "outputs": [
    {
     "name": "stdout",
     "output_type": "stream",
     "text": [
      "[   5.2517   -0.       45.9734    5.8159   40.0902   65.711    38.2223\n",
      "   83.7342  112.3598    6.5777]\n"
     ]
    }
   ],
   "source": [
    "abundancia = poblacion[:, -1, :] # abundancia[comunidad, especie]"
   ]
  },
  {
   "cell_type": "code",
   "execution_count": 44,
   "metadata": {
    "collapsed": true
   },
   "outputs": [],
   "source": [
    "np.save(\"./datos/exp3\", abundancia)"
   ]
  },
  {
   "cell_type": "markdown",
   "metadata": {
    "collapsed": true,
    "deletable": true,
    "editable": true,
    "heading_collapsed": true
   },
   "source": [
    "## Graficar"
   ]
  },
  {
   "cell_type": "code",
   "execution_count": 19,
   "metadata": {
    "collapsed": true,
    "deletable": true,
    "editable": true,
    "hidden": true
   },
   "outputs": [],
   "source": [
    "import matplotlib.pyplot as plt"
   ]
  },
  {
   "cell_type": "code",
   "execution_count": 20,
   "metadata": {
    "collapsed": true,
    "deletable": true,
    "editable": true,
    "hidden": true
   },
   "outputs": [],
   "source": [
    "%matplotlib inline"
   ]
  },
  {
   "cell_type": "code",
   "execution_count": 26,
   "metadata": {
    "collapsed": false,
    "deletable": true,
    "editable": true,
    "hidden": true
   },
   "outputs": [
    {
     "data": {
      "image/png": "[encoded data removed]",
      "text/plain": [
       "<matplotlib.figure.Figure at 0x747e030>"
      ]
     },
     "metadata": {},
     "output_type": "display_data"
    }
   ],
   "source": [
    "plt.hist([x[-1] for x in riqueza], bins=11, range=(0, 10));"
   ]
  },
  {
   "cell_type": "code",
   "execution_count": 76,
   "metadata": {
    "collapsed": true,
    "deletable": true,
    "editable": true,
    "hidden": true
   },
   "outputs": [],
   "source": [
    "from scipy.stats import shapiro, normaltest"
   ]
  },
  {
   "cell_type": "code",
   "execution_count": 69,
   "metadata": {
    "collapsed": false,
    "deletable": true,
    "editable": true,
    "hidden": true
   },
   "outputs": [
    {
     "data": {
      "text/plain": [
       "(0.9619668126106262, 0.005567459389567375)"
      ]
     },
     "execution_count": 69,
     "metadata": {},
     "output_type": "execute_result"
    }
   ],
   "source": [
    "shapiro([x[-1] for x in riqueza])"
   ]
  },
  {
   "cell_type": "code",
   "execution_count": 72,
   "metadata": {
    "collapsed": false,
    "deletable": true,
    "editable": true,
    "hidden": true
   },
   "outputs": [
    {
     "data": {
      "text/plain": [
       "NormaltestResult(statistic=4.8360357304633537, pvalue=0.089098046884693319)"
      ]
     },
     "execution_count": 72,
     "metadata": {},
     "output_type": "execute_result"
    }
   ],
   "source": [
    "normaltest([x[-1] for x in riqueza])"
   ]
  },
  {
   "cell_type": "code",
   "execution_count": null,
   "metadata": {
    "collapsed": true,
    "deletable": true,
    "editable": true,
    "hidden": true
   },
   "outputs": [],
   "source": []
  }
 ],
 "metadata": {
  "kernelspec": {
   "display_name": "Python 3",
   "language": "python",
   "name": "python3"
  },
  "language_info": {
   "codemirror_mode": {
    "name": "ipython",
    "version": 3
   },
   "file_extension": ".py",
   "mimetype": "text/x-python",
   "name": "python",
   "nbconvert_exporter": "python",
   "pygments_lexer": "ipython3",
   "version": "3.5.2"
  }
 },
 "nbformat": 4,
 "nbformat_minor": 0
}
