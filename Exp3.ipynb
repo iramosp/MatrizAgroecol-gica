{
 "cells": [
  {
   "cell_type": "markdown",
   "metadata": {},
   "source": [
    "# Experimento 3"
   ]
  },
  {
   "cell_type": "markdown",
   "metadata": {},
   "source": [
    "Experimento 3. Todas las comunidades sin dinámica espacial."
   ]
  },
  {
   "cell_type": "code",
   "execution_count": 1,
   "metadata": {
    "collapsed": false
   },
   "outputs": [],
   "source": [
    "import numpy as np\n",
    "import math, os, random\n",
    "from scipy.integrate import odeint\n",
    "from copy import deepcopy"
   ]
  },
  {
   "cell_type": "code",
   "execution_count": null,
   "metadata": {
    "collapsed": true
   },
   "outputs": [],
   "source": [
    "%run modelo.py"
   ]
  },
  {
   "cell_type": "markdown",
   "metadata": {},
   "source": [
    "## Comunidades"
   ]
  },
  {
   "cell_type": "code",
   "execution_count": 4,
   "metadata": {
    "collapsed": true
   },
   "outputs": [],
   "source": [
    "files = []\n",
    "with open('iteraciones.txt', 'r') as file:\n",
    "    rows = file.readlines()\n",
    "    for row in rows:\n",
    "        files.append([row[:20], int(row[-2])])"
   ]
  },
  {
   "cell_type": "code",
   "execution_count": 5,
   "metadata": {
    "collapsed": true
   },
   "outputs": [],
   "source": [
    "all_condiciones_iniciales = [np.loadtxt(\"./comunidades/\" + file[0][:20] + \"-c.txt\") for file in files]\n",
    "all_tasas_reproduccion = [np.loadtxt(\"./comunidades/\" + file[0][:20] + \"-v.txt\") for file in files]\n",
    "all_matriz_interacciones = [np.loadtxt(\"./comunidades/\" + file[0][:20] + '-m.txt') for file in files]"
   ]
  },
  {
   "cell_type": "code",
   "execution_count": 6,
   "metadata": {
    "collapsed": true
   },
   "outputs": [],
   "source": [
    "def modificar_matriz(m):\n",
    "    for i in range(10):\n",
    "        m[i][i] *= 15\n",
    "    return m\n",
    "\n",
    "def modificar_tasas(tasa):\n",
    "    tasa[tasa > 0] = tasa[tasa > 0] * 20\n",
    "    return tasa\n",
    "\n",
    "def modificar_condiciones0(c0):\n",
    "    c0 = c0 * 10\n",
    "    return c0"
   ]
  },
  {
   "cell_type": "code",
   "execution_count": 7,
   "metadata": {
    "collapsed": true
   },
   "outputs": [],
   "source": [
    "matriz_interacciones = deepcopy(all_matriz_interacciones)\n",
    "matriz_interacciones = [modificar_matriz(m) for m in matriz_interacciones]\n",
    "\n",
    "tasas_reproduccion = deepcopy(all_tasas_reproduccion)\n",
    "tasas_reproduccion = [modificar_tasas(tasa) for tasa in tasas_reproduccion]\n",
    "\n",
    "condiciones_iniciales = deepcopy(all_condiciones_iniciales)\n",
    "condiciones_iniciales = [modificar_condiciones0(c) for c in condiciones_iniciales]"
   ]
  },
  {
   "cell_type": "code",
   "execution_count": 8,
   "metadata": {
    "collapsed": true
   },
   "outputs": [],
   "source": [
    "random.seed(17)\n",
    "comunidades = random.sample(range(201), 100)"
   ]
  },
  {
   "cell_type": "markdown",
   "metadata": {},
   "source": [
    "## Parámetros iniciales"
   ]
  },
  {
   "cell_type": "code",
   "execution_count": 10,
   "metadata": {
    "collapsed": false
   },
   "outputs": [],
   "source": [
    "t_total = 500\n",
    "tiempo = np.linspace(0, t_total, t_total+1)"
   ]
  },
  {
   "cell_type": "markdown",
   "metadata": {},
   "source": [
    "## Experimento"
   ]
  },
  {
   "cell_type": "code",
   "execution_count": 12,
   "metadata": {
    "collapsed": true
   },
   "outputs": [],
   "source": [
    "def riqueza_sin_espacio(poblacion, t, bio_min=0.001):\n",
    "    return (sum([i>bio_min for i in poblacion[t]]))"
   ]
  },
  {
   "cell_type": "code",
   "execution_count": null,
   "metadata": {
    "collapsed": false
   },
   "outputs": [],
   "source": [
    "poblacion = np.zeros((len(comunidades), t_total+1, 10))\n",
    "infodict = [None] * len(comunidades)\n",
    "\n",
    "for i, m in enumerate(comunidades):\n",
    "    poblacion[i], infodict[i] = odeint(lotka, condiciones_iniciales[m], tiempo, \n",
    "           args=(tasas_reproduccion[m],matriz_interacciones[m]),\n",
    "        full_output=True)"
   ]
  },
  {
   "cell_type": "code",
   "execution_count": null,
   "metadata": {
    "collapsed": true
   },
   "outputs": [],
   "source": [
    "#np.save(\"./datos/exp3\", poblacion)"
   ]
  },
  {
   "cell_type": "code",
   "execution_count": 2,
   "metadata": {
    "collapsed": true
   },
   "outputs": [],
   "source": [
    "poblacion = np.load('./datos/exp3.npy')"
   ]
  },
  {
   "cell_type": "code",
   "execution_count": null,
   "metadata": {
    "collapsed": true
   },
   "outputs": [],
   "source": [
    "[infodict[i][\"message\"] for item in infodict]"
   ]
  },
  {
   "cell_type": "code",
   "execution_count": 13,
   "metadata": {
    "collapsed": false,
    "scrolled": true
   },
   "outputs": [
    {
     "data": {
      "text/plain": [
       "7.4500000000000002"
      ]
     },
     "execution_count": 13,
     "metadata": {},
     "output_type": "execute_result"
    }
   ],
   "source": [
    "# Con bio_min = 0.0001\n",
    "riqueza = np.zeros((len(comunidades), t_total+1))\n",
    "for i in range(len(comunidades)):  \n",
    "    for t in range(t_total+1):\n",
    "        riqueza[i][t] = riqueza_sin_espacio(poblacion[i], t, bio_min=0.0001)   \n",
    "        \n",
    "riqueza_promedio = np.mean([np.mean(x[-10:]) for x in riqueza])\n",
    "riqueza_promedio"
   ]
  },
  {
   "cell_type": "code",
   "execution_count": 14,
   "metadata": {
    "collapsed": false,
    "scrolled": true
   },
   "outputs": [
    {
     "data": {
      "text/plain": [
       "3.8700000000000001"
      ]
     },
     "execution_count": 14,
     "metadata": {},
     "output_type": "execute_result"
    }
   ],
   "source": [
    "# Con bio_min = 15\n",
    "riqueza = np.zeros((len(comunidades), t_total+1))\n",
    "for i in range(len(comunidades)):  \n",
    "    for t in range(t_total+1):\n",
    "        riqueza[i][t] = riqueza_sin_espacio(poblacion[i], t, bio_min=15)   \n",
    "        \n",
    "riqueza_promedio = np.mean([np.mean(x[-10:]) for x in riqueza])\n",
    "riqueza_promedio"
   ]
  },
  {
   "cell_type": "code",
   "execution_count": null,
   "metadata": {
    "collapsed": true
   },
   "outputs": [],
   "source": []
  }
 ],
 "metadata": {
  "kernelspec": {
   "display_name": "Python 3",
   "language": "python",
   "name": "python3"
  },
  "language_info": {
   "codemirror_mode": {
    "name": "ipython",
    "version": 3
   },
   "file_extension": ".py",
   "mimetype": "text/x-python",
   "name": "python",
   "nbconvert_exporter": "python",
   "pygments_lexer": "ipython3",
   "version": "3.5.2"
  }
 },
 "nbformat": 4,
 "nbformat_minor": 0
}
