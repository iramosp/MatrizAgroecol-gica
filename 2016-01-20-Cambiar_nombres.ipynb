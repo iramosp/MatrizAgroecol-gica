{
 "cells": [
  {
   "cell_type": "markdown",
   "metadata": {},
   "source": [
    "## Limpiar datos iteraciones"
   ]
  },
  {
   "cell_type": "code",
   "execution_count": 1,
   "metadata": {
    "collapsed": true
   },
   "outputs": [],
   "source": [
    "import csv, numpy, pandas, os"
   ]
  },
  {
   "cell_type": "code",
   "execution_count": 19,
   "metadata": {
    "collapsed": true
   },
   "outputs": [],
   "source": [
    "def cambiar_nombre(old_name, tipo):\n",
    "    Months = {\"Jan\": \"01\", \"Feb\": \"02\", \"May\": \"05\"}\n",
    "    i = 0\n",
    "    month = old_name[4:7]\n",
    "    month_num = Months[month]\n",
    "    day = old_name[8:10]  \n",
    "        \n",
    "    if len(old_name) == 29:\n",
    "        i = 1\n",
    "        day = \"0\" + old_name[8:9]\n",
    "        \n",
    "    time = old_name[11-i:19-i]\n",
    "    time_2 = time[0:2] + time[3:5] + time [6:8]\n",
    "    year = old_name[20-i:24-i]\n",
    "    cmv = old_name[25-i:]\n",
    "\n",
    "    new_name = year + \"-\" + month_num + \"-\" + day + \"-\" +\\\n",
    "                time_2 + \"-\" + tipo + \"-\" + cmv\n",
    "    \n",
    "    return(new_name)"
   ]
  },
  {
   "cell_type": "code",
   "execution_count": 135,
   "metadata": {
    "collapsed": false
   },
   "outputs": [],
   "source": [
    "iteraciones = []\n",
    "with open('iteracionesMMporLV.csv') as csvfile:\n",
    "    datos = csv.reader(csvfile)\n",
    "    for row in datos:\n",
    "        iteraciones.append(row)"
   ]
  },
  {
   "cell_type": "code",
   "execution_count": 136,
   "metadata": {
    "collapsed": false
   },
   "outputs": [],
   "source": [
    "iteraciones = numpy.array(iteraciones)"
   ]
  },
  {
   "cell_type": "code",
   "execution_count": 137,
   "metadata": {
    "collapsed": true
   },
   "outputs": [],
   "source": [
    "iteraciones[1][0] = 'iteraciones eq'\n",
    "iteraciones[2][0] = 'actual eq'\n",
    "iteraciones[3][0] = 'nombre eq'\n",
    "\n",
    "iteraciones[7][0] = 'iteraciones os'\n",
    "iteraciones[8][0] = 'actual os'\n",
    "iteraciones[9][0] = 'nombre os'"
   ]
  },
  {
   "cell_type": "code",
   "execution_count": 138,
   "metadata": {
    "collapsed": false
   },
   "outputs": [],
   "source": [
    "# Borrar filas, convertir a columnas\n",
    "mask = numpy.ones(len(iteraciones), dtype=bool)\n",
    "mask[[0,4,5,6]] = False\n",
    "iteraciones = iteraciones[mask,...]\n",
    "iteraciones = iteraciones.transpose()"
   ]
  },
  {
   "cell_type": "code",
   "execution_count": 139,
   "metadata": {
    "collapsed": true
   },
   "outputs": [],
   "source": [
    "# Separar comunidades de equilibrio y oscilantes\n",
    "iteraciones_eq = iteraciones[:, :3]\n",
    "iteraciones_os = iteraciones[:, 3:]"
   ]
  },
  {
   "cell_type": "code",
   "execution_count": 140,
   "metadata": {
    "collapsed": true
   },
   "outputs": [],
   "source": [
    "# Quitar filas vacías\n",
    "iteraciones_eq = iteraciones_eq[iteraciones_eq[:, 2] != '']\n",
    "iteraciones_os = iteraciones_os[iteraciones_os[:, 2] != '']"
   ]
  },
  {
   "cell_type": "code",
   "execution_count": 141,
   "metadata": {
    "collapsed": true
   },
   "outputs": [],
   "source": [
    "for i, old_name in enumerate(iteraciones_os[1:, 2]):\n",
    "    iteraciones_os[i+1, 2] = cambiar_nombre(old_name[:30], 'os')[:-6]"
   ]
  },
  {
   "cell_type": "code",
   "execution_count": 142,
   "metadata": {
    "collapsed": false,
    "scrolled": true
   },
   "outputs": [],
   "source": [
    "for i, old_name in enumerate(iteraciones_eq[1:, 2]):\n",
    "    iteraciones_eq[i+1, 2] = cambiar_nombre(old_name[:30], 'eq')[:-6]"
   ]
  },
  {
   "cell_type": "code",
   "execution_count": 143,
   "metadata": {
    "collapsed": false
   },
   "outputs": [],
   "source": [
    "# Juntar eq y os de nuevo, borrar títulos de col, acomodar\n",
    "iteraciones = numpy.concatenate((iteraciones_eq, iteraciones_os))\n",
    "mask = numpy.ones(len(iteraciones), dtype=bool)\n",
    "mask[[0,97]] = False\n",
    "iteraciones = iteraciones[mask,...]\n",
    "iteraciones = iteraciones[numpy.argsort(iteraciones[:, 2]), :]"
   ]
  },
  {
   "cell_type": "code",
   "execution_count": 188,
   "metadata": {
    "collapsed": true
   },
   "outputs": [],
   "source": [
    "files = os.listdir(\"./comunidades\")\n",
    "files.sort()\n",
    "files = list(filter(lambda x: x[-5] == \"m\", files))\n",
    "\n",
    "files = numpy.array(files)\n",
    "files = numpy.append(files, numpy.zeros((201)))\n",
    "files = numpy.reshape(files, (201, 2), order='F')"
   ]
  },
  {
   "cell_type": "code",
   "execution_count": 189,
   "metadata": {
    "collapsed": false
   },
   "outputs": [],
   "source": [
    "for n, file in enumerate(files):\n",
    "    try:\n",
    "        i = iteraciones[iteraciones[:, 2] == file[0][:20]][0, 0]    \n",
    "        files[n, 1] = int(i[-1])\n",
    "    except(IndexError): #si no está\n",
    "        pass"
   ]
  },
  {
   "cell_type": "code",
   "execution_count": 190,
   "metadata": {
    "collapsed": false
   },
   "outputs": [],
   "source": [
    "for file in files:\n",
    "    file[0] = file[0][:20]\n",
    "    try:\n",
    "        file[1] = int(file[1])\n",
    "    except(ValueError): # si no hay datos ie 0.0\n",
    "        file[1] = 0"
   ]
  },
  {
   "cell_type": "code",
   "execution_count": 191,
   "metadata": {
    "collapsed": true
   },
   "outputs": [],
   "source": [
    "filestest = numpy.array2string(files)"
   ]
  },
  {
   "cell_type": "code",
   "execution_count": 193,
   "metadata": {
    "collapsed": false
   },
   "outputs": [],
   "source": [
    "numpy.savetxt('iteraciones.txt', files, fmt=['%.20s', '%1s'])"
   ]
  },
  {
   "cell_type": "code",
   "execution_count": 220,
   "metadata": {
    "collapsed": false
   },
   "outputs": [],
   "source": [
    "iteracionesf = []\n",
    "with open('iteraciones.txt', 'r') as file:\n",
    "    rows = file.readlines()\n",
    "    for row in rows:\n",
    "        iteracionesf.append([row[:20], int(row[-2])])"
   ]
  }
 ],
 "metadata": {
  "kernelspec": {
   "display_name": "Python 3",
   "language": "python",
   "name": "python3"
  },
  "language_info": {
   "codemirror_mode": {
    "name": "ipython",
    "version": 3
   },
   "file_extension": ".py",
   "mimetype": "text/x-python",
   "name": "python",
   "nbconvert_exporter": "python",
   "pygments_lexer": "ipython3",
   "version": "3.5.2"
  }
 },
 "nbformat": 4,
 "nbformat_minor": 0
}
