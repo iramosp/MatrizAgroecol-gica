{
 "cells": [
  {
   "cell_type": "code",
   "execution_count": null,
   "metadata": {
    "collapsed": true,
    "deletable": true,
    "editable": true
   },
   "outputs": [],
   "source": [
    "import os, shutil"
   ]
  },
  {
   "cell_type": "code",
   "execution_count": null,
   "metadata": {
    "collapsed": false,
    "deletable": true,
    "editable": true
   },
   "outputs": [],
   "source": [
    "Months = {\"Jan\": \"01\", \"Feb\": \"02\", \"May\": \"05\"}\n",
    "abs_path_new = os.path.abspath(\".\\comunidades\")\n",
    "\n",
    "folders = os.listdir(\".\\comunidades\")\n",
    "for folder in folders:\n",
    "    filenames = os.listdir(\".\\comunidades\\%s\" % folder)\n",
    "    abs_path_old = os.path.abspath(\".\\comunidades\\%s\" % folder)\n",
    "    \n",
    "    tipo = folder[:2]\n",
    "   \n",
    "    for old_name in filenames:\n",
    "        i = 0\n",
    "        month = old_name[4:7]\n",
    "        month_num = Months[month]\n",
    "        day = old_name[8:10]  \n",
    "        \n",
    "        if len(old_name) == 29:\n",
    "            i = 1\n",
    "            day = \"0\" + old_name[8:9]\n",
    "        \n",
    "        time = old_name[11-i:19-i]\n",
    "        time_2 = time[0:2] + time[3:5] + time [6:8]\n",
    "        year = old_name[20-i:24-i]\n",
    "        cmv = old_name[25-i:]\n",
    "\n",
    "        new_name = year + \"-\" + month_num + \"-\" + day + \"-\" +\\\n",
    "                   time_2 + \"-\" + tipo + \"-\" + cmv\n",
    "\n",
    "        old_path = os.path.join(abs_path_old, old_name)\n",
    "        new_path = os.path.join(abs_path_new, new_name)\n",
    "\n",
    "        #print(\"Renaming %s to \\n         %s\" % (old_path, new_path))\n",
    "        #shutil.move(old_path, new_path)   # uncomment after testing"
   ]
  },
  {
   "cell_type": "code",
   "execution_count": null,
   "metadata": {
    "collapsed": false,
    "deletable": true,
    "editable": true
   },
   "outputs": [],
   "source": [
    "files = os.listdir(\".\\comunidades\")\n",
    "for file in files: \n",
    "    if len(file) != 26:\n",
    "        print(len(file))"
   ]
  },
  {
   "cell_type": "markdown",
   "metadata": {
    "deletable": true,
    "editable": true
   },
   "source": [
    "## Datos de iteraciones"
   ]
  },
  {
   "cell_type": "code",
   "execution_count": 1,
   "metadata": {
    "collapsed": false,
    "deletable": true,
    "editable": true
   },
   "outputs": [],
   "source": [
    "import csv, numpy, pandas\n",
    "iteraciones_oscila = [''] * 3\n",
    "iteraciones_puntofijo = [''] * 3\n",
    "\n",
    "with open('oscila.csv') as csvfile:\n",
    "    i=0\n",
    "    datos = csv.reader(csvfile)\n",
    "    for row in datos:\n",
    "        iteraciones_oscila[i] = row\n",
    "        i += 1\n",
    "        \n",
    "with open('punto_fijo.csv') as csvfile:\n",
    "    i=0\n",
    "    datos = csv.reader(csvfile)\n",
    "    for row in datos:\n",
    "        iteraciones_puntofijo[i] = row\n",
    "        i += 1"
   ]
  },
  {
   "cell_type": "code",
   "execution_count": 2,
   "metadata": {
    "collapsed": false,
    "deletable": true,
    "editable": true
   },
   "outputs": [],
   "source": [
    "iteraciones_oscila = numpy.array(iteraciones_oscila)\n",
    "iteraciones_oscila = numpy.transpose(iteraciones_oscila)\n",
    "\n",
    "iteraciones_puntofijo = numpy.array(iteraciones_puntofijo)\n",
    "iteraciones_puntofijo = numpy.transpose(iteraciones_puntofijo)"
   ]
  },
  {
   "cell_type": "code",
   "execution_count": 3,
   "metadata": {
    "collapsed": false,
    "deletable": true,
    "editable": true
   },
   "outputs": [],
   "source": [
    "oscila = pandas.DataFrame(iteraciones_oscila)\n",
    "puntof = pandas.DataFrame(iteraciones_puntofijo)"
   ]
  },
  {
   "cell_type": "code",
   "execution_count": 4,
   "metadata": {
    "collapsed": true,
    "deletable": true,
    "editable": true
   },
   "outputs": [],
   "source": [
    "def cambiar_nombre(old_name, tipo):\n",
    "    Months = {\"Jan\": \"01\", \"Feb\": \"02\", \"May\": \"05\"}\n",
    "    i = 0\n",
    "    month = old_name[4:7]\n",
    "    month_num = Months[month]\n",
    "    day = old_name[8:10]  \n",
    "        \n",
    "    if len(old_name) == 29:\n",
    "        i = 1\n",
    "        day = \"0\" + old_name[8:9]\n",
    "        \n",
    "    time = old_name[11-i:19-i]\n",
    "    time_2 = time[0:2] + time[3:5] + time [6:8]\n",
    "    year = old_name[20-i:24-i]\n",
    "    cmv = old_name[25-i:]\n",
    "\n",
    "    new_name = year + \"-\" + month_num + \"-\" + day + \"-\" +\\\n",
    "                time_2 + \"-\" + tipo + \"-\" + cmv\n",
    "    \n",
    "    return(new_name)"
   ]
  },
  {
   "cell_type": "code",
   "execution_count": 5,
   "metadata": {
    "collapsed": false,
    "deletable": true,
    "editable": true
   },
   "outputs": [],
   "source": [
    "#len_names = [len(name[:30]) for name in oscila[2][1:]]\n",
    "#names = [name[:30] for name in oscila[2][1:]]\n",
    "\n",
    "oscila[2][1:] = [cambiar_nombre(old_name[:30], 'os')[:-6] for old_name in oscila[2][1:]]\n",
    "puntof[2][1:] = [cambiar_nombre(old_name[:30], 'eq')[:-6] for old_name in puntof[2][1:]]"
   ]
  },
  {
   "cell_type": "code",
   "execution_count": 6,
   "metadata": {
    "collapsed": false,
    "deletable": true,
    "editable": true
   },
   "outputs": [],
   "source": [
    "oscila.columns=['iteraciones', 'num', 'comunidad']\n",
    "puntof.columns=['iteraciones', 'num', 'comunidad']"
   ]
  },
  {
   "cell_type": "code",
   "execution_count": 7,
   "metadata": {
    "collapsed": false,
    "deletable": true,
    "editable": true
   },
   "outputs": [],
   "source": [
    "oscila = oscila.drop(0)\n",
    "puntof = puntof.drop(0)"
   ]
  },
  {
   "cell_type": "code",
   "execution_count": 12,
   "metadata": {
    "collapsed": false,
    "deletable": true,
    "editable": true
   },
   "outputs": [
    {
     "data": {
      "text/plain": [
       "1      iteraciones 4\n",
       "2      iteraciones 5\n",
       "3      iteraciones 5\n",
       "4      iteraciones 6\n",
       "5      iteraciones 3\n",
       "6      iteraciones 4\n",
       "7      iteraciones 4\n",
       "8      iteraciones 6\n",
       "9      iteraciones 1\n",
       "10     iteraciones 4\n",
       "11     iteraciones 6\n",
       "12     iteraciones 6\n",
       "13     iteraciones 5\n",
       "14     iteraciones 5\n",
       "15     iteraciones 5\n",
       "16     iteraciones 3\n",
       "17     iteraciones 3\n",
       "18     iteraciones 4\n",
       "19     iteraciones 2\n",
       "20     iteraciones 4\n",
       "21     iteraciones 3\n",
       "22     iteraciones 2\n",
       "23     iteraciones 3\n",
       "24     iteraciones 1\n",
       "25     iteraciones 3\n",
       "26     iteraciones 1\n",
       "27     iteraciones 6\n",
       "28     iteraciones 3\n",
       "29     iteraciones 4\n",
       "30     iteraciones 6\n",
       "           ...      \n",
       "71     iteraciones 5\n",
       "72     iteraciones 6\n",
       "73     iteraciones 6\n",
       "74     iteraciones 7\n",
       "75     iteraciones 4\n",
       "76     iteraciones 3\n",
       "77     iteraciones 3\n",
       "78     iteraciones 3\n",
       "79     iteraciones 4\n",
       "80     iteraciones 1\n",
       "81     iteraciones 4\n",
       "82     iteraciones 2\n",
       "83     iteraciones 1\n",
       "84     iteraciones 1\n",
       "85     iteraciones 1\n",
       "86     iteraciones 5\n",
       "87     iteraciones 1\n",
       "88     iteraciones 4\n",
       "89     iteraciones 2\n",
       "90     iteraciones 5\n",
       "91     iteraciones 3\n",
       "92     iteraciones 6\n",
       "93     iteraciones 2\n",
       "94     iteraciones 7\n",
       "95     iteraciones 5\n",
       "96     iteraciones 3\n",
       "97     iteraciones 3\n",
       "98     iteraciones 3\n",
       "99     iteraciones 2\n",
       "100    iteraciones 4\n",
       "Name: iteraciones, dtype: object"
      ]
     },
     "execution_count": 12,
     "metadata": {},
     "output_type": "execute_result"
    }
   ],
   "source": [
    "oscila['iteraciones']"
   ]
  },
  {
   "cell_type": "code",
   "execution_count": null,
   "metadata": {
    "collapsed": true,
    "deletable": true,
    "editable": true
   },
   "outputs": [],
   "source": []
  }
 ],
 "metadata": {
  "kernelspec": {
   "display_name": "Python 3",
   "language": "python",
   "name": "python3"
  },
  "language_info": {
   "codemirror_mode": {
    "name": "ipython",
    "version": 3
   },
   "file_extension": ".py",
   "mimetype": "text/x-python",
   "name": "python",
   "nbconvert_exporter": "python",
   "pygments_lexer": "ipython3",
   "version": "3.5.2"
  }
 },
 "nbformat": 4,
 "nbformat_minor": 0
}
